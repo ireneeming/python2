{
  "nbformat": 4,
  "nbformat_minor": 0,
  "metadata": {
    "colab": {
      "name": "Lecture5_e.ipynb",
      "provenance": [],
      "collapsed_sections": [],
      "authorship_tag": "ABX9TyNG6yRAFNbAuH0bQhHpZMJM",
      "include_colab_link": true
    },
    "kernelspec": {
      "name": "python3",
      "display_name": "Python 3"
    },
    "language_info": {
      "name": "python"
    }
  },
  "cells": [
    {
      "cell_type": "markdown",
      "metadata": {
        "id": "view-in-github",
        "colab_type": "text"
      },
      "source": [
        "<a href=\"https://colab.research.google.com/github/taeheonkwon/python2/blob/main/Lecture5.ipynb\" target=\"_parent\"><img src=\"https://colab.research.google.com/assets/colab-badge.svg\" alt=\"Open In Colab\"/></a>"
      ]
    },
    {
      "cell_type": "markdown",
      "metadata": {
        "id": "IeVxHS5xpuEa"
      },
      "source": [
        "># Lists\n",
        ">Lists are used to store multiple items in a single variable.\n",
        ">\n",
        ">Lists are created using square brackets.\n",
        ">\n",
        ">List is a collection which is ordered and changeable. Allows duplicate members.\n",
        ">\n",
        ">Constructor : list()"
      ]
    },
    {
      "cell_type": "markdown",
      "metadata": {
        "id": "_Xv48Q4KrFmB"
      },
      "source": [
        "Getting file list using glob in python"
      ]
    },
    {
      "cell_type": "code",
      "metadata": {
        "colab": {
          "base_uri": "https://localhost:8080/"
        },
        "id": "hkPtFCxYLt57",
        "outputId": "d87e6340-afe2-46d8-f5f7-15a540fcfe2d"
      },
      "source": [
        "%ls sample_data/"
      ],
      "execution_count": null,
      "outputs": [
        {
          "output_type": "stream",
          "text": [
            "\u001b[0m\u001b[01;32manscombe.json\u001b[0m*                mnist_test.csv\n",
            "california_housing_test.csv   mnist_train_small.csv\n",
            "california_housing_train.csv  \u001b[01;32mREADME.md\u001b[0m*\n"
          ],
          "name": "stdout"
        }
      ]
    },
    {
      "cell_type": "code",
      "metadata": {
        "colab": {
          "base_uri": "https://localhost:8080/"
        },
        "id": "Z93BamCPtllW",
        "outputId": "788565fa-ef1b-4973-82d9-49d2830dc94a"
      },
      "source": [
        "import glob\n",
        "file_list = glob.glob('**/*.*', recursive=True)\n",
        "file_list"
      ],
      "execution_count": null,
      "outputs": [
        {
          "output_type": "execute_result",
          "data": {
            "text/plain": [
              "['sample_data/anscombe.json',\n",
              " 'sample_data/README.md',\n",
              " 'sample_data/mnist_test.csv',\n",
              " 'sample_data/mnist_train_small.csv',\n",
              " 'sample_data/california_housing_train.csv',\n",
              " 'sample_data/california_housing_test.csv']"
            ]
          },
          "metadata": {
            "tags": []
          },
          "execution_count": 1
        }
      ]
    },
    {
      "cell_type": "markdown",
      "metadata": {
        "id": "alJP1-xHuckb"
      },
      "source": [
        "## 1. Access List Items : Indexing & Slicing"
      ]
    },
    {
      "cell_type": "code",
      "metadata": {
        "colab": {
          "base_uri": "https://localhost:8080/",
          "height": 35
        },
        "id": "XqmUEePmt8Hx",
        "outputId": "9ab3666c-454f-419f-c7fb-c765fc12cead"
      },
      "source": [
        "file_list[0]"
      ],
      "execution_count": null,
      "outputs": [
        {
          "output_type": "execute_result",
          "data": {
            "application/vnd.google.colaboratory.intrinsic+json": {
              "type": "string"
            },
            "text/plain": [
              "'sample_data/anscombe.json'"
            ]
          },
          "metadata": {
            "tags": []
          },
          "execution_count": 71
        }
      ]
    },
    {
      "cell_type": "code",
      "metadata": {
        "colab": {
          "base_uri": "https://localhost:8080/"
        },
        "id": "GugKz67euq9p",
        "outputId": "2d93c532-db94-4b8f-9feb-0edbebf67c2b"
      },
      "source": [
        "file_list[:3]"
      ],
      "execution_count": null,
      "outputs": [
        {
          "output_type": "execute_result",
          "data": {
            "text/plain": [
              "['sample_data/anscombe.json',\n",
              " 'sample_data/README.md',\n",
              " 'sample_data/mnist_test.csv']"
            ]
          },
          "metadata": {
            "tags": []
          },
          "execution_count": 72
        }
      ]
    },
    {
      "cell_type": "code",
      "metadata": {
        "colab": {
          "base_uri": "https://localhost:8080/"
        },
        "id": "TqAQI4KUuttf",
        "outputId": "7e7daaf8-77ef-4ceb-c33d-480b60254096"
      },
      "source": [
        "file_list[3:]"
      ],
      "execution_count": null,
      "outputs": [
        {
          "output_type": "execute_result",
          "data": {
            "text/plain": [
              "['sample_data/mnist_train_small.csv',\n",
              " 'sample_data/california_housing_train.csv',\n",
              " 'sample_data/california_housing_test.csv']"
            ]
          },
          "metadata": {
            "tags": []
          },
          "execution_count": 73
        }
      ]
    },
    {
      "cell_type": "code",
      "metadata": {
        "colab": {
          "base_uri": "https://localhost:8080/"
        },
        "id": "lQMDnNt7uyUz",
        "outputId": "5eff6f4a-dce3-4542-c3b0-4201c4c9c9ef"
      },
      "source": [
        "file_list[::2]"
      ],
      "execution_count": null,
      "outputs": [
        {
          "output_type": "execute_result",
          "data": {
            "text/plain": [
              "['sample_data/anscombe.json',\n",
              " 'sample_data/mnist_test.csv',\n",
              " 'sample_data/california_housing_train.csv']"
            ]
          },
          "metadata": {
            "tags": []
          },
          "execution_count": 74
        }
      ]
    },
    {
      "cell_type": "markdown",
      "metadata": {
        "id": "PBdMh_B3vef8"
      },
      "source": [
        "## 2. Loop Lists\n",
        "\n",
        "You can loop through the list items by using a for loop:"
      ]
    },
    {
      "cell_type": "code",
      "metadata": {
        "colab": {
          "base_uri": "https://localhost:8080/"
        },
        "id": "fisQs5AavhB7",
        "outputId": "4edd7fbc-a0dc-4e7d-a552-8f7b5c58f7e2"
      },
      "source": [
        "for i in file_list:\n",
        "    print(i)\n",
        "\n",
        "print()\n",
        "\n",
        "for i in range(len(file_list)):\n",
        "    print(i, file_list[i])"
      ],
      "execution_count": null,
      "outputs": [
        {
          "output_type": "stream",
          "text": [
            "sample_data/anscombe.json\n",
            "sample_data/README.md\n",
            "sample_data/mnist_test.csv\n",
            "sample_data/mnist_train_small.csv\n",
            "sample_data/california_housing_train.csv\n",
            "sample_data/california_housing_test.csv\n",
            "\n",
            "0 sample_data/anscombe.json\n",
            "1 sample_data/README.md\n",
            "2 sample_data/mnist_test.csv\n",
            "3 sample_data/mnist_train_small.csv\n",
            "4 sample_data/california_housing_train.csv\n",
            "5 sample_data/california_housing_test.csv\n"
          ],
          "name": "stdout"
        }
      ]
    },
    {
      "cell_type": "markdown",
      "metadata": {
        "id": "yiN5Hx-EyXpt"
      },
      "source": [
        "## 3. Change List Items"
      ]
    },
    {
      "cell_type": "markdown",
      "metadata": {
        "id": "y0CqlgVo69YK"
      },
      "source": [
        "To change the value of a specific item, refer to the index number:"
      ]
    },
    {
      "cell_type": "code",
      "metadata": {
        "colab": {
          "base_uri": "https://localhost:8080/"
        },
        "id": "5Qv0Ezis6-q7",
        "outputId": "e19bf25f-2d76-46fa-fb25-0cf61650213d"
      },
      "source": [
        "file_list[1] = 'sample_data/readme.txt'\n",
        "file_list"
      ],
      "execution_count": null,
      "outputs": [
        {
          "output_type": "execute_result",
          "data": {
            "text/plain": [
              "['sample_data/anscombe.json',\n",
              " 'sample_data/readme.txt',\n",
              " 'sample_data/mnist_test.csv',\n",
              " 'sample_data/mnist_train_small.csv',\n",
              " 'sample_data/california_housing_train.csv',\n",
              " 'sample_data/california_housing_test.csv']"
            ]
          },
          "metadata": {
            "tags": []
          },
          "execution_count": 77
        }
      ]
    },
    {
      "cell_type": "markdown",
      "metadata": {
        "id": "ET-nJGf9z5di"
      },
      "source": [
        "To change the value of items within a specific range, define a list with the new values, and refer to the range of index numbers where you want to insert the new values:"
      ]
    },
    {
      "cell_type": "code",
      "metadata": {
        "colab": {
          "base_uri": "https://localhost:8080/"
        },
        "id": "ThNNvw7hEy4e",
        "outputId": "ad6d201b-71f0-4418-bb02-d71e1462e342"
      },
      "source": [
        "file_list[1:3] = ['sample_data/read', 'sample_data/output']\n",
        "file_list"
      ],
      "execution_count": null,
      "outputs": [
        {
          "output_type": "execute_result",
          "data": {
            "text/plain": [
              "['sample_data/anscombe.json',\n",
              " 'sample_data/read',\n",
              " 'sample_data/output',\n",
              " 'sample_data/mnist_train_small.csv',\n",
              " 'sample_data/california_housing_train.csv',\n",
              " 'sample_data/california_housing_test.csv']"
            ]
          },
          "metadata": {
            "tags": []
          },
          "execution_count": 78
        }
      ]
    },
    {
      "cell_type": "code",
      "metadata": {
        "colab": {
          "base_uri": "https://localhost:8080/"
        },
        "id": "Kr3cqKP7v-df",
        "outputId": "3ba87d62-f45c-4276-8902-6ddec4f7d429"
      },
      "source": [
        "for inum, item in enumerate(file_list):\n",
        "    file_list[inum]=item[12:]\n",
        "\n",
        "file_list"
      ],
      "execution_count": null,
      "outputs": [
        {
          "output_type": "execute_result",
          "data": {
            "text/plain": [
              "['', '', '', '', '.csv', 'csv']"
            ]
          },
          "metadata": {
            "tags": []
          },
          "execution_count": 7
        }
      ]
    },
    {
      "cell_type": "markdown",
      "metadata": {
        "id": "1AzMjR0TFeHW"
      },
      "source": [
        "## 4. List Methods\n",
        "\n",
        "![스크린샷 2021-03-19 오전 10.24.18.png](data:image/png;base64,iVBORw0KGgoAAAANSUhEUgAAArgAAAHRCAYAAACB08ogAAAYQWlDQ1BJQ0MgUHJvZmlsZQAAWIWVWQk4Vd3X3+fcmWue53me53meQ+aZcl3zFNeYaKBXhSYkGSJkKkRlCkWDlEhUlIqkiIqUZPwOqvf9v//n+b7n28+zz/ndtddee+211h7WPQBwKZMiIkJhegDCwqMp9maG/K5u7vy4SQADImADIkCBRI6KMLC1tQJI+f3+z7L4DECb70GZTVn/3f6/FgZfvygyAJAtgn18o8hhCL4GAFqVHEGJBgAzi9CF4qIjEIxFtATMFERBBAtv4oBtrL6Jfbax1RaPo70Rgr0BwBNJJEoAALSbevHHkgMQObQZSBtjuG9QOMJajGBdciDJFwDOMYRHOixsD4K5iAgW9/mHnID/kOnzRyaJFPAHb89lq+CNg6IiQkl7/5/m+L9LWGjM7zGEkEoMpJjbb855024heyw3MaI7dD/cZ6cNghkRPBTku8W/id8Hxpg7/eJfIkcZITYDrADARF+SsSWCuREsGB660+oXXdc/yNQCwYjtYcegaAvH7b6wL2WP/S/5cLxflInDb0yibI21yZMWE+Jk8Evm+UA/i98yWxMCHV229YQfxwY570QwLYJHo0IcLH/xfEwINNr5m4cSY7+pM+JzFPCnmNpv86CEw6J+zwulGRhksfMXtooOdDTf7ovaRSZt6caO4GC/KFer33r6+hmbbM8LlewX7vRLf1RmRLSh/S/+sohQ21/8qDa/ULNNuiCC+6JiHX73nYtGgm17vmgQEW3ruK0bmjmYtMN2Wwe0JLACRsAY8IMYpPqAPSAYBPXNNs0iv7ZbTAEJUEAA8AMyvyi/e7hstYQjTweQAD4hyA9E/elnuNXqB2IR+tof6vZTBvhvtcZu9QgB7xEcBixBKPI7ZqtX+J/RnME7hBL0X6OTEV1DkbrZ9l80frrfNKwJ1hhrjjXFSqA50bpoLbQV8tRHqiJaHa3xW6+/+THvMQOYt5inmDHMyO6gZMq/NOcH1mAM0dH01+x8/jk7tCgiVQVtiNZB5COy0axoTiCDVkZGMkDrIWOrINR/6hrzZ8Z/2/KXLII8ASawEfQJ4v/WgFaSVuWPlE1L/dMW23r5/LGW0Z+Wf8/D6B/280Xelv/mRB1FXUV1ozpRPag2VBPgR91ENaN6Ue2b+E9svNuKjd+j2W/pE4LICfqv8Ui/xty0WpT8Jflp+dVfbSDaLz56c7EY7YnYSwkKCIzmN0B2az9+i3CyrDS/oryiAgCbe//21rJgv7WnQ6z9f9N8EA71NWRr6/2bFrYKQO1hAHjv/k0TrUKWz34ALhWQYyix2zT05gMDqAAdslI4AC+yd4kjM1IEqkAL6AMTsAPYAEfgBnYhdg5E4pQC4kAiOARSQTo4Bc6APFAESkElqAENoAm0gU5wDzwEj8FT8BKJlUkwA+bAIliBIAgH0UBMEAfEB4lAUpAipA7pQiaQFWQPuUHeUAAUDsVAiVAKlA5lQnnQBagKqodaoE6oBxqARqBxaBr6Ci3DKJgIM8M8sCgsB6vDBrAl7Ah7wQFwJJwAH4ZPwLlwCXwZboQ74YfwU3gMnoG/owCKGsWKEkDJoNRRRigblDvKH0VB7UeloXJQJahaVCvi6UHUGGoW9RONRTOh+dEySLyao53QZHQkej86A52HrkQ3ou+gB9Hj6Dn0OoYGw42RwmhiLDCumABMHCYVk4Mpx1zH3EXWziRmEYvFsmLFsGrI2nPDBmP3YTOwhdg67C3sAHYC+x2Hw3HgpHA6OBscCReNS8Wdw13G3cQ9wU3ilvDUeD68It4U744Pxyfjc/DV+A78E/wH/AqBniBC0CTYEHwJewknCWWEVkI/YZKwQsVAJUalQ+VIFUx1iCqXqpbqLtUo1QI1NbUgtQa1HXUQ9UHqXOor1Pepx6l/EhmJkkQjoicxhniCWEG8RRwhLtDQ0IjS6NO400TTnKCporlN85pmiZaJVpbWgtaX9gBtPm0j7RPaz3QEOhE6A7pddAl0OXRX6frpZukJ9KL0RvQk+v30+fQt9M/pvzMwMSgw2DCEMWQwVDP0MEwx4hhFGU0YfRkPM5Yy3macYEIxCTEZMZGZUpjKmO4yTTJjmcWYLZiDmdOZa5j7mOdYGFmUWZxZ4lnyWdpZxlhRrKKsFqyhrCdZG1ifsS6z8bAZsPmxHWOrZXvC9oOdi12f3Y89jb2O/Sn7Mgc/hwlHCMdpjiaOV5xoTklOO844zvOcdzlnuZi5tLjIXGlcDVwvuGFuSW577n3cpdy93N95eHnMeCJ4zvHc5pnlZeXV5w3mzebt4J3mY+LT5Qviy+a7yfeRn4XfgD+UP5f/Dv+cALeAuUCMwAWBPoEVQTFBJ8FkwTrBV0JUQupC/kLZQl1Cc8J8wtbCicKXhF+IEETURQJFzop0i/wQFRN1ET0i2iQ6JcYuZiGWIHZJbFScRlxPPFK8RHxIAiuhLhEiUSjxWBKWVJEMlMyX7JeCpVSlgqQKpQakMdIa0uHSJdLPZYgyBjKxMpdkxmVZZa1kk2WbZD/LCcu5y52W65Zbl1eRD5Uvk3+pwKiwQyFZoVXhq6KkIlkxX3FIiUbJVOmAUrPSvLKUsp/yeeVhFSYVa5UjKl0qa6pqqhTVWtVpNWE1b7UCtefqzOq26hnq9zUwGoYaBzTaNH5qqmpGazZoftGS0QrRqtaa0hbT9tMu057QEdQh6VzQGdPl1/XWLdYd0xPQI+mV6L3VF9L31S/X/2AgYRBscNngs6G8IcXwuuEPI02jJKNbxihjM+M04z4TRhMnkzyT16aCpgGml0znzFTM9pndMseYW5qfNn9uwWNBtqiymNuhtiNpxx1LoqWDZZ7lWytJK4pVqzVsvcM6y3p0p8jO8J1NNsDGwibL5pWtmG2k7Q07rJ2tXb7de3sF+0T7bgcmh90O1Q6LjoaOJx1fOok7xTh1OdM5ezpXOf9wMXbJdBlzlXNNcn3oxukW5NbsjnN3di93/+5h4nHGY9JTxTPV85mXmFe8V88uzl2hu9p30+0m7b7qjfF28a72XiXZkEpI330sfAp85shG5LPkGV9932zfaT8dv0y/D/46/pn+UwE6AVkB04F6gTmBs0FGQXlB88HmwUXBP0JsQipCNkJdQuvC8GHeYS3hjOEh4Xf28O6J3zMQIRWRGjEWqRl5JnKOYkkpj4KivKKao5mRS3ZvjHjMXzHjsbqx+bFLcc5xV+MZ4sPje/dK7j2290OCacLFfeh95H1diQKJhxLHkwySLuyH9vvs7zogdODwgcmDZgcrD1EdCjn0KFk+OTP5W4pLSuthnsMHD0/8ZfbXpVTaVErq8yNaR4qOoo8GHe07pnTs3LH1NN+0B+ny6TnpqxnkjAfHFY7nHt844X+i76TqyfOnsKfCTz07rXe6MpMhMyFzIss6qzGbPzst+9uZ3Wd6cpRzis5SnY05O5Zrldt8TvjcqXOreYF5T/MN8+sKuAuOFfwo9C18cl7/fG0RT1F60XJxUPHwBbMLjSWiJTml2NLY0vdlzmXdF9UvVpVzlqeXr1WEV4xV2lfeqVKrqqrmrj55Cb4Uc2n6suflxzXGNc21MrUX6ljr0q+AKzFXPtZ71z9rsGzouqp+tfaayLWC60zX0xqhxr2Nc02BTWPNbs0DLTtaulq1Wq/fkL1R0SbQlt/O0n6yg6rjcMfGzYSb329F3JrtDOic6Nrd9fK26+2hO3Z3+u5a3r1/z/Te7W6D7pv3de639Wj2tDxQf9D0UPVhY69K7/VHKo+u96n2Nfar9Tc/1njcOqA90PFE70nnoPHgvSGLoYdPdz4deOb0bPi55/OxYd/hqZHQkfkXsS9WXh4cxYymvaJ/lfOa+3XJG4k3dWOqY+3jxuO9bx3evpwgT8y8i3q3Onn4Pc37nA98H6qmFKfapk2nH3/0+Dg5EzGzMpv6ieFTwWfxz9e+6H/pnXOdm5ynzG98zVjgWKj4pvyt67vt99eLYYsrP9KWOJYqf6r/7F52Wf6wEreKW81dk1hrXbdcH90I29iIIFFIW1cBFFJhf38AvlYAQOMGANNjAKg8tnOzXwWFXD5g5O0MyUIz8GGUImoKXYwhIWfdHK4Zn0EIoNKjZibS0zDS0tMx03MzCDBKMWkyW7P4sMazZbHXcvRyTnF9517jxfOx84sIyAvqCtkIe4tEiR4VKxRvkHgkhZEmyXTI8cvvUxhSklSOU+lSw6obaURrlmr1an/RpdJj0GcxYDfkMOI0ZjNhNqUzw5ttmH+zmNnxxnLQ6p51085Kmzzb43Yp9gkO0Y6RTlHOcS77XY+6ZbuXeNR41npV7yrfXep9gVTkU0y+4FvmV+VfF9ASeDuoP/h1yHwYNpxzj1SEZqQ5xSlqV7RfTGhsZFxs/N69SQkH9xUmtiYN7v94YP0QbTJXiuhh2b9UUjWP6B41PGaWZpdOySg43nNi6ZTEac/M41kd2bM5rGe1cj3Pxeedyi8taCx8cP5V0fwFdAlrqXiZxkWLcteKgMqYquTqE5fyL1+sqa+9Wdd/Zax+4Sr2Gtd1+UaTJrfmsJaDrZk3LrQdb4/ucLupc4uvE3S+7bp9u/xO+l3KPa/uHfc1e3h7Zh6UPXTpxfbWPXJ8tNSX16/XP/k4a8BkYPXJjcHkIZunfE8/P2t/njbsNMI3MvWi5mXkqNLot1cNryPeKL5ZG+sbL3obMaH/juHd28n694c+2E7xTX2avvHx2IzjLMfsyKezn92/CH35Ofdhfn5B4tvJRaklumW71dmNjS3/C0FXYCt4DpWDNkV/x1RgfXDCuCl8LSGayoBahMhAXKaZoX1J95j+LkMHYxNTM3MbSztrJ1sP+wBHN2c7VyN3Pc8l3kq+cv7zAlmCp4RKhbtFPouxiutLhErmSd2XXpQVlXOQ369QrTigtKjCrqquZqNO0gjWJGu5aVvrGOgq64noMxvABl8MXxrdM75ikmd62CzU3N5CdQeXJbD8YNVnfX1nkc0x21g7sr29g6GjopOwM6sL3mXF9ZPbG/cBjzueTUg0FO3O9k4jHfSJJYf7hvuF+4cFhAaGBAUHB4b4hZLCdoW773GJcIi0oVhHuUX7I1fmpLjU+BN7sxPO7StILEwq2l98oPhg8aHS5MaUvsNTqZgjgkg8kNNS0kszOo+/PvHjFO1poUy1LKtsnzPxOSfPluW2nuvPm8j/UUg4z1kkVax5wazEuTSwbP/F7PKaivuV76rBJZ7LWjUutZS6jCsX69saHl99dW36+vcmqJmmhaNV5IZ8m0a7YceOm7a3nDrduzxuO96xuKt9T6ab6z7u/lzPswctD/N7Ex959mn1c/YvPX42cO1J1mD0kOtT/Wcyz/mG2UfYXvC+lBzVfuXw2ueN+5jZuPJbgQnaifV3nyfH3z//0D/1cLrnY8/Mo9nBTx+/QHNs89JfjRe8v6V8r1+cWdL+WbzCvlq9brXlfylwB7KEhpEIuIeyQD1Fe6O/YVKxAtgmnANuAV9B8KJionpMfYJoT8NPM0f7gO4yfTbDIcZophBmLxYdVnbWBSQSijliOS25BLh+cD/iKeNN4nPhVxKgF/gg2CJ0VNhRhEdkTLREjCwuIv5eokpyj5S6NFp6QCZPliQnLjcrX68Qq6ipuK7UqXxYxUwVr/pALV3dWoOgcU8zRUtfa1W7WSdaV173o95FfW8DToMhwxNGFkbrxldNgk35TAfNjphrmX+yKNphZwlZNlj5WDNY392ZZKNp88P2mh0FuT98cah1DHeScfrkXOMS5irtOuVW4u7mwewx4HnKy2EXx663u2u995Esfbh9PpM7fTP9PP2F/GcCrgYmBpkE0wePhlSHJoRZhwuG/9zzJKIiMoKiRFmMaolOijGKJcYOx1XEJ+51SVDbx5WISvycNLL/9oGag2cPHUoOSXE+bPCXbCrPEZoj60fnj71Pe57ekXHheMoJv5Pmp2ROM51ey/yYNZr95MyjnIdn+3OHzg3njea/KXhXOHX+S9HiBVBCXcpRJnFRu9yuIrDyYFVu9ZVL3ZfHan7WMV2RqbdoCLiaeq38+v3G2WaGFr3W1BuD7bwd/jdrbi10ad3+687APeHuxPsvHxg+rH8k2Vf0GD1AetI5pPi09TllhPzy4mvP8arJwRnSgtCm/7f/o9ssWFUAzvAiGSo9AA5nADiOHBBiXwBgowLAlgYARw0A79ABMHMCgEx4/5wfEJJ4UgFGwI1km6pIJu0CgsFBkA2qwC0wDOYhIiSO5IZkKBkqhe5AH2BqWB52gZPhOvgViojSQUWgylAjaHokRzuEbkMvYVQxUZhLmDdYFqwlNhl7A8mxFHDhuFrcFySXisffIhAJ7oRqwjqSJdVRM1HvpR4nWhFbaCRpCpFMJwPJbY4i2cwJBhaGIkYZxjYma6Y3zBQWLEseqyxrF5sL2yx7MgcHRz2nPecyVxm3LfcaTw2vFx8dXxd/rICUwJhgjtBOYaxwu0i0qIzotFiVeKiEosSKZI9UnnS4jIksn+yq3Ev5doUMRS8lRWVq5SmVHtU6tTz1YxqJmhStMO0gnSDdYD1/fWsDZUNOI2D0HrkhN5peMDthvt8iakeoZYjVHuuEnWk2F2xb7AbtvzjSOMk427nEuRa79bqveMp4+ezK2/2UxOTjQM71feUvGBAQWBO0EKIZmhLWu4c9wj+yKYoqmhRzI44nvjXBKxGf1HIg4pBU8vThilTyUe5jg+lHjqufVDgdnvUwxyJ3Iv/YeYni+lKBi3srGqveXmautb5yomHkulxTZivUlngT3ZlzB77ndb/tIf+jI/3fnvgPvX7uMfJq1O/11/Gz73Z9kJmemo363DH34OvZbwrfKxc3lmR/OizbrVityq6h14bXT22Ybe0fEMAAImABAkAO6AE74AcSQSbi/S4wCpYgFkgZcoRioVyoDXoLE2AF2ANOh2/An1D8KGdUBuouGkLro/ehr6FnMaIYEqYQ8wLLjnXB5mJf4HhwPrgq3DxeC38U/4wgRkggDFBJUR2jmqP2oO4hahAv0wjSFNCy0+bScdIV04vTX2UwYBhiDGaCmQqZNZiHWeJZOVnb2XzY8exXONw5MZxXucjcLNwPeJJ5tXh/8F3njxFQFVgWvCl0RNhWhEVkVLRcjCJuIMEo8V6yXeqsdJSMvaySHJvcmvyEQodigVKSMknFQlVZTUidRYNaE6MFaQMdWBenR6OP0V82mDOcNHpp/MSkx7TLrN281aJ1R7vlXasB6/Gd322JdkL2Wg5OyC3mlPMVlyHXZXchDxvPA14Nu6a8BUm7fQrIz/0Y/K0CjgR2Ba0h3o4Paw5fjtCLPEoZihaOiYvtj1feW7APm0hJGj9gf/Besk5K819qqS1H9Y49SHfN+HjiyCnV0x+zys8EnVU5R5U3VdB/vr24oeRy2aXymsrG6s7Lj2qfXRlpeHrtfuOV5uOt3m1S7XM3azsDb5vd9eiO7El7ePHRzf6RgfkhzDOWYcEX0qPKrzXGNN7yvMNMzn8Ym+6baf1U9CV+3mQB/la1qPvj3k/95apV6jXy+tUt/8MAD5iBELL2rYA/SAFF4CYYg9DIqt8JRUP50G1oFmaFDeAouAoeR/GgPFCFqHG0GDoCfQODx7hgKjHrWDdsC44Xdwz3Ex+Kf4us70Eqa6oeamvqIaI38QtNMi0H7TU6B7pF+kIGc4YVxnqmUGYp5s8sjawpbA7sEhwwxxvObq4G7lKec7xn+M4i95DLiFeHhWdEfopRi/NLqEk6SEVKZ8m0yE7IMypYKp5WGlJhVXVSO63+UBOtpaMdp3NVd17fyCDf8Iexs0mTGYf5PotRS22rPOufNi62z+39HZadTruIuja7m3g88DLb1eEtRyogU/km+X0LCAv8GBwU8jEsNPxzRGTkt6i46OXYpHiOvbf3RSYJ7n968EiyWsrEX2lHpI52p+1O/3o8+ST7qfpMq6zpM0fPiuV25/kXYApLivSKX5REl9FerKgwqHxdnXSZt+ZWnW89oeHKNefra01lLZatX9vOdejf/NB58jbPnex7dN3He+genOnlfVTZr/i444n54JOnzs+Gh51H+l8aj157LfDmr7HZt+4Tw5O7309NhU9PzdjP1n2a+8I/pz1v9FV1gX/h07fW75RFzsWuH6Qf75dCl+Z/Rv98say/XL5CsxK1cm+VbtVltXh1ak1hbe9a19r8Os+6xXrMevF67/rShvCG7ca+jYqNwU3/R/krKW4dHxDREADM642NBVEAcJkArJ3e2Fgp2dhYK0WSjVEAboVuf/fZOmuQM6ZgYRM9EMiK//f3l/8BnCbcuE8DBqYAAAGdaVRYdFhNTDpjb20uYWRvYmUueG1wAAAAAAA8eDp4bXBtZXRhIHhtbG5zOng9ImFkb2JlOm5zOm1ldGEvIiB4OnhtcHRrPSJYTVAgQ29yZSA1LjQuMCI+CiAgIDxyZGY6UkRGIHhtbG5zOnJkZj0iaHR0cDovL3d3dy53My5vcmcvMTk5OS8wMi8yMi1yZGYtc3ludGF4LW5zIyI+CiAgICAgIDxyZGY6RGVzY3JpcHRpb24gcmRmOmFib3V0PSIiCiAgICAgICAgICAgIHhtbG5zOmV4aWY9Imh0dHA6Ly9ucy5hZG9iZS5jb20vZXhpZi8xLjAvIj4KICAgICAgICAgPGV4aWY6UGl4ZWxYRGltZW5zaW9uPjY5NjwvZXhpZjpQaXhlbFhEaW1lbnNpb24+CiAgICAgICAgIDxleGlmOlBpeGVsWURpbWVuc2lvbj40NjU8L2V4aWY6UGl4ZWxZRGltZW5zaW9uPgogICAgICA8L3JkZjpEZXNjcmlwdGlvbj4KICAgPC9yZGY6UkRGPgo8L3g6eG1wbWV0YT4KDTGLbwAAQABJREFUeAHsnQdcFMcXx3+HStFEwERR8481Ro0NEzX23nvvWLDH3lGToIktsfeOvYsaewfFFjViB0usiWCJgEYpKvufmb3duz0OuDuEIL714+3s7Js3M995u/t2dmbQSWwDbUSACBABIkAEiAARIAJEII0QsEsj9aBqEAEiQASIABEgAkSACBABQYAcXDIEIkAEiAARIAJEgAgQgTRFgBzcNNWcVBkiQASIABEgAkSACBABcnDJBogAESACRIAIEAEiQATSFAFycNNUc1JliAARIAJEgAgQASJABMjBJRsgAkSACBABIkAEiAARSFMEyMFNU81JlSECRIAIEAEiQASIABEgB5dsgAgQASJABIgAESACRCBNESAHN001J1WGCBABIkAEiAARIAJEgBxcsgEiQASIABEgAkSACBCBNEWAHNw01ZxUGSJABIgAESACRIAIEIH0SUHwOuQO/oyIFiokhxwonNdZoy464jbuhMSIuFhHV3yVx01z3vaDSPhP9MTMM5GIjq6JGXv7oZDtyhJMGeb/C9rMOoWPXgHNF29Gx9wZEpRPKyeN21apk72rC1xcXJDFwVGJSpX7ML/ZaDfZD44ZX6GExzKMa/6/d1JOCQ+xqkNPbHJIh9jQihi/Zzi+eSeaSQkRIAJEgAgQASLwLgkkwcGNxE73fGjx2FCcHRESGmWWj7kzMMUlP37Qn7ZHffhF70Z5e4N8YqHH63rCrcMSITYzOAYDCxqcy5fHNuC3/YAj0uFZTD/ACr2J5Wt8PiJ0Nw5uDxBRVaKMz6TlcNy21dS2iCdWLJmMzuWyaqJTy8GLoFXYf+APUZzfakdgHKxzcOOzO13MQ2xbtxt7mGZ7vEF0zPBks7vUwpLKQQSIABEgAkTgfSSQBAcXcCjJqsycTGUbvPYqGvUpIg5fXVylOrc8wo65ohklRdKyvaR7qgpmkgzOrRqpDzgkk3PL1TtJn5pm90Ecm7atptJXfdClvA/Wrb+J/W2/0JxKDQef1VuMbVufICMioSv8udVFitfu7Itgwu496G2nQ6Tkii+T0e6sLjQlIAJEgAgQASJABFQC73QM7t/f/YiTYkRCJPYOGKVmYjYQfRtbZvZDQ3cddDod0uu+RqvJm3FDHvGAZ6eXoGH7bWrSdZNGY/IvIzF4QQBeQafGxyIKf57xx8KODeHu7o6SxZpjkd8D9bwSuOW/FN3rFBV58fzqNhqDjReMup/1gg/91qJbkzpCV/UuQzDQqAyKrg9tP/nCc0iShPDQq9g2vLJa/QPtCmDuhRfqMZhDeX79NLQqVkLlXKPTFOy/Kw9TUQRf3D0Bn5Ed0bB4CcG5drOmGDhyNg4GP1dEAGYfO1dMQI/acluULF4PHUYuUWXC/JZgwCgvjO7/C/wfReCW/1pMHdgJ0/0fIJ3TK9wPDsK1+0H4K0q2Ff5FYf3wAfDy8sKE+Qdxmclze+A2U6/+FJyOkLNO2O6cEB1xDcHBwQgOesTs0GgLv4r1IzqiNLMtbl869/rosXAHy99I5tFBjB7oJcqwZN8ZHN8wTTAooyuJ2iNXq7ZvlIKCRIAIEAEiQASIgC0EmONi4/ZK2lUHvE9W87/61qeS9GijJo7LOKK5FBilzyp0h1TKJJ2iJxM8pRPRknRvvlavcj4n1kgvpUizeSsyfM+GNOgzeyXt6GBeF5cruvyyWv8765vHKbd5nWqSNBrQtq2BJa+ulmf++VcEg1jpljQnb/yclwTJ7fHMb3K8jBVdUuiBeO0jY1be/pJ0Z30ls3rcfG5Jb4NWquf4sdiir0ht4rE53sbc7rh9Jmp3FeU6cnvmdso34/yM7YWHudyp8MTlRLoKW0TdZGn6JQJEgAgQASJABGwl8E56cNOB9UDVLcae0cCRsT3Qrdc4ETb/E4a13zTGOXaSPfyxPShC9A5eW99LiL+ED8ZtvYUczc5hVnWDhu4LfoOf/x4sPVKafXrm/othK1y7K6YtmogmhihMOnlfHEWenoXGa+UTPL/1F4Jxee8cVfJK12LYyTsOI45jULutanyt4Ztx4uIRrOiYT42jACfghFrdvFUUf24PFj2ZN6e3R/87cvSEvTdEm74MXAX2IiO2HgN3sH0kTv7gpY8BfvK/gX+iwvA46ARWeAB/ijNhWFqmtrAPcVh9Cg5eCMRp1uPah0W4PFGSmx//+yjKuMsUUKY1Smw4QRZ9Um6vAxduxLFtc1Wb4XY3bc9fidtdJiV/6IfchMGnTmc1stKkHQgKPq/aTRS2otz4E+p5JcDL0H7kLEwZWE2JguOJdbig7exWz1GACBABIkAEiAARsJxAksbgKtl8hOr48deSOLCvI3BpG3wuyWemHvXHsypVMVER5PuYP7HzbzmCP/yvX2qNDRckvGSOp7IduB2BDG2/QZvuzTDwiDxM4duqjVFVXSohUhEVTvLSnT5i8trgMk6wKzlYnFMcm8dBe1XZQUdWom2Jj4ASBRE8fyUKfcfdbGDdyadokOc2flMk2+3CgV8biKP89UsAa24rZ2jPCNjnMHX6o3DptzMqm3PXL2BTyB/QxZxWHdV0waG4bzS0hAuvnzgJumZV8E1Bd9SaHQXJxYHZx1Uckt9N4IyhOHx4mH6lAnd8K9XDwGvp2AuOduu1/RIm1i0gxty+YmNjcVeeYKaVMhy9rT0GM3u1EBGlTr1AxnLycJpL4dHIkN0yu1O1MXtWyvsppmKrVyPwUduFlm3EtjWlhU25Tt2L+1MqaKa6FfHZjLVd8zPJHsgTmBGtjskarR2nrpaDAkSACBABIkAEiIBK4J04uG8QBsdiDbCrItDwuKw7G+aiNZtlP0nNSg68vfMHNhrFjWzT1uhIDmYfcwGvRn+DSDaWUdle6l6zoPmJZopTIDkqfXRKqkhc8dF7Diwqfw7mQOk3B9dcLCQ7uI7PonA/XHVvkb9xQUVMUwY18gMP3L9gYJWxWHZkjLmCLQbM2DaoNQyjp/Ww7i/DXzF9UdSTjeE9LgsHHViOH9h/Zeu77iZmlzTYR0TtciisnBR7VxT8ShMhDkoVLMSWLuO24cj+AbFxRbQxLyF6nbmj7OhoWPLsbViYkLPU7riwsT0/rZ1Hdb4leyfkFNp4eaLAO57jW8vByUkvSDsiQASIABEgAkTgnRCwexda3iKcqXFBjZ/7qepc17bF/zJIeKbGyIF02Yuon4X5kIGjd0Nx71oQgoKCcPXuHdy5ew0HQ1qqjoJJcisPnfBFe+UjORCln3AkK1G/deOhXRSyFmaOl377N9LgWDuxyVUf+qZZwYIN5fAyGsqRoxTrK7fPjwZVDJR+/f06Ht25Jto06Npd3LlzB1ev7RW97Lm7HsWTwF3s03wDdfiCknJj+98Q8llR1T54r69mIpciaLJ/aWgukzPxHBoNM4DO8DUgnSvr/bVyM7ZnRGqHRyi2z18AaSMCRIAIEAEiQARSjsA7cXB5cdOx1Q8cq/6E6+cDERgYiOPtPxG1MO1TlZxzqD1bfIjCocDHyFi4EAoVKoTPHF/hwrzeGOovO5/GzuXwpceYsxOF0JAIq+hkz+6uyvcfvULMao9+/gd+bSevbctPNi+XG5nYHzBQtjDPAfC5+AQRj85jx5I4fZGK2Aez33F0J/yP7hWrXuhcKqk98HwIwUaxTJgrcijdlYzKziPX8cYln2jTPPns2YoYs9Fq4HHRfrtr58OqiC/x3cxdOMteHvg4XWV7jRCEfOyo2sfb+/1QZ+FxPIuOQkx4CPxmlkdmF1+LnF5Fp9n96xDWmxyNF/cOY3Tb0arIVzmcRdgau+P2XETRENCRreDxlB1FInijt8rpZe369AchFEa0JwJEgAgQASKQEgRsnZ3GZ9MrqyjwmeLqCglGCmOlKxKbGMS7QMVscmXW+TM/bxHH4839V2e+G82GV+TkWfSGVRR43ope49nsxfWz5/nsfubCmM1H6KytzFx/Ji1LSI6d064mYFTRNBc0tK3C3XTP/nCHtDvUqOIJrHwg0lbSr36hX4XAVJ84/u64UPjMv1/87SX08FUUDCtemLaLeTsw2KK5vNn4WemeUh0r7S5kW4/4y8vsRllBwly5LLmOlGLRnggQASJABIgAEbCMQJJ6cB303bPp2PCExDYH5IXyBxlcq47Fy/O7MLy2mVQl6uHHwvo/h1aoFU5Nb6MRelXSMGaSn+B5K3qNK/PSifscYNOa8mNC9BWs6GCYrS5OsJ/m0w/gyf4W+uEQrvAMPwcvdSIbE6jTFd3qKtJAJlmlISINh5S2Na6iWC2j0WDMXXcUf0u7UZ+NTlA3t1o4y/j5DKiqRikBns6za0HG2RGftW+lRGv2PRawtphXQcS5VpmDf06tRk+1a9Qg2q1riTjDVxJql+x6OzBoiBv6qv4cHIwaCj4qW2xW2l32potx0392nCEXYH/xbS1b27d7obhjx43LFctnpbHNkutIlqRfIkAEiAARIAJEICECOu4HJySQ7OfYMlHh+rGxjg4ucDQ74SZSHT9rPCnI6rKxvELZTHm+2btkRxatr6yqCw9nY4olJ7i4GialqScpYAGBSITrOcc6ObIJYHFBR0WHIUo/1tmeDQ8xXRlBzYSNa33G3lzsXumS1B4SrqKvrigWcMW1t+Ale7Gx40uKsW8L5m2OC1pvd89D2LhhNiaY1zunc+IvfjwX2ogAESACRIAIEIF3S+CdrKKQpCI5usIlrv9jotKJzXY3ibLlkOWVPXviCV2MxuMmLk0ScQmwlwMXs28qqqijgyscLXl/4A4yT2WJrKo9kQBbRYFvib8sWW93mXNkh/77g5wJ/RIBIkAEiAARIAIpTsD4q36KZ04ZEoH/hIDxKgr/SQEoUyJABIgAESACRCA5Cfz3QxSSs3akmwgQASJABIgAESACROCDI0A9uB9ck1OFiQARIAJEgAgQASKQtgmQg5u225dqRwSIABEgAkSACBCBD44AObgfXJNThYkAESACRIAIEAEikLYJkIObttuXakcEiAARIAJEgAgQgQ+OADm4H1yTU4WJABEgAkSACBABIpC2CZCDm7bbl2pHBIgAESACRIAIEIEPjgA5uB9ck1OFiQARIAJEgAgQASKQtgmQg5u225dqRwSIABEgAkSACBCBD44AObgfXJNThYkAESACRIAIEAEikLYJpL99+3bariHVjggQASJABIgAESACROCDIqCLiIiQPqgaU2WJABEgAkSACBABIkAE0jQBGqKQppuXKkcEiAARIAJEgAgQgQ+PADm4H16bU42JABEgAkSACBABIpCmCZCDm6ablypHBIgAESACRIAIEIEPjwA5uB9em1ONiQARIAJEgAgQASKQpgmQg5umm5cqRwSIABEgAkSACBCBD48AObgfXptTjYkAESACRIAIEAEikKYJkIObppuXKkcEiAARIAJEgAgQgQ+PADm4H16bU42JABEgAkSACBABIpCmCZCDm6ablypHBIgAESACRIAIEIEPjwA5uB9em1ONiQARIAJEgAgQASKQpgmQg5umm5cqRwSIABEgAkSACBCBD48AObgfXptTjYkAESACRIAIEAEikKYJkIOrb970j/3QzbkFNtx/rW1wXRh2f98Dlcobzp2d1xVlWnTA/GNPtbJp8UgXiafXb+DGjRt4FqWzqIbxsjRKLdmFYEWDUhi060+j2PcvmFbqkVrIn5vWFHXG+OOVZaaWWootymGJ3VtT4IcBK9GhRTlUqOxsNZN3XRbTcp+d10RTptePgnH2zGU8fQ/bzbRudEwEiEDaIEAOrr4do8NDsQWHEBatbdgHqzug/ZxNSN/tZ7TNlUGcLNN9BBod2oXvGzXH3udpG2GGe9uRv0xplC5dGjV2W+aMxsfSmKxdZDiOHb+JPeHv9xPxfa2HZBeEn52dUdL3tnGz2B5mL0KHRzjDufkOi5zTR7sGIIdzP1yONmp/puPZAT+cPvfc9nL8hyktsXtLi/fy8gIUbjgAu0Lzo0b1tnAKjTCbNMO9rXBm7bjqhvbF/F2WJU7GrJ3Cdvhr2unelm9Rs1ZFLLr4Jo64uQiz7W9OkOKIABEgAjYSSG9jujSXzNExbpXsnh9Bp74ngNarsLv7V4Aky0gOhTHu5gZMLdAWbX/yQ8TUKnETp5GYawcXqzW5430IT1v2xKd6DuoJk4A5liYiiHVygItp5Ht4HOv0HhZaX+Q777LokhPe3GIKXwIZE7EPnq0u+gbeIivecn6xPEbepExsb6EOJU1q2Vti95aW9dnFnXBAYxw4tQbusXqg5rjqlDdyDjKuc5mJtYu5eEvLEZ+c0k7K+VwdruNsrefIUpA9UsyVUxHU7+NrfxMxOiQCRIAI2EwgSd2Pz85uRL927dG6fAU4V66EZu2+w+zNVzU9OJfWjMLgeXtx+dwm9G9WVvQ2lG3yE44/jlEL/ezsCvTtsQi/Xz4Gn56NhIxzhY5YdybuEIDgnUvQuiLrKWK9Fs4VW2LBQUOvIv9c7Du8J2bs+gOBu2arcvVGbMAt454ilvObe/6Y16ux0MOHG/Qe1FstjxK4vKQjLqIENk9oHueh/SZbPZyb/jWwpDHWPU6nJElTe8nuNjYMOQ/0WoX9C5pBejAcO+/FraslLHXRd8RQj2r6duvTewiWMVrZjIilCw/Gxpnd5XZjbdumzygs2fKHxp6MxEXQZhtsOgaH7hls0FSv8XFCNmcsZxxOKI1ip7N8T+CU7xxR3yzOlVF3xnbxife2/tM0t3F+rfzxSHuZ8vRHfYZCsOQyrC67bxh6PZXrye+K4Xr61LkV5gX8pRbxjykD4MuObq+dBm9vb3iN6o3lCQy5SYxzeMBMtD4MZDi9GiOYvnEjveC17KSan3GAfz4f6HkK0djB5LxZ/iMxetgGPNDpe3MzhOLMuR2G+4WZtkqMgXF+pmFL2uZd3UNM8xbHrAf0lO8UTfv5XnqhioYHTEZR9mIdiyis++FHjOk1Cjvvx7VVzmDJd/J9a9OMEaIdv+85FgeM7kchT37H/nnDRF7cxgayNjEd/vHy0nb82PRbcS/kMgN8/KweavDiwVGsWHwekdC3IRva9fuaqehcrgK4Tv5smLpsj7gPJ9r+KgkKEAEiQARsJ6B9clqp59Wlnli9ZzfgXhx9KhRB+J61+KF7eVTYov/syW7koavnw2d0W1Ss0QOrdN+gY4PCCPKfhuYFuuF0jJz9i/sbsWbTCNSu2AgjNjqifYf6wJWd6FMrPxbcNHx6Oz8mP77tOAz7Px8Kn+XzMDDrQXi1/BrN9Z9Z+efi3Ys3YmyH6qja4QfcytURTYsCJxf1wjftflNv7Okf78UnxZtg9IajqNS+L2pl+xer2MPZeOMPj90/vcTbGsNQ0e2t8Sk1XLjRjyK8JeCmGpemAheOYiqr0NCGNVC+YWtRtcU7rmiqaCnLX7K5i6Ee5xt2xOCKn+D6Wj+NHu5MT8r9LXp6b0Z0zZ8wuWU+2K2bj2HdquNSdPxmaokNhmw1ssHHX8g26DcXHsWHaD+Ra0okHyRmc2aSILE0ip3+6FkfdT2/x8viHVCz2EWcGtsZ+TOzYQP807QuHzpVl6+V1l8uUh0ObpfLPi6ExoOXwnngbCyfPwF5WV3al/5c/UytXE9NKzTCsI0R4np6jQMY3bCILMOuy4hHZ+SiP72Ey5cv4/bRyzgfo/QGxq1VYpyjI+RrPhaPcIvpu3DrGAJvx3XKuGZdZBj26LP468Zllv9N+Ac/Ua9PBAxHrRoeWBVPW1nCIG4N5BhL2+Zd3EPMloGx39s9O2v38ThffyhmzPSGE2s/z0r/w+Sz/4ok0REPxV5heXrDTYSZHf8ejgcBci4RF6+Ldjx65TKioyLVrCfWr47Wo5cga4f27FX9IlYMqWe4PzMp7kznrNQZC/2+xJTlPvilT2asHNwU+ZtZNtREyejfGyuweIkv/tZ3JJwalge1+/6Ma7nrYPykpvhf9Fr8PKQdNl5/nXj7K0ppTwSIABFIAgFdRESEBR+UzOcQExaON1lc1N5N7qQs+7gkhpZfgpB9rZGRvc/vb5YdHocbY0HAdLQonlUourdrJIp3WIg2a65hcaPPcN/XA8U8d2Dk2pMY1KiI0Pf2xjZkKd0F6LFDDAHIcH89MhbrjfbLArGAOT9i0z8semzqj8MvJuBLXEO3j8vCt9pQ5uh6oWI2e/Y0DcP2FnnQ82Bj7HiyFmXtY3FquDPqLgamsB6tnsU/Fqre3vRBllKDMfncU/QpkAG8lyFTgaZov/s2FjCHzOzGdK8qmgf9C6xGyLbGKgezsu9h5PnvGac5em4O/2Bz4TwY/LfMuqD+s6klLCMO9UeuFqtQ3ecUtrVgQz3Ypos5j65Zq+HGvEAc75gPCv8ay65ha8vPZFqsfa8ePQe3KpXiHRZhqQ12OFwbsw8uQPsynwrd19c2QJnvjqvtLWeo/bXG5o6zetxg9bAmDbfTI4u88I2bPURvXLFCGH1XW86z03Ohwbgqqu0+3tIRBbrtxJyzT9HpS3lMOB9PO5TZ/bIW7FrxqaJeT91YT9x49gLIhwxIl5bDpdIguOnLydPwayXQJxCBLfTXk7b6mqNEObM89jd3RuuXqxGxv7EmrbmDe771UNrzUxx4YfQJnrU3v18k1laWMDCXp7Vtk9R7iLkyvL2xnt3XWK+r9z5EDCknRNJFBGJgrqrYjvE4+nwAPpcki1k6MH2OTN+csy+ZPRiGKCj5lBmwEivHNENOR0m95nz192cnnd5u2BCskKVN1PuXcj9ecPNftM9m5uVe3068rUMOyPc9pT0PP16D4ro/xLXt23ITIpbVUTH8c/EobuephtLOsVDkNe2vSlKACBABIpB0Akkag2vv6oLH7Ka1I+APXL5yBkGPYhDGyxTrqClZdNlWqnPLT+Sp1QUtsBD+EXKPkYSnYrxZ/cZFkVHvOKUrWBebarDhr5cjRM/Ok7OrhE67mHsICPhb1f8oBIjBPbmHQ59tPo+OsnPLpSRXfN2OPXAPApnYg4M/2Jcw55Y7zopzK5SJsWoiJH74JA2+lcuWWezN/zjCrQA7w8YMprWNO6Bz5wDR3t+JlwLOsfbsTnjRYg72XhiLgsXTW8aSPQxPz1+Fj9Efk1sVYbYhv0/FOsqDVx/rwTk45xChw1MnYYNbb1Qp9j/kcHFBETb0JaExfZba4OuyHqpzyzMqXroj+z0u8ozv55YVNqfosCYNt1Pu3PJNJ7kgd37gdXZtOd1yVxHnue2yri8ErtuJdKwv7u2D3xHwSIJdFNg41lCEc6m/5WtFuZ46tfpGvZ7gXpZdc4Ya2+k7+V4aOvtEPvH9JMqZlU3Z+CdwS8bhcvl0PJmDklLeJ9hWFjIwl7+1bSNekHmRbLyHaGslHz08s1q039ruFViEPPj4rXNJNoyrAlb1PcZ6QAfic4dXatLEWCqSLwV/+YVHTcwCHh4tmXMrO7587kAbdk/1fSnfKGODL4hhQsgShT+OBbDuCIBflWEP5KsyIoIZV7a4Oo31mwvHOuZAIXYi3ZYJmFX/I/ZlrihyZ3fGJyWq4BPjAddcxkz7m9NJcUSACBABawnY7uCy3su93fOg7SY5S/6pv3rlNxh3mH3r5xNFTDbNjVoXLsb/FTOR0d7sovCYqQK7IfNNB7nnbU2fplgjR6m/GeEsnFclwvShzR/40KdXZPKV+1wJJrh/aTTJ25xgLO/cTYMObtjvB0QbZRg3HV6PmefFtpAA+SXDe+U5DJpWVsTxH0tYvqhRBkqvr5rQKPDGrSoO/1gNNX5ajV4NV6tnRrMxgyNbMsfY3JYEG1QcA3NqlThrbM6WNKZ2qugwvlbM2e5b9ql5UPMGirhhb3Ldaa8ngxgPWTU5zkrO2pxsOzJmYK6tLGVgnLs17WnaNubawRK7N86fh2OdJKRHbvbyxl5YZP9WiMQ8OsH2tRHzjh2++Bxfkanys7AnGi5UDgz7TPK7qCHCwpAuNgc67hqHCQ29wYfhyAO5gPJjN2A1GyKR2CRVC7MhMSJABIhAggRsdnDfXt8nnNti3r9h+9Cq6k3rm6OL0Dgxh4/1Vhn3JpkvIesd5T6UXpcu8h/R87H9/nFUZp+44m6sdzZuZJwYpefqdiDrpTD6NJsxjqQckdhN3u6feBK+z9GsN+j3GZNEDfLUeojjx1k3Oduis9fE11cO4erSeTg9qTzK6YFbwtL58EU2iaiJ+PwqlLEfzSoKrAe91NDteNItFNdv3sCtKwcwe9AcTOxWHp9XNv+pNEk2qBQigb0tNmdLmgSKEOeUjl0PGXLORXCwh3rNaYQsuQiMEmSSO9KNYuIGk5Oz6SoKcXOPG2Mrg3fVNtbeQ0xrwCePRfExtfaGxkqfpzzs4Ah7C9rDVB8/Tuw+ZS6NEjfi+F8YU0weqqXEJXWfkw2HefGoM1s/+ya7ni9j0/Qh2D62LUYUuw2fmrxXQN5saX8lLe2JABEgAgkRsEvopCXnWtasqD5o+Rjc34+YT2X8yfDezkWid7Ai+2xlvImbnT7i7fXtaHWaHRRzFp87PylYiy0rdBHD1/xhnESE/wmWP6nFOWEmItbJRXw+w86zhlnbTO7xfbZagNHm4JJdHN0NjX/iDdiD6nkwEzPpOTNS814G7SJOYTLvPf/xKM5tOcEc3OPi/1lfX2z37Slmv68884T1RlnAkjmuWb8C/mVjRIKMVgPIEHpXs4pCuvA7YoiLPeNerDSbdd11PPwOegt+b8KjEuRoqQ0mqMTMSVtszpY0ZrI2H8VY5mzsgNcP+2HpGXlCkirIXkru3TW/VqoqYxLgLxi3Tz0wiY3/0BLOH58+o7mu4tPGe1P5KgrXQq28BSWBwbtqG4vsPp6Ku2WtDD7h79edt1QJPv766NiTsGc9u45srKwt24nrhlU0LE2fIbsb2Dow+HXkNnUSo5L2Nbs+bf6jDazH/8b1x2ykmiu+KF4GDVp0wyq/fSKvwAjZRm1uf6WAtCcCRIAIJELAyqeLQZuDizxwbmKlrli16zj8fJeiPZtgNoGLmDp8pz3QxHshNh4+hB0zuqNYt+VsUMEwjKslDztQbnY9Wo/Dat/d2L11KmryiRhsWzWiuthnLNMFc3IBwaOrolivRdhxiDldh7ZgQju2TNK3+w0zsIV0/D/881kbn/LA3e9RtMk4bDyyC2tGNmCToPjAXMP2OnshjGGH01byT4fmNzs2OaT73+wTfQc2dti255J5xf9x7N2Dy8Hd/Tlswp/p5lK5HeqzyHXTTyBSsoxliU4LxctJ+wLNsWj3YWxbPoxN4GurUR3zZC/KfpkVnWash9/lS7gasAM/Thoneu3zuJkM0tSntMoGNblZdmCLzdmSxrLSyFLFPTYIR2FSzc/QYcF6HAgIENeeZ+bsKL5bnn1viT6dlAd1yzJJtszd8HV72DU3N95lwizizBzPQh3K4wXmoN/363Fk1xbMXa19aTQu12fFuBUBfXp6Y/uJnVg4dZtFjjFPYyuDd9U2lt5DeFlNN4eqXcR95bBnSfRjk2pvXjqGFS0Lof99NjdhnqdhzVvThPEc2xVyF1/DfDv2Zvfhw9gxd55mmbB4kono2MzVMWciu7ZO9Ef+UmNE+oCAg1jt3RJuBTuxJb1sezzwJQF7lSmAor1n47eAc7jEln9c/QNbNYLl2iZXNpF3Uto/oTrROSJABIiAQsDmIQpvsjXH5WVnmLO6AP077BD6qg7+CS1m/Ch6Z5UMlP3zmSPRc6b+qPJ4+K5hkykk7VCDGyHT0M9TluGLnM8LmI8myixeNtHD42owXKb1hcfYEWDPebHxCTddffQzxdlXP94rZfrZVRl7J6cAcrdch60X2qP57Gno6cc++bKxb307fIl5a2+on/r4Q6yatzMmj5uAvTPqoV5mbVm5rns7+CJagFepAuz3rQi/9z+sJzBo7Q42GWQ8qhVkE6D45CajTbL/Gt17AYcXbWbLdzVFWQtYpvuyHS6tvSBWzhjR/oDQ1rpvO2yatx4v9Z9k7bOVw8iqhfDL2N74baycIbeB2Wz1DfNDUthaxhbaYELjpBP8tGuLzdmSRs/XPgsL6Ifk6KPg6MBtS0zdFFHcKQm44Y85/XvAy6s3dimCRRthQems4sjU3hURzbXBHNKaczaifuk2WNynHfjrXbF59dHVZKw6T2sp5zwNp+OXKmUxclYvNOMJy66GZyf52uSHxlu6gk2xy3s5Go6bhs7sGuRtXX5AfVjSVpYwMM5LDSehbUyZWnIPUfM1CvD7yqj7/sjsURUjv6sHZbS5x/y9+JWtwiHGWbG2MWcLRmrUoC62MH7wHQ3fFhPZfVi+tibX6YlGeglT+xZ81dRA0X73cMZtLsp0G8/Sz1XPVGerL3zmwK597eWvnjctn5NkGHYgOeTF8J610G7xD+i0Xk2C7j4n4VX6IxFhrv0r9G/OJtgZ5ClEBIgAEUgKgSQtE8YztosKwzM2nszRwRWObAKFZmPOEl/2pzW7jfNltD56FYVXbJ6uqZxmyRjpFaIimb6E/iwQ0xvO/qZurJMjsjg4arK05oAvfcQns/AZ4uZ6YPkar6Knsf9+RIzn3V2GLR37jN86V13sqZE2lwgz1NSyUGIsuZYEbUWfjV1kFJ5FR7EHqxNcXC172lmi17JaJCBli83ZkiaBIpieUljxayXB68U0oclxVFSUuJbMXQPGopZy5vp4+5le58a6lDCvA78GbS2/zQzeUdtYYvdKXU33Slr+KT+LjUMTVJ2sPoneN1Vh8wFRHnZ/ts/iYPZ+aD5VwrGKzviu5aS2f8K501kiQAQ+ZAI29+Dyv7KU2BbxPFQW0fdKfczGfJlubB1eNUqe9e0EN7fEdauJkjHAy3aI9eLWHFcH4+rchnelT8Rf+4l4fhe+3Zhzy/JePKMZexi8FfFBQUHImTNnMpYo9armLwliwSuTdxzjEvMHuYt4H4lfiL+0uLD/1myW6LVGn1lZ7nC7WDkDyJY0ZjM3H2kLK3OahHMZf5OoSSzlLDurFihkmnkdrGtttTgiYDODd9Q2lti9tsSGIzVtfN2kBtHEQ/yFIikgWQ5qeSxrusTLZKwzHumktn88aimaCBABIsBWrLFxM3ZM41fB17wxbPGlMf38F5+cQVPKhUoN88eodSUxqWE+uLOFz3nZzk7Lhc5sXd0abJH8NrnloQmpqcwpR4dyIgJEgAgQASJABIhA6iOQ5CEKqa9KVCIiQASIABEgAkSACBCBD5mAbdNkP2RiVHciQASIABEgAkSACBCBVE2AHNxU3TxUOCJABIgAESACRIAIEAFrCZCDay0xkicCRIAIEAEiQASIABFI1QTIwU3VzUOFIwJEgAgQASJABIgAEbCWADm41hIjeSJABIgAESACRIAIEIFUTYAc3FTdPFQ4IkAEiAARIAJEgAgQAWsJkINrLTGSJwJEgAgQASJABIgAEUjVBMjBTdXNQ4UjAkSACBABIkAEiAARsJYAObjWEiN5IkAEiAARIAJEgAgQgVRNIP3Tp09TdQGpcESACBABIkAEiAARIAJEwBoCOolt1iQgWSJABIgAESACRIAIEAEikJoJ0BCF1Nw6VDYiQASIABEgAkSACBABqwmQg2s1MkpABIgAESACRIAIEAEikJoJkIObmluHykYEiAARIAJEgAgQASJgNQFycK1GRgmIABEgAkSACBABIkAEUjMBcnBTc+tQ2YgAESACRIAIEAEiQASsJkAOrtXIKAERIAJEgAgQASJABIhAaiZADm5qbh0qGxEgAkSACBABIkAEiIDVBMjBtRoZJSACRIAIEAEiQASIABFIzQTIwU3NrUNlIwJEgAgQASJABIgAEbCaADm4ViOjBESACBABIkAEiAARIAKpmQA5uKm5dahsRIAIEAEiQASIABEgAlYTIAfXamSUgAgQASJABIgAESACRCA1E0g2B1fCQyypVhC9t99K+fpH/AHvRrVRvPpUBLPceVkW16uJOo2HYM+jlC/O+5hjTHgIgoOD1f937zzCs+io97Eq/3mZT8+oiYrDDuGVviSmx1YV8NFBtNPVw5p7r61K9i6Fk1T+d1mQ/1jXQ/+laFavGEp8rdO0739crASzV+7Lfbb9laCcrSfD/H9B6dxTcSFaryH6IS6dOo3L4bZqpHREgAgQAdsIJJuDq4sJw2H/G9geprOtZDanisTuNqXw066D6DCjFwoxPTrkRPcZnXBg5ww0LjMPT23W/eEkDNnWEIULF1b/582XHZ84OqH8iC3EzyoziMQ/Ww/jxOkIfSrT43iU3d0EnU6HpcFaRzY2LAQbsA///GfvGhaWP55q/XfRkTjQXwddHV/1RSMpZXl5cRY+q9YD2x8WQN06Hsj4d+ry4CRcxRhmP19s0HYwKPflbeGKB5oUCnHTRoTuxpX7p/BKf9uXgleiRPlyKL78alxhczHx2L05UYojAkSACCREIH1CJ5NyTrJPSmrb00b5/YKG+4Ha629iZImPVUV2hTrhmf9ZZKnaD4O3NcHqZv9Tz1EgLgHJKQ/Ssb7vLcH7UNblJSJC7sBvek/0mdIKZb++iVttv4ibiGLME8jEov81OmV6bHRKDeoi9cEMapRxIJNkPt5YJtnClpQ/2TK3VbETXt9kaV8CGW1VYZTu6fmtcERzHL/oi2+M4lNT8E8zhVHuy4+cJDNn311URr16XcHeCApqBmc33tVgwZaI3VuggUSIABEgAoJAkntw/w0+jO+71BK9TXXrNMPQmZtwKSL+3oFXF7ZgZO0iQj697mv0XHhQ0yMYtP5nNG3aFO7u7uJ/o86j4XPxiaa5Alf0Qc8FAfgn5jZ2L5iIQYMGYYYf75cNw5ou4/AppmKJGQfMtcpPWFUF2N18Ie5rNNJBXAJPkAF58XnBbMjulhcF3auj99INKMUE/1x+UdMLxj97Hln4HUqzHiPe61ik1lD8FvxcVfns9BJ4dpiDQ5f8sNCjhpD5+qtuWH7hBRB+FetH1hNpuT30W39FTacEHvqtRasSsm6de338su2ycgoP/eegsccUqB2kypnQ4/Bu0AWL/Ay2k5jtcVue4dFIlKVk8XrwGPgrVp4ypFdUG++fnV6Dbk2aoGHxEtB9XRJ1mnTF1HWXNXyM5S0Ji8/IXbsI0XWTh8DLywvDPEZphtc8fHwGe2b0U7nx60EZAqHkkVh9FTnTvU3p2LCg5QMaiLblNlBp4BLNZ+nA5UPQZ8ZOXPx9LbrXKSrk6tWX241z50OKeDpdieZxrndevmvb5qGhu8EGZu3l3qp+Y8M2xtYbjBW/X4yXCf90zl987U/4YMAoL4weOAiDGTOxMRtcM7mDrJ/ZV8MugzFv3dk4PJXswvzHIo/nMcQiCiuZrmEeg7GVDRnhdt6k/RrciAln5V2mzQOROL5hvOYa2RjI7F+/8Tbf0L8jpmw4xuSmibLw66HS5M3i/nhLPxyCMypacwzOhiopze/PTOyBjezUnysmCvsZNLiz5looFHoX57ZPVZlWHsDKbXrbTqRNzedsEht9Fft+WoHAGEP8Lf+17JqpI9q7cL1mGDhiMfwfxYihZEsSsXuDFgoRASJABBIhICVhC9vbn7+nS+lQUuozebI0rHFhcYzpV6RY6YrUhp1z87ml5vDMz1ucZz0f0pwN66W5A6vJ8rW3SC+F1CtpnV5fh0EDpQGDG8rnWdzM4Bi9nlfSrjrsXsjiNP/nX5Gk0B0iLv/6m2qepoFn/v2EzJIgRZ+pBB1zAnfWV5J4OwVGGfEID5CYgythGmOt32Klv6W5+raoOXKxtGH5NKmJ/lhhzHUpbWWP+lKnLrXUYyW+QZfOsm6WduypF4p6Vo7mQpaXZdrCGVLPIvp2n35OyPx7YaY4b9rmwfNLifjVd2RVidqe3na4LQ+dNFP6dWRHkT47luptUy2SJnBvvlweXv6BgzqpdTCUR2+vFQw2LuxXPdaoEwf82hmtZ+herK5Up04die9978ZIb4NWinKZ42bIU5ISrW/cbEVM4ulM68OShR5Q6z1w4UZp1cy+ooyZ4CnJrWRyzdZrKnWrXURTD2O74G1wONxQwDNDP5FlG4+W1m/wkYbXlpmzrzRCyBImIdt6CB1cN+dZu24xqcLQg+w+dUv6Wc+6htcv0szJ/VX7PRFtKINxyFRXGdSTuK0b27nSPrL9REo7OujtltVhwcKJKi/V1qPl+6WSrmqXLlKDEvo0+vLBiFs2zJWeGBdKE34l7e+nT1vSXdS3QbHiUve9D8R9uY+ij+0LNOkqtSyul1Xvw0xZom2qyVA9ML1vKG2j3L+VZwaKN5MmzJwhjelcU25b/TMjPrtXM6AAESACRMBCArBQLq4YuyHzG6UzhkqnjB5GL4IOSasPP47j4PKHtrixtlce9LJKxYFZESofh4WFafNijgd3qj5dflkfb3hYVpq0Q/o7jHlgryKlyFeGh/puvS6tIv2R3klTHo5mZShSPKy506G0bVT4VWlVfflB2MXf8GgNXddMPKAUZ5ajU9u67SFBUmnjvusuq86i4khV7rdZehCpB65/qKovRcpDP+8U6Z5ehLWyeMHhjsqOCJ6X7GCzXntVhscJp6XSGpGfWp4EbO+uT2VRj4V31YwkKepvyf/wdaOIuMHoZ2FqnfhZ7jAJh1+fNzNO+YVMdWhNj+PqFDF6R3ZJkPa84jCUG27ELfqseJmEFfXVapWPLOFkrj4H28n3Ac3LkL78Hbc+YMrlOnN7WnbhsZq14rh22nBGZajYxZzA17Lc3RWiXbqsM35pfSUcRn7v4XgsYcKVKS8WsmL5903wQqG/zrq/jKJfSZeO+CXgQJrXpdg5Gk6Rfg/lN8VXUmRkpFo+TAww5BF+TtwPFbvl7HmHAGqNls6EyJ41t+M5ecFGFdSXVpw0cDs98WPx8hmfA84zUfQZv/QYx/N8/EIVD/6ZtLkujHS+khJvU0NVjEMJO7jMDipC4i8+xmYdE3JOOnT+uawmHrs3zoPCRIAIEAFLCNg8Bjf29h9YwLobuu/xQllnFtBvHxWqgY5suJWEx0qU2EvBsjw+jcQZf38xCYGP0/rnniwXHs4m07hlgIuLhMvsE9aR0xfZ7NuL+CsmBOeYhuKSk0YfKmzBPq9G6ng6R3Y2NPSIGBfn5qYVNT6SnF2Rn0X4R6b05DfjUrwP4ayIwVaUc9Fy6rz+MpZX+VRfgUicW7mNjdUtidh7J+EfKsEuEnib6SGecYkH4frPvE9Eu3RtV1RtL9fs+YQOj74t8T/eeGyT3HKKtnkgH+LtnePiM6vXst7IpY8DXFF31kK8LdQbt0NeQ5c5Jxqsb45+7YZh2/UBGFiQjU29sAk/MPkuP9cR+cVaYHvOOUqwFMcw6Yc5yD+kNkrlzgMX15yoUl3N2GzA3tUFjy4cga/f77hw8RSuhsbgHy4Zq6+U2VSJR8bqRV7q+CSzuONtPT0N3GBfBB51gI3/ynlaeq2ZlsKydCap2DChpevluIen/fGcjZOIZZdq+tD7IvKS0WSmmAqe8CyRVVWQtVQVZhfAgDal49jFW/0Y0bunlgl5Xcwd+Pv/paYNfQhE4w6eGX36TogJ2BABZeNDOZRxuOlccoro/RN+xOocA1GjZC7kdHZBsWpVFXEze/O6ANnOj+8cpo7LdWQVvMfqwK+RbX0rGnQ5f4ORPpWxzPMIu8cNxef6OQv5PbuidHb5QMdsPe+XQExOT3QuZ+DmlreW0KOMczUoNYR0ei7/xnOf4/lUddNnyvIp1bk52NxFCJ1WtKkhR0tCTnArzoZBH/fB6Fl18UPtysid1w1Zsn+DGtnl9InZvSW5kAwRIAJEgBOw2cFV8H2b18i7VSIT2s/2QLXZcQUy8X6UmHP4zqG0cJz5A6HtwDqo6XQJB/YZxlzGTRk3Jh0fS+YQN16JycICHyXzJAslr/d9zz4541vXm5je5ntcQn20qF80TpXeIhC96laNEw8+GcloM24XSx5kOv1LTf4c2saMCXsotEZF8aUEMiBP/d5sbPBWDFp6BgOnVMDxpYNZ1p7opzri+kIkYHsu1QZhcbU56Ll6AGqtluX5JKL5gSvQ1d0wWVGvSb8Lw86OWdB4rXxYrfNg1Kr+BqP3s8GeJnXXpkv6UXyOr0ZzAvXVyJkeWJGOT1ri11MEpqFB1WmmmvDS5Dozdi65QwhkhTm7MCiSHbvlXWpjuSFShDLBRXbI9PEWMTHRAbeaOD2hJsqO8UGnaj7q2bHrLsG7XTH12JqAcX14Ookx4OPZc2bWaokJOcYi6iOK+8t6XzM+h9QcN6027ZEymUwbaziKm4/cFlzC2jY1aE085D5iB5rMb4xtg1pjmyLecApOrRmm6ShRTtGeCBABImArATtbEyrp/rFybdTvLzznwyLi/O9eKAPubh0inNvRe2/gjXQea2ZOwrBJs8GGNuCRkuE72PPexbg3+HegOE2pkHujPHq1RrvWYxBwZDLr0d0DD+dhhjUueX3ZrHT7nEvBBi3EaVNpfwu1pywpaP6J0vYiO7nwPnjmQyq9+plrYVI7wHnqNvz+JBDz5rFiTf9O7UVT8k7I9uCQDz2OSAgPvYrTfr5Yyia+RTGneXDJcfFOSIwN3imcW/eJB0X9j6yYjlEjZuMw72BjXN7FJl78bFSUYH0T0GlNOt5TyK8nNi47bvszm0jqahu6yKei95ONyY2j/19pGdy17z4J1Cq+U074dvRBRLOXpounjmDTwqFiIuXY9sWx8h3edPiEtGij3mZemgz5KsGO9WGz1feSbbPlRT452zR97kbYLr3C42vncWzrOvzYqBCwazjK9T6sYZAUu9coogMiQAQ+WAI2O7h2OXOIB4FX/x2aVRDAFvYOuqOs+WngqsiPH7hJK89EXrMlqJS1adl4MzSoXkBNqHt0TTi9bmpM/AH+mfk1+2z5wHQ2sFESXUQYe9RQD64RkgSDojeKSThWG4kgn5aip65krbX69nLC/5qnQ8zD7ph3+l8TPZG4Z8YOTIQSPFRsxmvKb5oZ7b9vXSjSZXA1fICoMWKGKFvZbF+LYQ0r2n+j6lb0JGR7L+4E4S9mGM5uX+Hbqs3RbfIeXGcdkuIzeAL2xDNpW68qW7lD3iT8iZMH9QfvYHcs6LnVWiyprzmlNqWzz4maudhLztAR2GlaVHYv+DOJy8NmK1wP/AvBgGV8oJJ2e3rNeg/U+cQp7QtL+G0xrMTeJQeKl62GVr2m4uzJSSKj12F8eEjSt+xu1cXL4bithjVp+aoJh0YGsA9NeeGgjBRIelYaDbxn/c/j9zRxFh0kY5veDwpm17ITshYuiUrN2mHcjpNYwuwHz5ThTHIJbbF7i+pGQkSACHwwBGx2cMF6zeYPY5wCOiJro6nYc9Qfv22cjqaOn+Gr7YaxcipJJr90ejrgaHd2cxuKpdv3w//oXizzqg+nnC3Y0jpsdKVDQfEgqNBiKrYwfZsX9YUue2NVRWIB10K1xcNw3u6/4xUNCzyE39hZL/fc8crQCfMECnVdhWN92TnW5jmHyz0uJbrtlXu8yn2MZrNWCTs4uGE+2uoyIo85OzCvWsTyniO+qS8zio2ta4m6bBmj89cvYPes2uxz8inwMdgexk3o3ho/y8nBJluhlaqERVpge2H7vkIep6/x04odOHnxAgK2z8OIoSwpquN/Dopi7d4uizzmdWzJNli2/Rh4vZvpvhDjf5M6REFX6Bu0YdltbN5JXCu+02dolgnTlsTkyIL6mqSQD21K54oOGyeJ67alcwP8umkjGyvLr91h0LF7wcq7b8xmZWmkU9lewgG6OrQ08nSag637juLoPtbz10SHYkV2aV58EtbphCJdKomXIM+Rq3Fg+3pM9zmLt492oCgbAtNq8iocYu1+2X8rRowdJXqN8+XIkLBKC886VOspbPNAuwLotiIA19mY7SUNP0OP+0Bunz5xvjRYqDZBMR3yoQEf8juvJvqv3CHuzcZL5iWYmI3JTZ42jcSJrwojU9Fu4nq5cOECdi36XnBA3Tzia0+S7D7hStFZIkAEPjQClsxEi1/mmXRkehs+etbwv4in5BP4XJ1Jr53F+0q6tu4ng6w+XS02I1yeJf9M2jfMsKQUnyk/5JcRQt6gR55BzRwcdea1Uj5lRn26XPEtofNK2lxZnvFtPItXSU97AwE+I5zPdtbMjGenOePF1eT2brtXv5oCmwU9s8GX2nZlywApM7+5rjhLjulnxyvLB/Gc+czv0cwmDG3NY59JeyZplxXL12G1umICl1A2ZRa7l59hlQflHJ/RnpDtvQxcpS4PpdqzmNFu0GAudGfdQE29+VJTzDGVoC65JM9IN9ir6bE5rXLcn3vHaXQLVuosc+Nl7vTXhJonT59wfePPNbF05sv/5MIqud5G94IiNUbrl/syf83yFTji2MWdjaLOWrv4W9oyqbaGBb838FU5xGYpE7Yqx6zqRvcqdg+JijgnedcorNHNy2S82oM5VnyVAUObyhJm7VxJzFZN0OTNOHkuP6bew5QVLLS2b541X6YsDjclH6P926CdGpsuzpZsNJ+PJJbjM9WZcJsaZWQUjNOmJtf5tfWDNKz5tWa4/8uKzNq9UR4UJAJEgAhYQkDHhZLu1Ecihv1J3lg2ZdjS8WQxYfyTlBPsXR3ijNMU59iwS3sXNonEysKF7xsA13pz2OoOT7CknvLhWFbC/7zmR+6DwB4iSR4baGWxPgzxyCiEszHZjtwO+PTxd7lFhSGcj8Vl425dmM0kZUvI9qDUwcHFYluGvmyO1qSxuAKRiGL1TgrPBOubQDlsSRcVzYYAsZn7ycUinK3KEOvkiCwOttuXmJzIXETNvUrf7u/CvhJAyu6T7L7HzDjW0QX6DwAJib+Tc7y+/N5s7b1UyTw52lTRGf89Pul2r5Sf9kSACHyYBGx2cPlf1EmNG+thxHzdZxjCxvJuY38XvT77VM3LKkWfRVu2QsM+DMVpaSrY1AbkyJEDISEhqbEaVCYiQASIABEgAkSACBABGwnY7ODamF/KJLu7E6XzNmbTfcbggjQen7MJHctyy2Pe2B8kAF+xgTYiQASIABEgAkSACBCBtEkgbTq4abOtqFZEgAgQASJABIgAESACFhCwfRUFC5STCBEgAkSACBABIkAEiAARSGkC5OCmNHHKjwgQASJABIgAESACRCBZCZCDm6x4STkRIAJEgAgQASJABIhAShMgBzeliVN+RIAIEAEiQASIABEgAslKgBzcZMVLyokAESACRIAIEAEiQARSmgA5uClNnPIjAkSACBABIkAEiAARSFYC5OAmK15STgSIABEgAkSACBABIpDSBMjBTWnilB8RIAJEgAgQASJABIhAshIgBzdZ8ZJyIkAEiAARIAJEgAgQgZQmkP727dspnSflRwSIABEgAkSACBABIkAEko2ALiIiQko27aSYCBABIkAEiAARIAJEgAikMAEaopDCwCk7IkAEiAARIAJEgAgQgeQlQA5u8vIl7USACBABIkAEiAARIAIpTIAc3BQGTtkRASJABIgAESACRIAIJC8BcnCTly9pJwJEgAgQASJABIgAEUhhAuTgpjBwyo4IEAEiQASIABEgAkQgeQmQg5u8fEk7ESACRIAIEAEiQASIQAoTIAc3hYFTdkSACBABIkAEiAARIALJS4Ac3OTlS9qJABEgAkSACBABIkAEUpgAObgpDJyyIwJEgAgQASJABIgAEUheAuTgJi9f0k4EiAARIAJEgAgQASKQwgTIwU1h4JQdESACRIAIEAEiQASIQPISIAc3efmSdiJABIgAESACRIAIEIEUJpDmHNx0EYGY0KYpyjecg+t2Okh2IVjesjGatR2NA4/TpTDe9ze7mPBQ3LhxQ/1/7+5jPIuOen8rRCW3ioAuOgibf2yJihUr4lPnVthw/7VV6c9Na4o6Y/zxSmdVMouE+TW9ov8rkOgAAEAASURBVEEpDNr1pyyvi8StS2dw8fpzi9KTEBEgAkSACKR9AmnLwWUPuj1dq+LXfX5oPakLCsZK0MXmQKeJ7XBk7zy0rr4AT5PhgZsWzeTRrtYoXbq0+r94iQLIm80NtX7YbjXDR7sGIIdzP1yOJvjvha3owrCpZFl0n3UQrsVqoV21N4gx927DrrfDI5zh3HyH1pFl8c8O+OH0ueRxOO0iw3Hs+E3sCZftiTvj31SqheZlNmrLEQ9syS4IPzs7o6Tv7XgkKJoIEAEiQATedwLp3/cKGJc/6uhMtD4M1PAJxKBiH6un0n3ZDnd3n0eeBsMxekcDLG70mXqOAuYJSE65wfu7V5/zRSnnl3geeh/H5g3EkNmdUcs9EIEt8plPaCZWF30Db5EVb53YyVgzAhSVqghIulBs/RvIx66jnQm1s+SEN7dY0V8CGSVtFaRM5uO1UrYdxXI7Mtokh8L488xZPHFxi1MOIzFN8I7miA6IABEgAkQgrRFIcg/uvzf88XOfJnBmPSLNm3XA6PnbcDUiWubEenJO+U5BNXaOny/bdAx8L73QMLy0ZhQGz9uLy+c2oX+zsrJck59w/HGMkLO/54cfW/fBGpN0/DOl7/CeGLHmvD4v1uvUdzI+wXjMaplfkwc/cK00GosrAvs6+uCBjnoS4wAyiZDwFOmRG58VzAa3bHlQoHhldJ+zDF8zudtrr2h6ynhbHPUZqmnn3Tfk3rv0j/0w0PMUorED40Z6w9t7JEYP2yDaIPzYIrTrsVLTHpLdbazv3gvzjz0VJVLaeV7AX4h4fBorZ/yA73uOFcNNnp1dgb49FsHvyjH49GwkbId/Tueyxhu30fm92ojyVSrfAj1HzsK6M7J+Yznj8PUtU9C+fXvxiZ5/pm/TexyzwSfGIvGGU801EU8JddF3sPuHFoIXvy7rjlyJsxHyrYDzXlKsLPawtHk2LxXtNWTuSU17K2rDA+QXygynV2OEtzdrXy94LTupnAYyhOLMuR2G65pd/4fuyde1IpSQ7Sgyie0lXTh+X7UUp68bhlGkCw/Gxpnd0boiu/dUbIk2fUZhyZY/RD3+mDIAvkzp7bXTWP284TWqN5br7S2xvOg8ESACRIAIvB8EkuTgRhwajs9KN8GMdWHoNm4cijjewrxRXVB+Dfv0x5zbvd2zo67neJyvPxQzZnrDyW8uPCv9D5PP/ivTYTKhq+fDZ3RbVKzRA6t036Bjg8II8p+G5gW64XSMHV7ncMbN/evQd+RezUM28vcN8Fy8EeHObkJX+ken0f8+4OzTAJ9LJt1JXEJyRe1RPRGBqfC7rn3IyoWhX3ME0kUaYu0i9S8u1QuoPWXcQVn2cSE0HrwUzgNnY/n8CcjL2rl96c+x6sZrZgZhwlniWv66cRmXL9+Ef/AT0ZYRT7bj4KZd+Nto6ALP4+DmDZh5X3aQ+efo3aydRzcsglwF6mDA2NmYs3EGroVG48X9jVizaQSaVmiEYRsj0L5DfbzGASHL8+Zb+sd7hY1+vyEE5cdNRqtan2Djwh/hXUtrT0JY+WF2ebnbeOzb/RcKV6qICpU/w77109G30hdYcNPgRCnixvvUdE0Yl0sJ88/5g7O5o/3sQ6g66BfMGtcKpxYOQL1cLbD3Ob8dhOPRXVn66f3ruHQlAMF3zQ81iI6QP/HH4hFuXb6MC7eOIfC20bUVMBy1anhg1eMv5Oua2YVH8SHqUJXEbEcpc2J7biO+cxdhkt5m+EvSpNzfoqf3ZkTX/AmTW+aD3br5GNatOi5FRyPi0Rl9BS8xe7yM20cv43yM3rYTy4zOEwEiQASIwHtBwOYhCvxBOa7FYnyM/th2fyJKO/Nvz4MwkvWW7Q5hn6Ovb0fbTSzKex8ihpQTMHo0r4aBuapicc3l6PB8AD5nsfxTpgMaY0HAdLQonlXIjdg1EsU7LITP/gco2+hrfP9jJuz5qQe2P2qH9tneCuc5YNJYZIQHvmvyP/bZm/U3Xr8o0v5SqQDbMxkz26fFmrMeyMXYfvkBOn2Zz4wERRkTiEUUoqJYb7eDhOiIYGzrXhe8v7y9ezZV7Mmm4RjKjuacfcqYZhDxzTxqYOjHZdF/8kl08mmOSz5LUNrzUyzZtgburK3Exvb3WMAOjshk9EJi+vmZH7vIKTCa9Q72aFiUtXskYp3S4+nNT8WZbj5+GN/ya+F0z++9HC6VBmH8GbmN7xyYI2SmXT6Brrlkuxg46icE/P6v6qTr1Rt27NN7zXv38MxFyRmYNmgvKhVoi6lnbqJPga8Mskah1HZNGBVNDd7dNQTL2NGQXbfhXekTEd+qegXkZMzaLj0hrtXxZxdiaune6LHiN9amb+S0Zt4Z3RrOxqYaK9H65TBs3dpYzQOsffiWAbUx++ACtC8jt9OAtQ1Q5rvVOH5/BooVyIDEbaeKkc74g3Fs5ro/JjDxGsuuYWtLeThSn8HjcPXoObg5OOCTqafRYlFZBA5cia0JDcGIP0s6QwSIABEgAqmcgM09uG/uXRAPyma+g/XOrVzTj76sijZVPsXDM6vZGM4S2NC9gorgrXNJNhyhAp7jmKbXLrpsK9W55cJ5anVBC7b31w91cG85V+jos/mc2Kd/5C/G2uaZ0Fd1mCIeHxWOcrbs8Q/yfOPqgrxMwxWjXkmhkH7iENDhU9EbWjPXx+JTdrZc36LXAebc+pzEgoqyY8R76QPX7RTt/PbB7wgICMCJgwEIOHaF9QOy7e8ITa+7cW9wnAwTiOC63OYFYmTLIsjiKMHR0VE4p3wYBX856tTqG4Oz6l5W2I6iLnP2IiI4fcJ8+F+6ifCwaEiO2VGxyheKiNm9i6uEqwGbsWDmD+jXrhka9flZOPc5JEez8jwytV0TcQrK2uv64pNiGI9nZdnp5DKZSrTF5rIscPCBaK9X+oQvmXyCm9F5c6slvC7roTq3XE/x0h0N6qy0HUPCxEMOzjmE0OGpk7Ah4ApCwpkFsZeWIpUr4VPmqNvpq/UykeolnhNJEAEiQASIQGolYLODq1SodK7MSlCzj3WSxBjOHC7arp+YRyeEXIzJw0XzgGRj6vgYOaWf8HWeelhVnk1kGb0MF9jSX3d3TBY6xrUuqsmTHyTmRPE+uUwmk1TiKKEIlUDvmSuwbMUPYuwt75FrXKuYek4JvMVFDGreAA0bNkT9lg3RqEF30X7gE43e0abYgjl1CbW5S6XvMKsScH/DCDSpVAq582RDNmePOGO6jfXqYs5jSOY8bKm57hjjfRTRuUugWjG5J9BYLr5warsmjMvJv5j8UzY3c3KNr8so3D/NpHRRUJxb4zRJCRtf1+Z0J4ftvHGrisM/VgOCVqNXwwoolDu3eEn7ZctVURXTHt+k1I/SEgEiQASIQOokYPMQBaU68tqo8qdpJU7Zq5+47Q0P0/R5yovP0vYJOZmSi+iFO64oYr0vdUZ54VWjyVi5tTqyDL3Avj+uRkU39snZoFqRTnDPewOp5yZBROKk0jvarltz0Uve8JN0cGs0Fj0+H429jyegGBu2wDfdS/YpOudcBAd7iN4xEWn8Y9Q+8a2iYBrPX0JMt8emERYeSw550WVXBJo9vo6b128g6NBK9Ju5A16VcqPK8wlmx2vf3TlGfJ0Y5nseP9SUJyzycZ13ZxzALgvyTc3XBG8vx9uma3454vMarGKRrGfcgvq9KxFrbMeqPNn9otTQ7XjSLRTXb97ArSsHMHvQHEzsVh6fV/4X7bLL2uhF1yqqJEwEiAAReK8I2NyDmyG7m+jV8x6xV7Muqi6KPVTuRsAta2XxifvXnbdUIGLG9NiTsGez8x3Zp2bjzXiZoXs7F4kewIrZnVURh6pNMYwd+XTuyqaJAePGVTN8lmbHmd2K4g0b1fmX0YQlNbE+kD4sXIwOpAebKZn4j5XeUcfKg3F2XlO8wBxUbLpRbnPmSORs7IDXD/th6Zl/tUrYJ+h7zA74xoc78FUUroVqzc0uUhcn/iUbSx3I0iTUYyuUWvjz4u51PGTjiJ2zFUSpSo3gMW4L/piQDjHMVsJN/Twjnby3ulblAmpMhtDrwulNqFyp7ZpQC68EWHu51nFG1OMe2GK04oBdxClMPsyEcjprriklWWL7j0+f0ayEkZi8OG+h7Viky0QoXfgdBD2Kgb1LdhQrXRnNuo6H30FvIfVG3+j8Jer2qQcmKemQCBABIkAE0goBrcdhRa1iM1fHtP4swckeyN96Dg6w8Ze7t85FW7eCKLP7IRyqdsEYdvqwZ0n0W3sSNy8dw4qWhcRKB3nmeapjZ0WWpz3QxHshNh4+hB0zuqNYt+VwZu7suFqGcYK62MJoPb+iEOdLgbUorh0akfXL6mxq2UUsORD/Q+ufS0fFjP7BxT4XeujHOgJfeizEvp4sDWvzYmP8ReLiHhvEi86kmp+hw4L1wg78fJfCM3N2FGd2wLfPitUX+z49vbH9xE4snLpNOESfFKwlxzfwwuZdu7DauyU+K9VLjHUVJ97BT8ThMijqVgm/rt2D3y9dwsldS/HDmLdscmRl5DB5yVKyc7UvIF7O6njMwvbjAdi2fBgysQlmiW2p7ZowV95yHVeK6CGl28Pn+BWxPF+Xz5sJ5pO9qptLEn8cc1ILdSgvXnr6fb8eR3ZtwdzVfBqiZZsltmOZJq1UzJO9KPtlVnSasR5+ly+xsdQ78OOkcWKseB43B+ikPKhblqVZ0hjD1+0R9y1aJkzLkI6IABEgAu87gSQNUfh6wl3syjEUDUd/j1b79CgKe2AeWwpMF/sxRt33R2aPqhj5XT2s1p/2mL8Xv3bMF2dowfOZI9Fzpl6o8nj4rhnIPh9rJ4x9/iV3cI/DfVnzOJ+WX2d3xzR2dtjY3Xjaqmfcz+WsR/HoxEli1YdvC9mLlRf0udHODAHe65qOvWZoNubQlJ0WjFlBhTBwThN4Vr0Nn5rVEXDDH3P694CXV2/DJ/yijbCgdFaRPF3BptjlvRwNx01DZz951YwK/VkblmHy3ntZ/Fx07zBXOCA/L5yIbb1Hw9VoCAvvbTPX687LaG4zlnctvQh10AsTvmsnZtYL+WpDcWRRL2YjWvtSdGVuPA5bB9xE89nfozOzaz5Zsu9PAzHvx1l4aVQuRd54n5quCeNyKeE32arh73MrMaBUZwxuwGYNso3Xb+bOrejKVjbgmyNbacDSLU/D6filSlmMnNULzXiisqvh2ekrxPJ5iGw4hLktk/7jDX8hSMx2zKXnccZtbHpsn60cRlYthF/G9sZvY/lZ2eZms5VaKvPVXpgd15yzEfVLt8HiPu3YuipAsXn10TUeexIK6IcIEAEiQATeKwK6iIgI/eMmCeVmzmPMMx1iHZ3gyCaXmW4xbGgAn2wS6+gqZsGr51m6/c2yozVzf0O2NcZHr/gkF/M6eJpTw53RZHFj7HiyFmXt4zonfA3SXGzpsk7sT3DOqamf6a/P7OXlBchZ0Uv8dSZr/gqXWlYKJErALjIKfPwpX+WA/zfd+HluB6bnFPuwZ6tcGA9VMU2flGO1bA6uZm3UnO4klSuVXBPm6qXEhfPVBdj2LrhHRUUJx9Hc9a/kl9BebZ94bCehtPGdU3Ryh9bF1bzTzssd6ySvyhGfHoonAkSACBCB94+AzT24/C8gJXWLeB4qq9D39HzMxvWa25gTzhbs90Nd3tXi/Z1wbk3z5zKZaw9hvbiL4dWiNxrd3IpWBT4Cj+ez4vsz55av2buhVX7Re1u3bl3s26d0O5vLleKsJcAdBRf2P76Nnzd3ljtYrE89Tq9+fHpsiTeULe4LWHz6klQu5lTZu3LN5vNTdcdzXun9lJmZ12F6TcRXj/jiXZR1fs2rjy+Z2Xj5pcV2RYb2MavepkhLdIpy215sm8pFiYgAESACRCD5Cdjs4HLHMembdq2whHT+GfCryG5BRz5M4a1wXE3z18XmwHeXNmBt8bboXmAsrjx/Dkn3EKu+qSYmrc05642C+j80QM6tKT06ft8ImF4T71v5qbxEgAgQASJABJKLwLsZopBcpSO9RIAIEAEiQASIABEgAkTASgI2r6JgZT4kTgSIABEgAkSACBABIkAEUoQAObgpgpkyIQJEgAgQASJABIgAEUgpAuTgphRpyocIEAEiQASIABEgAkQgRQiQg5simCkTIkAEiAARIAJEgAgQgZQiQA5uSpGmfIgAESACRIAIEAEiQARShAA5uCmCmTIhAkSACBABIkAEiAARSCkC5OCmFGnKhwgQASJABIgAESACRCBFCJCDmyKYKRMiQASIABEgAkSACBCBlCJADm5KkaZ8iAARIAJEgAgQASJABFKEQPqnT5+mSEaUCREgAkSACBABIkAEiAARSAkCOoltKZER5UEEiAARIAJEgAgQASJABFKCAA1RSAnKlAcRIAJEgAgQASJABIhAihEgBzfFUFNGRIAIEAEiQASIABEgAilBgBzclKBMeRABIkAEiAARIAJEgAikGAFycFMMNWVEBIgAESACRIAIEAEikBIEyMFNCcqUBxEgAkSACBABIkAEiECKESAHN8VQU0ZEgAgQASJABIgAESACKUGAHNyUoEx5EAEiQASIABEgAkSACKQYAXJwUww1ZUQEiAARIAJEgAgQASKQEgTIwU0JypQHESACRIAIEAEiQASIQIoRIAc3xVBTRkSACBABIkAEiAARIAIpQYAc3JSgTHkQASJABIgAESACRIAIpBgBcnBTDDVlRASIABEgAkSACBABIpASBD4oBzdow2A0LF4CPfb9JbN9dBCtipVAvf6rcT8laL9HecSEhyA4OFj9f/fOIzyLjnqPavDuiyrhIZZUK4g+2/T28+6zSBUaf59YCxWHHcKrVFGauIV46L8UzeoVQ4mvdUkrJ7v+2+nqYc2913EzoZh4CETixoVTCAx6Hs95OTpZrpUPpL1eh17D6VMX8dSI8Ju7h+DdqDbc3d1RvPpUBL4OxaVTp3E53EjIhqDSTr2337IhtfVJTs+ombRr1vosKcUHTCANObiRONBfB10dX7MP5rfXF+GrdjOx22UEJtX9n9zkbrUwZXRZ7JvbCbln/PEBm0Hcqodsa4jChQur//Pmy45PHJ1QfsQWzY03bsq4MaHbe+IjXTdciI57LjXGSLiKMTodvtigvenrYsJw2P8GtoW/JxWxCW4knu49hBOnI2xKndyJXl6chc+q9cD2hwVQt44HMv5t+xM+NiwEG7AP/7xv7213N0HH7HNp8H/gmMdcRcGS5VH3q9X6+6z5+26SrpV46vfetpeVF8Wd9UVQrrw7Zl94I6eMOI6WeWthwq6nKFy/KvLcD4HdxVUoUb4cii+/aqV2rbjSTtvDdNoTyXIUiX+2Hk6195ZkqTIp/U8JpP9Pc3+nmTvh9U2m8CWQ0UQvf0tdWag3MsETxw92wKdG5/O0W4Qzf/iizJBSWNNMQsc8Ric/4KDklAfpIGFL8D6UdXmJiJA78JveE32mtELZr2/iVtsvLKaji7yGt3DDWweLk/zngn+aKYFkL0c+cpLMnE1DUZlYXf6Nex2lhho+Pb8VjmiO4xd98U1qKNB/UQZdpD7XDCmfu30RPL4WhEeuOfT3WfP33SRdK4nUL5P0H9Q7BUnn6foQQfUi8Gkh/eM55Cp+Y/kvCTqP7oVYYCL7HxWGoKDGcHbjEbZvkr0jstie3PqU+nuL9QkpBRGwnkCSe3D/DT6M77vUEj0Kdes0w9CZm3ApQunhisTxDeNRmvU28B6HIrWGYmPgC00pTy34Dj0XBGjiwD5Fjaw/GHse6aPZ8dh6g7Hi94vYM6Of0Jde97VIp3xGDfP/BQ33A/YnfDBglBdGDxyEwXq9UadXoRtT1YrJuJtxskpP3Icm7LzH1MPacnzQR0+QAXnxecFsyO6WFwXdq6P30g0oxZj8ufyippecv0AcWfidpp1/C9Z/wmRt16v9CURhK0YPHgWvUQMxpK88JCTMbzaadFiqGR4i4U+sbN8JM/zkD3Rc94b+HTHd/wEiHp3AkskjMMxjlLCNZ6eXwLPDHBy65IeFHjWEjTnoGghZ46bjNjrDo5EoX8ni9eAx8FesPPXEWEQTPjOxBzbyeq6YCC8vLwwa3BmL/AzyhULv4tz2qWjoLtt15QFrcEMxeUVTxB9YPqCBKBO3/UoDlyT6OdGS+oiXNSM+SnacpfFQG3O6vv6qG5ZfYNdf+FWsH1lPvY76rb+iqDHs7UNw6sxa9PqquKhD0ZpjcDTUcFqEEqkjL0OT9oxNTDiubVumuSZNNKmHD/3WolUJmavOvT5+2XZZPRfmPxZ5PI8hllnTSnaND/MYjK0JDC9I0C5VrdpAommM7kVbJ/+fvesAr6Lo2u+lI58GFA1iAeGXItI+REF6701Qeu/SDSWANJXySQdBamjSqxTpEAgdNFRp0hVCERJaisL+M7N39u7u3Xvv5iYogbPPk+zu7MyZc94558zZ2Zm5jVSdZ3wOWcj5vIM9s4M0vajIvnaYpz49PLwMfSrmEZgKHzZls+GLSPisL9Bx7Boc2T8fbSq9L/Jxv7nxYpxglPM3vWULcb1gxBdCP6U98MTfQuejda1KolzuKnXQrfc0hF5Xy4pChn93sH54I3w+ZpcrlY3QTmncDN/vZW84zuPh4XloU60f+KC+wmWcOQm7T6o0vfldXtyWrciK2NmXfDzr1RsHPPYDkpQvnGU+45nJNmuomLbG26ZSrZYY+v1qzbat2obbhRlfnzrEK+U22LuJ0J9cVaqgcfAEbHb6zLuXtmDaxIOqj2X6Vjh3B8Hm0ql90bd7MwxffwWIPYENX81GuKlpf105SdM/bj/j1/NRH90Rex6rejXW9LZFy474nj0O1GVxu2TTI3pXb6H6Dt1DLieXoeusgyL19r4fmO7VEtMAHf8tKPAbteCYoa/QFReXdvoAWcanbDIjnQkBiYCSgOPO+i58KEtJjoJKxxEjlJ41c4t7jDnOqD5UVjdm/or7rJr9lO+nDFNYcCTuB++956z1obK2OEsr8YPyQMfHo5NzRL5xp+JEqrwXtBiNai2aa7SyLzwr8lxb2VaU4bxUqlRJqVg5r1IsaLN4dqAnFDZ6qxzS1WG+tJPHXOZZvr+wsITCRsqU8BidlJFhKu6jefuqx2PlD+U7Z7uW7zNNWTRrtMJeFkRbTD/J2u/CYnHN2y5n5cqibfKWGamcZMV5HalQVdkdK6mxc+xxpT7LGxjym5rovJdtL88jwv8S5eU9b/fmLWpqdYm6OYWI1ZpeBA0fp3zbp4m4z4QZBp1TK+P/HyobO6v8o2ABwW+1vPmUNuuvKI+V40pHp2y83ndrtVTq5XPmrbjMRS9ik6af3aYsVuaO6yTq9KWDHA+f8pjxcTJuxlJPi2PcrEUFjbasQ29HBpus5JSJy1qlttKq9nuirEEfbMio50HW6Rl3rg+faPWMnjJWaZfHyccY1XLNNv4hqihaO7saUFz51EuWS/oV6WfiU0bKo8dQplWs2UKplt/J+1CX17m9fZAm38RFC5XvupVR20TTHeYP9djnq6Nhz3WH2yLXwX5OHSyQV7Unfl5+MU6R/his3NBxY5X+zcur9IU/NgEkbtX6AhAk7JEnPdw73MSTopweDZedmvTP3CbS79q2FRNb3uST7SVx1mMv+wFOzjfOpkqdtzs7qW2Ws0Y/Zey4YUrryur9AOZruF8QfZW0/0ottbbhdiF9mB0d4j5J9oUVuwcrwd2rCcylbRhs2eQ/uS9qseCsm+5yEQ4EvaK2HetvFy4KUXpVVPmv6OwjOW9fS/5rt1SCuzXV+Mgn/a0TC8Mp9qDq0zU9VZ8+Dh8r6iuz8opIuDRZrY+3S7fuzTTarrZx6ncxl680yCorNekYT/YlmyxKZ0JAjwD0N/G6ZkrIO3vuHPdGukreO7lFmbf1hmaAGBbmehh5SJTJiFHKJZHqrvA8WToy2fHI+6K9lipXop3kmNHxQEgfHIvOgRmP/tAcTs9d+mS3a+nYPXWYbgWe8QTpeGTbxkSeUOZWVR1Yi9CbmvQRC9i8DtYOety0zq3BFpGP0+KdgKurV4vLdH0QzcvqA1yNFqtj8IKjyp+s/aOjo0UwKQOizxce0ILLx+FTBT8yQL4YUlLcT7mosawoMX8ooVtP6xKMl5IHl2NWn8t0VOinbI+QUfltZSnrCF2d3ENlc0PVLvRyKc6XtiYr1M7AWKN6Z0ceyYOUT9IxYylpdVpwTMNGdvwlO+vsyBmouuipNsnlWRR+XZJXLixoJ3BssJ63vT0ZJQ+oPlLZH8GdxEPRdhpR/YWzU8M7I52+gT+8LQI+/vKyOkrNbGXjejLy2o5eSr8i/Ux8yhh8kQxYcvTX9IL7nYnvuPyTpseNXJ0751ViNDuC36nY8xeS2Xtu8ARxnJxVSmAv+ZS6NJ2/JWoHK8sGC3ggrE+Ou3ZI2fLLXS2X+UIGqEtF/SyQYIMB3J71+ry0JEtzBjdW+mfVJjKfd1sxc+O8d9qKUT5Xv2DA3tQP2MPZol5Jp+Faw8Nbv2x19m/WdnF+ZTeBl7Rr3zqk0uEYh4Tr2oXp/6L5O5x+zTi4IG1b7z/NuqtcnC344MGv61AHmeQLzJ31rUWeCguPubI45fYa4LLcPMDU2yEnwF8IXHrCxiZu39F8DX/+WPlNHfzQBrCcspsCXE5D7yul7mg+yYZsvD46CAEzAs5JPszc4nk8Pv+z+LTR5qdgFAlwFf5PrnJowqYFXZo1k83hLIiVnYq7HgYUQp+QkpjZaht+jwvC2845ja4M3q9ataqHN9M487C5YE0rAYvvy4RorTCftiDn4fJJ9HwCRPZCgdpzq4vU6TOL5Af/xFx7KwaeurRXEcemFRRNbwSkOfsUO6tURie30Tg0Z6Vo58eX9iA0QkEy1gyP0l3FbZ7jSqTh81Ry/hnfYoqIk5jHE6fFnB0GNczuzCPb/KaYj9mqQWGtvVGgGFiAjFBnzoDX87OrnRg+YCKyf1ERH2TJivQZMqNUWWcGi5PD+dnvfrRRdpk1e6uWKB0olTcDPmj+CdhaJbzAu4+485ixUM15dV8o7jJlfJwWSBGhfqw+6nWBmm95JA++zyqtlg3f17DJkCmbKNa0k8uOlMDM4KheMRGMKdYI9Qu8pqVmadgV9RtNw/Zr7Dt13HWbMqo87FrTU5svm0Y2nUZZvXh0YZeYFhI8swPe1p5lQOXxU/CIzZ8/f40tqHrJueiGPdfbuJZdu7Cnl0ZW4ldG74uUwGwCwztDWmh64UAGvJODMeT0T8op1V8iYzQOhIbiIVMtri9/XrohuI6MZPI5XVRcsVZoXvRVTZpcRVqx6x3a/WPn1QMHK8MmEqlHWgTmY0sQdoWg3/jKGFCxJLK8E4iXMxVCuUzOLBanTAXKs9Tp+OnkfdQNvI5Zo4AiI/vg717/w5rd91G0zCUs28n858L8Qo+4ihsPZvDOw6pNvNqKLGg6W8vnyqTHHqZ+wB7OEjMXTSVVZrzPbpctHICRNV9EldL5kS1TAF4pWBavuLLBbBfvVG3L/M14bBZ27VuHopl/mMem0qHnLrQs8KKLMpOjfiPXrdWVN/95ce9MUcQRdwGhob9rxSOustkMuIA/42JxbtxMsGAXExpwSdVDScWcEzuuq7ce/xdqMwaPRjfHl8vPoUZL5jHiDmH0JDYVuOcX+NjpClNlSI/rh7dh+fb9OHxkL05ExOFPTvGx0dI8VuLhgS/ZbnN/7eTBAwlKfk4R8DvAlXh99I4uupWJ7KywhTh8Dmfml3SJ7DLuGvOWqIoY7hfjqZRGh26k6+lOLnbwFKzIcsmcF+ncPbjM8lye2Sd2fJThLMbU/xJHWbvVrepyjhKQRwhH+8ql5a3rzBcUJNLh7PstqXlz/OnLdMe0MhPRbl5XVJinFmcjBpgcPtvYwegoS53RJRku3XWJz89VAxJeli/aiMJoVCs92lCO3zywsUDNmzxuBH0k6Gn5ChzMpPQBiyPutghAWQzFv1fHS0Y9D+Y65L1DUTva7K8b34Di7lwVWWJi+FYH8XNX/uil3TJWvshdL6R0uvOEpigzQXfvvDT7HT32st3cSxlTCvRejVqTa2Jl98+wUj6qPhJ7f+hpGISQj/hZyVoI/dh52C+XMOH1nzGNDUrs6NYXkT+yNQ3LjqDP+3+Idp9eIIu+mO1rd0xctmKbiCmjFfamLIBNnGU5BzKj1fb/YUCZPujdsBR6Ox+UGL4aK4JrGBYm69sG7FV+McvL7UIe3nTosbPP8zXgImnZP6v+Z1aLiphlKpQO6dkCazbtl/1FVSyKXKbndm6T5aqB6W8DfVutwq2WQUixbYq68K31h87id7CmycuoOV+9LdO8ByqU/Rv9NrJoPsH9gHfZxMCCHSEoz3OHgIzr/Bb8Ty97o/LFILHO0TBZQcpsJZCMjbuxHac8HslsBAEeC5seyNG4//igKTsRGsGVAKqjb03bf4aGn/VH2LYRbET3JzQN6Gnc7usBe0/JPAPswzWf7mL821hXGz3kVD3tomBO5wGi+fA1wmDOr92nzoa22xRERpzAvu3LMYMtruIL3noUHOK2AEgr47zwpTPm/Pye69ttfjH6uBELJzbx2X2Ck/F0mHlLq8hRdU8lEpaupHpZjIzzdniSMv4ZYxw1T5uejy+zPtIZAIsbO//ioZcaOX/KaIXtXXx5+K6lXrTJ5T6q6IuiOShOkaUGVikP2S4Hv2DnigUYWIOFMmt7oWgHz4tnHWzsuXInVtO69Vg8ewAeFeuPgikD8MHndZBucggWL/xR7D5T0A/+fPHv67lZPl/59c/9wTlz6d5Qom/jdPgerFo4CWx+PcL61kSXDbf0pE3XLrsQD3zoUDpnf3juqnlVqolsPG8d0bfEl7StkSYfzPzOfWUmCqRSe7gMm8Ld/J6Vv3WvPgOqj2/LFkT2xMozl7GbjQZzv1/bqRePT60RwW2BYZtFX7Bt9hj07T0BWyswSgwTX4e3PsCnbMZ3Yl9V0fPnCAG/A9xkmV8XK+qDu6w2rAJGLNvi5EIUW3lfVgREQ1a49hLlqy639AljX6nfQWrnmyxX/oDdew1Gd3FPuN9NYKalpMqAEozaOfZDBd6O6Ng74nFCnKo3+kn1mRh9Y8ynYSMbJ0PqiZHJghXmO9s8Ld78JDnirrbBpH33TSJG4xLTA/V4VQSVx01N4GBTAHiwqU9/cPpnHGSFvI3Ymiryenvvwkn8zgb/AgLfw0elP0HrET+BLZoRn+1ue+ljuNM/t+uSV9qWD9mnzvJspCNVUG+suWvKwWzjnP/btgpi8oXNyNsdHNmz31RZwm/lNB9OKTJ0qRipqpCe9SZPQEbNn4z80TCtZf+KKUKQlBniM3prVy/1GPlTRl/e+7WU75tuS4z+khX7i23B5y2E8kR5p+nHFi6fPMWwS4tXcxdEiToNMWT1HjHqhtvGqUJmenmrdwG29UKbEZfRNKi0eCkNrNYRuRGCDt0W4EGjquza+2H2u95z23tqls9OKf9xvoPTJ5mDSpMBOQoURa0Gn2PpwZ2ijzsYaTRavV1cXD5B2EWZ1/mXTN86JPujNEEDsccw+BOt1m9HSIs8r+WuwrZiDEfXmYfcnt76lTvetHgtL3CXDVLo/a3j+nnfuyg4KWaq2k7sNtQuZxaxY9Fn31UyjGzzbA2qlNbS+I44ezY7C3s42ekDfMvmgTglP/cI+B3g4qUKmNyT4RfWBK/WGIWfdoTix8VjUDvNG3hv1e9IXaYdvmaPNzV8F61nh+E0m5szvfobaHsZyBLS0TknT3UI/HNu224TsWLTQgys5cA7jcb70TBpkadFCRGAteozD5tWLcSYkIPgn57ysRGKdP1C8LMXqr/+0P1fG6nwwtZT9ShXy7lgCwtEm2fupY4K5W+9XnQCg4u+iDrj5wo92LxoMho4XkBWpgf8eLtALXFu0bQ/m8+3EhOHLhEvNNxx8aNF6SAs+HEVZgZXxYu5msPdRYtsfv27s+E9ZE37X3w1ezX2HDmMsFWT0DuITedEWbzp4c3fgWyoxqeOTyqPLnNWC73WbxPmnZEMaLx4uHi5qxdQDd8uWczmxIVi6dSecDDbmHPRNY/UOx0PT53BJeetA9uS70eB9cuo9J36KZ/P7YzPIQNmtxeK3fXw6Yi5gvc1c4LwcpkhYv5e/zpvMvJPQEbpTxbUQ2W27dovpw9j3fiKKNJ/L1BsGZrG8wu5Hb004+RPGTMNj/dMvhljkrOptG1YABqEGas2InTHeqHzaTPXZVupeSzp9sCRq5AYTV/8STNBZ/mYsWzbvDjsfi830r3fGjNX7cThw4exduqXwt+iclbDlxQzwfQF+TAbxAjgp+WcM05f+gBdS6k5K9ZQ59+qd+b/1n7XnCs+99by2aTgL85x59DkvUzI0nwkloXyOaTbMavXQOGLmmbVTWJmdlGeben1w8YN4NvEvcPmpWdAf/yvsvoFxZcO8f6o0fZB4sW+XOq6mLtzB3ZsWIC+uV9A6ffWGl7ubEossqUt0l68zJwIKoyszVhfukGly/vTvHlUuoVazxFBcJ1M1TDhx43MJ3WCI1NN+9Wk+gBffq5m59O8OlbjvkA9kr2szrMdXLC+0D/eB9Rx/B8G8MfpnJksTnb6ADuyWZCmJEKAzcFK0HFb2TamvsJwdP3laeVaHcp2TRhfVveM5Ws1a6dhpSXfFsqQJ9cXypTxjQQ9bWW+tqpW3TZMZdm5DZl+6xIzLedqzehtgwS94G1yezKT0B5W0JpyPVe3fHW33JpILzhfHT6tjNqm6op69pSt1B5XLYdLB7g+sK2KXCvBHyrbh32sPXetmjWm81W6I+eMEdvLuLa2UXfrMO9owHniPLpoqVzKVdQy/4Pwudq2ZZqesl0QDlxT83v6/+jkGkM5vsrYTFuWteLj5uG56i4fOtvIU66fwj4hejys6FjV+dfF1QbeUnebwLacesewFZ4VLbnSWluNzzjh9PsxHiVecocEDSvJP7PLUBNmvmS05MGj9PzBbeWn4cbtzLI1nqfbVUERO1SwgNfoQzzR9KWXztXZejx86rKFL7JqIw1HA68PlV8XfKXZgcS4AtsdRu4qI7ZWNJRx7R6g+UMm77n1Qwx0uAy/LuxuSOP0XbQ9gcR1wLnVn6leuXOGfgcSS1kt/O5955Z6Lr1S67erE1byuXaP8NEPsN0ovONshcVtZVXnym748V1I1MO1+8EH0ib4uexIwy5CIq8vvWOZzq3/VttGi7cT9318lxh+8J0Y9H6N73ShvxeZLHSXt+Oy4RUNMnC6LhkURe76IHWvUY9mIr+5nUQdFv/k7g2G3ZGc+S4sUHeUkLTLBf9P9YFaH63uvmK0X999ACdvRzYLdinpOUfAweVnCpnAIxpx7Kf+HrMl0lZza+PusE9kbGTpcZr0cL7oudUXyT8DsXl26TN4GFZzK+E5QSxIYS5B8sKnRgx1vIEx7E37sPKNbpW2SuPMmI+QM+gA+6WYOPZLMfGfC+eZk+fsSXQMItmc7DRcD6yWy7PnfIql+ZnUj1Tp03sdaUoQmpK31Ok1vbBDj+sS12v9Z0k75WSeGDb1JYZNxUgTz3plec/naETylduJZDOe6rFjl4kuI/uVpkiuKIklm2x7T3ppJbw/ZazoeEgTOs8+G6di/s5f3QKiEcNwMtuTbI8nak8Wcpn9rkWWeCZZyxcfIv7gLMsY+6JorKv8Aqory/CAry3gvszHWhLY0CHeVlzPzW0YHxnd86q+4XFa9itlqS12MHDaV+L7JMaJn7Tt9wE+ZHMHg1KeYwT8DnD5rzMllYPH8DHbByNt2SFsuXAYlL7FxS/98PSHh6chXcH2QMO1UBaovzw1btw4dOvWLamIR3wSAoQAIUAIPFEEnAHufRbg7jIunn2i1RJxQoAQ8BuB+KzcMFSSKAO/BopP9oYvktrR83uU6lcCDQveFCuZcXczSrHgln2Kx6bZ1QQDSU2uJ4saUScECAFCgBAgBAgBQiDpIeD3CG7SE5U4JgQIAUKAECAECAFCgBB4HhDwfxeF5wEdkpEQIAQIAUKAECAECAFCIMkhQAFukmsyYpgQIAQIAUKAECAECAFCwBsCFOB6Q4eeEQKEACFACBAChAAhQAgkOQQowE1yTUYMEwKEACFACBAChAAhQAh4Q4ACXG/o0DNCgBAgBAgBQoAQIAQIgSSHAAW4Sa7JiGFCgBAgBAgBQoAQIAQIAW8IUIDrDR16RggQAoQAIUAIEAKEACGQ5BCgADfJNRkxTAgQAoQAIUAIEAKEACHgDQEKcL2hQ88IAUKAECAECAFCgBAgBJIcAinOnz+f5JgmhgkBQoAQIAQIAUKAECAECAFPCDiioqIUTw8pnRAgBAgBQoAQIAQIAUKAEEhqCNAUhaTWYsQvIUAIEAKEACFACBAChIBXBCjA9QoPPSQECAFCgBAgBAgBQoAQSGoIUICb1FqM+CUECAFCgBAgBAgBQoAQ8IoABbhe4aGHhAAhQAgQAoQAIUAIEAJJDQEKcJNaixG/hAAhQAgQAoQAIUAIEAJeEaAA1ys89JAQIAQIAUKAECAECAFCIKkhQAFuUmsx4pcQIAQIAUKAECAECAFCwCsCFOB6hYceEgKEACFACBAChAAhQAgkNQQowE1qLUb8EgKEACFACBAChAAhQAh4RYACXK/w0ENCgBAgBAgBQoAQIAQIgaSGAAW4Sa3FiF9CgBAgBAgBQoAQIAQIAa8IUIDrFR56SAgQAoQAIUAIEAKEACGQ1BB4bgPcFDe2o3VAXSy6/JexzRx3sO7LtijxsevZwUkt8WHdxpi885Yx7/Nw54jGrdNncObMGdyOcdiS2CO2utJKsmuYXe0DdF97Tpdq/zIybBw+rj4Rh5PZ48k+ZXs5E8q/vVqenVxXw+agcd2iKFYyAJX6h+JhIjabVVvcOn0EB45cTtR6zK3x4OgiIROX51k+/rp+CgcPHMOtRGwzf/Cy41c43YOTasVLx7j+zKpXE3Ua9MOmG8n9Ye0fLSP1vceaP/7RehOrMu67y7w/EcdiE65QjtiTWDqwHooXL46MAZ+69+c+mD40una8dMUHuef6sdk+HTEROH7gIE5E/nth5r9Xs1MVlGQn8XVAAAouP/+PKkdsZASWYQvuxBqrvTKvMRpNXIIUrb9Gg7dTiocftumNGlvW4ssan2D93X8dMiPDT/gu5aVVyP5hYRQuXBjl1tkLRj1hq2c1WXQkdu46i58ivTu562u74vWAzm7OMOrGRvwWdgAxNoNufd2JcW2X/8SoKzFp/Bv29uDY98hdvSvWRmRHubINkDYiKjFFgltbsJey0A9LokLJvDga69te/cHEEfcLupRoj81b/g/9e5dNVHmeNmKXln2E8hWKY+qRvwVrnmzySfNtx6+Atf2d1aHYd+iubXYcj19Hs2ENsW39JHxW9nu/A/mUl1YggPVlc8+YBk1sc2LM6Ekvpb6vizJ1XsbiT+0d990nrhzAA4d33+9TADYYtaRgEbQZvxkZ8lZAwzJ/Iy7GupSlzjJdub1pe7x0xZr6s5tqiZsHcc32+ejMAhSrUB4fzz/hoYQxObHth1NPYazi37m78C9UmyaNe6XJ7m5Ds067gc/mYl2b9wBFzaOkzo0hZxdh1LsN0OCr7YgaVcq98DOa8uvmaZpkFwZtwa167ZDRiYv2wHRhha0pCx6nTY305kSLe0fsGTzCq3iUlj187J4hTRrGjEW6e87ETXnM+Umix4V/mO/bR9YgNWpi094fUOCxU3l86FB8WHRrCyUtKh05gIOxGZAjlT3liC8mB76rjeWMyYkHQ1AywF4d8ZHpacr7duPTOFjhLl7OyboL1m6+bPJJ856OtS+gBttWdSnpWOoDqyee05LnaIiL635B1mq90G91NUyr8YbnzJ6eOGTA6Z0/T8Wt0q30Uur79STqg9IqrwhR0ykJcwKKIwIr2CB2tpBwrKmbzQo+Lc2TzkpdeSFhrGj1PGsXnnCzI2eKHC1x8GB1vPRqTpbdBsBPwH58D2/4kOTB0VUYWPsj8eb6ckBJdA3Zrr0BR+6cio4dO2LK5t8NVCJ3zhHpMw7ews8ju4qO4vz80Rg0aBCC+3bALN1UgFNrpuOz4gGCfkDxevh+s2sUkX+qWd6rHcau/Rnhaydo+ar0XoTfTJ8//r4Uikntawo6fLpBh+4dDDzxm2PTm+AI8mPp0E9gVvi/X6uCQ2P+C0yviQVJ4DOWm3B+JCjJzmPRF78A7edi4/d1oFzphTWX3D/h2cHWEXtBTP0ow0Y4eDt27PAFZjKeXvPCF//k0a3VXsRiNYb0GcT0ow/69VyEK843/8eIwdWjOxDSroZoV/6JalKYUde4juwICYKol9VdpHZ/rDtjb3THm+55YtubPUh9Hb98N/Yunyj0ldtM5bGrhM2cd37G56NARWp9hZ+vG83Tlyy3D85Gp7ZTsf34To+YeLO3+2dCMbl9fYEVn6LTrs94LDjgY1oOGwXZu3ykAd/lR+9p8ESGjcD77KWRt9WCAQPRv31frLkcpz3XX3D51vXvjUaN64hPjpyH9r3nMBys8+vLmq+vHlqNkF2/acnJI09h8bg2qo9g+le/Y19MX/azmMLgDRONgO6Cvwj3HsJGobtsRLMc6lce7bEPPHi+o/N7oNvMPfgz7gI2zByN4OBgj9Of7GDC7WRYvb6Yf+gYNk7qKdqC6xWvQ04FiWAvqg3aTcDBKKNOibKfdjT4XE0W58W9Kzswe9oviIYDvmwyeVQ45vf+VPXXTI8r95lj+ETJdbRhm8U4GxeJU2vmMbsORjDj046ckq9rN/dj05jWmpxBy32PEHmzS0k3Q4l+mFYc2NAkRPMx8pmvM+d/+udqn7JkbG/Rl33ZbrA25UH4vwF1DbiY28Jchy+9zHH9ks9+z1d7mOuU91web37Tjs5JWtd2LkGXOkWE7HUafo5urdfIR17P3jATeOctgp8YhaxLZ4i+4YvvXPquJ+xLZ5EyAgeYv5A88j5iyyWjz/GFh74+8zX365w2t0kuP/f/vA/jfA1kdmueFnPwuyBhu5KOJ38hy2+8GYU/WRw2YeBABH/p6h+99V9cHl+xk0/cJIMezo7YU9jy7Xwc/cvlczz1MaI9vdiPhyp8J0dFRSn+/l1a25eH5QobnVFGzgpRRnUsIe5Rbp5y7W6UcvfGPqW1GrorU4/dEvU8OLtI5HkF3yjH711XVrQXob2C/PmUcuXKKZXyvK80W/6ryLu9sxgrVFA1SAmZNUnpVlbNWy4kXDzn9Os66XM+sldrotR+30nPyQOXTdbJ85Ro1Enp3Ki0yie7H3FI5Svy3imlP6elK2fG5cHZVaKcrN/8/Fm7Z3OlhLxBa/5Q7l1ZKK7fG7rPoC/xwpbjW72J0qNjA4W9Kgh6eSepbWmF3cOjs0Qe3m45ypcX+pGnxDfKgXt3lWMhNbVnyZFfadS4qnY/8aCrTUc76ynTbYIya/JQparzXuaxqpen+dK9yHuq7gXq+LdjD3p9Ld64sVIpr4oDl1H8VaiuNCubW1xnxCjlHLMjzg/XT1+yHA35WMPAEpO7ER7tTbYjL9d5yAjl6+71Ba3X8J2wZUucGL1Fnzn5ZjY6dtwgrV37bvlD8H1mfnNBh9Pl9v0BKiiesL97c7taPm8F5bPPOypdq+YSZbl/2XjznkHv9Py4tQXja2kRxlcR1Q9F3gtXbZthXLrHV8qIIe01Pdh484ZHTPR16K8vL28n+HKTwwYeUSzPknKmNudtP3avpXx2MLl9cIrgR+pQpcaNtHZgo1uq/oSNEHn0+spl+nlocpH+/dn7lvXzPFyvUqKiaANvNsn9o7TrDuNmK1NHqDi9gKbKDmazkpbkU565jkXcDPXZ9nbk1PB1tj2v05dd8jzy7+I6D22ryyPz6s9cB3s6bThfHtVX8fMPx24a+sHS3f+njB/yqcCcY7roige9ZnriqW/kdcl+lWPoud/z3R56GeS1HV9jqy0YZhJPzme9Hj0038ZtetcNVSdkvfqzPnawwsyMd9nyeZRibRdb+iqPOnv/utEW36+hNKmm+l6us5I/O3joeddfy36Ey9vpq25afNI77E9FYihjEFGOtTv3XWlem67Kwu49+QtZXtoRP3M/y32lrDchsZNH3Jy2rJeTX0t+pDzme299zNX7nu3HXE987hGfzPq8mpF9NtegVDLwkA5TCskD2kO3zigT34Zwlmsuq4bN6fBOXzpiWcfDY6rTbjRTFwCxxuYd6ovoIoIcWRZlgpR1Z2+qTuruRWVOBTXolp3ihnZqhzIy7HfNkd0+NFY4GdkYMnhttO68lkfyop0Zbc6/tyBYy+vDISaFfNu76HBkss94w4W95N8OtpeXNxNYlw1xdeK84+bt7i3A5XXwzpU7B9lBynqlnrUO2a7pnwzIZSd+dmYNUa8+ENH0tu5qj+0cH92TdWl0vdiDXl+3nVH1lTvPkVlVm2BfJzSetgwKEHJLHbYjix1MJA9mezs+qZjAatwxV6Bz9/ppZd3qnzWeJPbyLG0bgzZoee5fDhWdr3iBvat2YMJBs4BDlvN4ZvZ96eINQ77Ly9SX6JFh6kuLVVkpk2wLc5Ajbb3cTPXFWdBgde1Zs1a8QMjyZkys6uJpWwaDfWRlL+hO+WQ+W3iwemWH9fHgRcrpSzeUexHXlesRHjp7G5jIej/sOkc5eV2lI+0LH8uO8qLyHbO3APQUvpPzzOUWgZKXl3qeT9qg7PDlvcEmGZ+rPlX9g8zHy8Y4g+/6P6jYSx1F5W+UbWcvK7ytrl+/Ls6+2l7KyXGT2PNAiAeWmlyMntQ3PsiiyejFLmX78fP9yxtEoO3PIIaUdeLBBwYd5njx4OOLta6+5apz8EBvO3o++LUnvZTpXvs9m+1hrpPf2/E1si286Rx/seRtw4PFLc7+ntPnvsZXgGsHM094W8nkSWe5rvAXDb3vPTC5uGgvGRvYwcOqTokRm/KoDVTwfOFrpytLWLwin8t6BA2T/mq+jOFo9heyPMdyUthvoh/kthSf/surDjFeLXFj6d7klfJI/uS9rz4mPu1pVb9Vmt9zcB+fOiw+MePlGPy8M4x9vgL4lKA7V26w/2CBM5vt/VpK8LlNZ+bvRY7GX+KDjF+KZ0N2ueatJeMF2fHAeVbvgN8OzhWXyeIuISyMTbRxHtevAXG4hDt8cZFzHm22pk1Q/LVUag4lA/7bsCawGeBzfPhE/el8Gmnb1WiX70VJhqmLcQITnyDNj6KvveTK43aVBoHvssR4zu9yI5MEEvgimu8mArGDPkcRPo+R4VpxQjPcqzsR6w8PRs58Kexhyz7Z7ps8F+ylBCM+zcPmy3LfwU5pVPxVbfENSHKuH6ld+RTcEvM6m31aCC/IeZ0FioAFzdjFs7F6wxesAXujxaMr+xF2XUEyppKP0kYgkj//I0p8vjVPReGP4qN7PD8/bNlDJjUv19dCgaq+OpT0yJId+CtTUzT6MKOagf0PzFJKXIt5ajZl8YkJo+jJ3l7KxNoGuzFm6GS806ksCrz1NtJnyITiKhuCF/O/qwfmCXzntynGHqnzUB8FFESPScUwt9NO/BHbDW+lfqgV45/LrfDWMjCbfMVxAbuW7camg8dxlu3cEXf9ungs5mBrGeN3kTrgdVFg66jhWBTYAaXyvonX06dHnpIlmF4zVWF6wQ+zD1JTTf9ZW9zZAPxZJAteEe/Nruf28HDmLzIPy7+oIvDgyKUx0dKoxgOTpk3rIXOav0VRvm6gfjlg+QOnk+T2O785OjcehZX7eyC48H8QuTNE+PDeQ8p4bxeNGeOF3iYdMRcxb6n6/NqBnbjLMH3Mqk5xQ50y9KtzQZTU0U1Lu6rzsRn+Ys4+O9tt+4bVauAtxSVns5CPMbHVGbVP0PkIzo0tu2T9lDz+zpAe77CcWzL5AABAAElEQVSbXab+SD73dpaa/oDpCOCkya5PT9vDdOUbtCrJ7Jv1SfxIl78Blhbpjk83X8HDoKKW+HuyVUGA/fPW79ltD0lLO9v0NRJmbzr3+NR+jGKE6//QF4V189Qfp1Ux0Oo0X9jE7JGznAFvMy3TvV5n5aO/ihh9b77CTdgj0YskqB/h/oAfc9mUx4yK5Ja1W4nPkI2lPxIdkcji+5+Fv5AUhxwKQZN3mb5xWJkxxaf/8qZDeqascNM/t3Ptq4+xtB87hL3k8TvA1WhOaYfqU7Q77SKdTocDa/yPGfMcfLqPPa67Gt3zugJNOWFeK+i8cEDt7H/oWBs/mB6+gAARvMpkc8fEnSic5WWebEXfkpdezw98LOx8/Aor/hwEuHf2bxJzo1MOGYPgGywCY8e1MPWlY9CcQ+g+uohI4//sYHuv3IfIKQNRrWTCL3wZ3iM2q7r7J9XcK0rnniRT4qN7sox2tmEPZn2VZfUBoJUO25XFGyae7C19CTY3rMQ0dFvUG7UWqRyxkQGMCZuMJvoXQ8ksO/OOKgWysGCRGbtunVXc9d3saUXEmV5KdEUtL5Uji/Cfku3VZ2xVdIeyJfFSmkHY6HuKpSU9mfh3YGlsHVgG5b6ah/bV1U6HP+s3cw/61MvD5JA57Z3lwhRz7sTGg9OPDya+OvpMFVugKuZg+PBtCF5ZAVvaTWOetCea5WMv9c7AyyyT3XuOIV80eg8T8Snbvs98PDBhbNbRhMj598U9rLqahj7BXD9s2KUsw+VIZ+JXPvPnzPXF/YUoBpd5f1gsBrxjf8GCsC+9NPsRvc+Ib3uYq7fra3zpHKdbPOdrZvI+7+1gJoNsn8RsZND7Xhlo6YvZxUNfhvsD7kOzZGLOUecf9XmexHV8+i9vOpTYvPnTxySUhwQHuL13/Y7+uoDViqFHp1epwS17mHz5APw4YjdqvSbfP9QSZofiiP5TjA6turzLwyplNjprVZkpTb4Fnw9nY4W6lZZWDoUX1QfmJlLiNtmfVqnPWBp7g94/drgQKmuFq9i165q4js1UHv89vgUnZkzCvuEfo6izAexgG7D1CJtYX4uNvLhajXckdg9Puyh4K+9gLyIpM3+HU6eaWu/84GLFQCYhuufNHjxUZ6jb042/sniiZ7Y3JfU7aLE2CnVunMbZ02dwcsscdB63GsElsqDU3aGGdtPT5IvHxFZtqVzSpcj6MZKxMclU8QkSmM5t7t2ejXtVxJyDM1Eth/olJcXN1/DtTx31Vcb/mo2CfhC0CjdbR+D02TP47fgmTOg+EcNaf4y3St5Hw0wqSTMmniribeHpSDQ8eAWJjImS6r/o1TkjNn83D/NW3ETnP4ByIY09tq0nGWW63ia5nxUDUkP3IapzbpnF3jmBcnJ944e3bae82aWZSS6HueM35/F2b+5DuL6kOc+GtA1HGrzFRtgRncYyuNVntauX+jIJaQ87vsbYe+trdr8+ePkuW4zJR4bUQwZg8t7qnFDMrGjyNL3OespjTreDh7mMvLfyB/KZPBv0xfRlWeaJzzkh/ZenevzBzUzLVx+T2VnAgIeZSDzvXcvb4lkwZaZAsAUF+LbPSm3XBEnir4iLWhr/1N22cAfxiWbn7rnsg/ERdHl3ME7rNujngc75vVdkcXF+JWcFtj3UEfT64WdDOr/585TdD9t8lCk9cvFCaw4aVsbeuPwLT9WO1OnVXu5ihNzqRXuku4jB3VPs1svony5zkr1MFrUXI7Yy9gfuwCH2uXjXrl3i7+Dy5Vi1vJ3Y1WDOgZv2sGUG++p7wH02Z+SkbleAlExHZrIqfL3bc2fId1H4NSKeqsrqzVwzNf662hkzDtw3tgXrUC9d9LwXqz+6Z9cejIzYvEuALFY1WNnbvYuncZVN+wl4LSc+KFEDTYcsA1uAJKYDRZr7ZifRwFdL4i9swrdrftOqEauNB+9BKjayK7Zw0574vuCjNslf+xRlcrqmCf15JNx3QR85kkdeYLoXh1TMxvMWZiuZW36D7ZsHiVJ/O4WzwsSSLGuLjIXZ96F918XImz5PYuPBaSc2Jh+1/0a0WecWX4jRpd41/k8vgq1rK5tU0mRC6bfZC2X/gW57hfMN38/72Ow9PnKq24SprHJ929xK1bcMaVwvWVKQ+NplijuRYrqdIahk+63uW7oMK5bu1vo1Sd/qvPu0bpcWpi8ZKgUg5kZbLDv9l5Zd87GZAyynJ8iMtvVSFnCe/W6PRPQ1qdk0IH7MPXrGyZV6+v3wasO9200CMXOjxxKsdNYqn1taAvCQ/qDvvOMGsvyHU/T2oNcXvtvLEd73JuDwp//yVJ3fuFkQtNvH6PGwIBOvpHhGDS7aj18qi4nD2EeC3V2Q/YP+mLt2K5sruxnzBtVDYM5mbJsuRpo5hlW1yohP3YMPdkD+92thEZsHFsVm5nzYc72YA+lQsqJyEUaXbb/Va8FPWLfiO7FlzQsftgBb0IVT/Uojb/upWL2FBVlblmFoQ7aF0kcbte1vXBxZX/FNvOuzOVq4+CXerzUEi7etxQ99quHtutMMBf7KlAtsFwWMnsM/r1ofydgWOG3YqEe2xu97dUrWpZNO6sXNs8DD/4k18rgxnb5kQ/aZE1gwZjeiFXvY5m82RbysNHr3E0xdtxUrZ/VEOransJ3jjby8NqBju0FYtXsNpoxaaXhR8UYjX9NF4iVsePk30Pj7hdgUFobty2eg1UuZkG/dVY9F/dE9W/bgsUbfD/yVxUzZk71Fbf0Q7weWwLfzf8L+o0exZ+0MDOj/iM2dLonXLQIHTjd16RbCZra2KojO8/fg7NGdmF0vF7pcZlv3TGrl2vPWzITVPetIXsoOEQg0HrBI+BIrO7Uq6ist7uZ6FMnxKpqNXYjtx47iRNhqDBw+RHwhyhqYGp4w8UQ3e+l2bBJUT7ct8xIVD175E8DkryyVMZe5Q36k6txJnV+v3tr+b2mTeBn1QgaL4LnpW3UxbsUK1oZhzNa/xEuBObHQw9ZwotJ4ytkluD3rb3YhbNcaDK+ZC0GMSMH5HS2nQMXXLv9k2w7+xOj1yPuWhsej0xtQqU1rtBt4XkuzukiWq4BYA7C8SQfRH67+bpLYAqpokzki+xeFG7Gt647j2KElaPFWHeFjRwSXtSIl0uKrlwZCbM61v+2RWL6GTw1ii7iAIZVRYeAibNm6DAPrBKDKBAOnljf+YmZJjCVa6qzNH5rwFw/uD0azun/5oqjYCnLHoTD8OLknMub4SNiDfPni+jJuxTphK//J8hGGciESMIjmT//Fq7Q6EoKbmZ6vPsaT/ZjpxOveauWZ7TS24u/AzC/5a7PhryxbzctXucotgsw7Iaxsl1nkl6tK7xxcrG3bw2nJlfV8hfm8weUMtPk2GG1C9ohVfHKFrHn1M1+pa1ilyXYAWNFVXcnK6fNVk50a5xB09Svs+cp1Tt/T1i1yFeC0o66V5rax8rDy8Kkr71zFabVKXPLKt6/h+IoV/jaxPTq/g6EdP+vUUNyb207WoZ0ZP2sHfaSVle3q1sYMXyt9eHAmVBlR6V2tvNBVth2MftWsVpeujfzSPR/2YMUfXyXLV5/LLa0kL9x2pKwyzZcsdjGxsrerYVMNNihwYruTbDvjYRsjJ1Z814T/lTLaf9PJ67WdLTjvVvJJmfRnviK+77suWnz19dc9Koq209upvgy/dsPVhCnnsU/pXAYd4NjylceSlhUm8pn5fO/KSnVLq4E7tPIyj088GG9iazXdNlayrNXZDiau1ce6nSZkPRY7JOzrrGKs3zHDqm6ZxleRG3SR0baySZ7//K5phq0buR7lLh2kyF1zrHSUl4uPnCjg0hFOv+LkUFc7mNpeyMDSvPVTUk5uiyz413bpkemcZ16P3PpOpludDy/vZ9AzuYL8j0NzDLjwfmbcGteuKVa0eJqVXrrpO8vH81ph66s9PNXry9fY1Tlzu6JcE6Xle+rOCvrdNqz48IWZ3MZKYmxFQ0uz0NkwtkWglS3K1f96n+MLD60eZ1vI+/uX9itjGmQz6ETOSl9ru0qcMulL9f+NV3rkZPotd/1gfFvxyOlbtoGzfr/6LysdssDNU7vJ3Rtke5jv7fQxnuxH4hnfs4MXYMab4COOfdp5yPZRSPVyar9HN2NiYthnbzYnycwR+6QcyX5Tlz97OXUav3kVPLJFZKnYSlm3OhjVFDfWqyOLbAP3qG/4sLLrSM4+23/2dmX8VG4erq2saVnelfv5u/KFLUckWcwd3GafwdOkzoA0vlbSmiBMFs0WY7C2S2PnZ9JMZUXdrPzt2BhRPl40/NS9xLAHCzFEEsfCL1lMBK3sTaMdzzaS7f84TQa87GHE11S9x9vIyEgWTqRluzgk5jISvoOEips32laYWDH6S88AlJnOPr+eve+2noDnT0w8OL3EwoT/eMs3LxbEqI+n49qGzxLkx7zZZEzsHcREx9/W7crpry/xZpf8J6UzFw8Wv4wVLtdrMPvfWCcT2m7tid13B9qbr8zKCNktfJWQj7Wnpz6It7XVYVcvrcryNH/bQ9oM95nx8psmRuy2q6mYuPUXMyta3nTWKr85zV88RDnW91nFR/7qspk3y3s/+y8zrYTipqenYeipj/FiP3o6dq79DnD5ry09awcL9nFwzNsoPyQKbHQZg0q8In59JeruRayqmxXNNwNs9Bb1szwS6ceOHcPbb7N5FHQQAoTAc4UA/zWzUuwzc/hbI3HsRHt7gc9TgBD/Zbks1YeD/XgLBpb8z1PA0dPBAl8r0vLVMmxGeRdsvTdUm+7A00uz9Ej2c7Ba0Pt0sExcEAKEgA8E/N5FgQeDz+LxQc9Q9F1QEMOrZ0MBNjojgt7Rb4vglm3+LYJbLvezKv+z2KYkEyGQ2AjwuZ0LlrdHrrq98H5QTkSNKpXYVSQ+PTYywndH4VuD1S/Ntmp8Atv2JT7TT54iX6g2t5C6VmTiwUFacMtrTsZGoeu2GYFS1dkEcTEz4snzQzUQAoRA4iDg9whu4lRPVAgBQoAQIAQIAUKAECAECIHERcDvXRQSlw2iRggQAoQAIUAIEAKEACFACCQOAhTgJg6ORIUQIAQIAUKAECAECAFC4ClBgALcp6QhiA1CgBAgBAgBQoAQIAQIgcRBgALcxMGRqBAChAAhQAgQAoQAIUAIPCUIUID7lDQEsUEIEAKEACFACBAChAAhkDgIUICbODgSFUKAECAECAFCgBAgBAiBpwQBCnCfkoYgNggBQoAQIAQIAUKAECAEEgcBCnATB0eiQggQAoQAIUAIEAKEACHwlCBAAe5T0hDEBiFACBAChAAhQAgQAoRA4iCQ4tatW4lDiagQAoQAIUAIEAKEACFACBACTwECDoUdTwEfxAIhQAgQAoQAIUAIEAKEACGQKAjQFIVEgZGIEAKEACFACBAChAAhQAg8LQhQgPu0tATxQQgQAoQAIUAIEAKEACGQKAhQgJsoMBIRQoAQIAQIAUKAECAECIGnBQEKcJ+WliA+CAFCgBAgBAgBQoAQIAQSBQEKcBMFRiJCCBAChAAhQAgQAoQAIfC0IEAB7tPSEsQHIUAIEAKEACFACBAChECiIEABbqLASEQIAUKAECAECAFCgBAgBJ4WBCjAfVpagvggBAgBQoAQIAQIAUKAEEgUBCjATRQYiQghQAgQAoQAIUAIEAKEwNOCAAW4T0tLEB+EACFACBAChAAhQAgQAomCAAW4iQIjESEECAFCgBAgBAgBQoAQeFoQoAD3aWkJ4oMQIAQIAUKAECAECAFCIFEQSFCAe/NkOPaGX8LDBLKi4Cqml8mJDqt+SyAlz8VPLuqB6vnyo+2G30WmO6H/Q8F8VdB+8iHPhZ7jJ3GR13Dq1Cnt7+KF67gdG/McIwJIPe24UtWhxAbjr4hfsW/vEdxKBMJcvwtnGYXDsYlALLFIxJ3Awj5VUKBAAaR2VMMPl/6KF+X9wyqgeM8tCfY3niuNxp7ZQcJPFHY4wNs5sXyc5zr9fHJ9Mxo6qsQbQz9rSzLF7LZXouvSc9IeVj7q74tbMKhGRWHX+cqOQvhfETi6dx+ORSZcbfaNLf+Ebd7F41PpM13s0ZUfCCQgwI3Glvf+i4//mxWH4/yoWVfEEXcHW0PPYNUdhy418S4fnZ6K9xqOw7r0vTG88puCcIbSXfFVvg2Y1qkwhuy7n3iVPSOUrq2sjty5c2t/72TLhFfSpMXHvZfFOwCLWNUO/3G0frqCLS/tpOAE+rMA5/8WGV+4pJ6ujHwyUeOFhXlQ9OMCmHD4by/c2XsUFbEOxy/vxcMnY1L2mDDkuoP52d5Ho2834OX8VdGswt+IiTZkcN5EY1MXBxyVlpsC2WjcWr8Fu/dFWRVKlLTT35dEsZZjcP71QqjUvDzOxUYlmo9LbBt4fOcaFmED/kxq75wXl8DBbGvGqfi93NhrYHOflPi65Mk3JNn2sAeslsvNR0XtQr13KmDo2lvIXbU0sl6+hmRH5iL/x0WRb9YJrZx/F9H4c8XWJ2rzer6ePp+p546u/UEghT+F1DJpUf38rzgV8zJypvKfCi+ppEqDlxNGwmNpPuo2J1cHpEMr7NrcGBm1nIz/H/7A1/PfwKiig1FfGYVc2jO6UNJmRXI2Zrns1AYUSf8AUdcuYPuYdug48lMU+e9Z/Nbg/2yD5Ij+FY8QiEepbRf51zOes+BAcer59bSKxdOEJ2VteRUnq0QhY64EmKWTjbSKqukvPBlW4y0st8OlfwDZF57FNq+6kxZ/nWXkHwAvmGtJxxLYu6hbujmfX/fR+G0B+5pTcRl+3VhXo3Dvo8TxcUnRBjQQEvPCId9qUiYmVSctc5/0ZHTJyjdIYdIpT0IuSf3fP7v5qGsn8CNja/rJX9CGd6DD2F/MHZw8WRMBgQntUdMibVpGL6GfiBmJ+BxPi8+MD8+U1xqBBIzgAr/vW4YpbORVHuGzvkDHsWtwZP98tKn0vnhTz1MhCBsvmoZ4Y89jVa/G4J8BHQWqokXLjvieEQmUhJznh4eXoU/FPIJOCsd/0W7KZm308M72CWjRogXGr79iKHVn+3SRPnnfTZEes28uWrOrT9kn2wKmAMuBzOgfPhZRGI0hGxLjw7CBlSR+cxMp8Q7eyvkaMgW+g5wFyqLDjEX4gEl1btYRg8/hwcu2KZ+r7cnalLf5j6fuqvKzT3ftG+1GDFagX4++CO7bDV90mofL7Clvw1qNZ4hrCZaCc5jTqBnGblfbg9Ne1KUJxoReQdT13Zg+ojd6Nu2Ln64Dt/dNR6vGE7Hl6HZMaVpO6An/9M3z6o/7p7ZibNMagj8+LaVpt28xZ6+qH/p88vrAsLZYzG7OzR6G4OBgdO/RHFO3u/LniriIQ6tGoXoBpr9M3pJdf8AZ86Bu1M+Y1bWaeM7zlOg23ecnu7uXtmDaxIMubBl2g6v0wOz9R/DT2M6Cf2EH34e58jiZvrrdZXOVarVkmK+U4rjO3nhidQU1b44eZtosfUCz5ug666CLjtUVt+neVQzyysFW3oaT2Ogt7wizL5gsdODzMbvcZOBk+WfC6huBVLtD0LVvMPp16y540qpMdQ17D6zw6l+86qNGyHixf1g5VN/F0hzrRJs36zIdp9itm4+b3RHtGEZ/xp3Huu+HoXv37pqu/hY6H61rVRIY5K5SB916T0Podeb7GIaebMDIhevOHxl8ltHp04oRjTT/O2ThMVbxHXV6hlOnK7IvNdxG9Yc3f8zz+fL/nL/pLVsIkgtGfCFwlrYsEk3/Li342uQforF9bAN0Cznuysl0emyTZph1+J5I07dXYuiSqyL1ypdvuHrjgE9b9YWjuU71nrXPrKH4NG9+cB/AbXzo96s1vyN94R6dL3Tk/8TNz/nUEVGZThdY/1yjeT/MY/08jzMNPorpU+HcHUSJpVP7om/3ZhjO++PYE9jw1WyEm7r9X1dO0nwm7/fHr+dvsvojGrsWfSPycBmrM10pt5k9T6fPY7pm0yN6V2+htb98yuVc2LuJy29F7BJ+rE6VvPjQURDcPoNYrPK7ly8gdvonWZ9v2WROOv+jCCh+Hw+VtcXZEF+xZcoDQYPdV2L3fKoi/8tXR2lV+z1xzUZPlfAYtaLHyh/K1zJP7ZZKcLemCguaRL58Ib9p3NzePkikpcEnysRFC5XvupVR6VZ01hd7XOnoLDfvYpxaLmK1yJMRo5RLTkoHekLh9R/SKBsvNH4kXePj5/buwsISCsdetpsAIjJMbavRxzVcOH7fOduhfJ9pyqJZo5VazvvpJ1m7XFisthtLy1m5slKpUiUlb5mRyklGgdeRClWV3bEaOUVh7Vqf5Q2UuuC81/TKSXtE+F+ivExPjoJK8xY1tbpE3ZysUyf486Dh45Rv+zQReTJhhlNvdXWLy4fKxs5OHS5YQPBbLW8+pc36K8pjxaVzvN53a7VU6uVz5tXrT8QmTae7TVmszB3XSdTpTQ951WY8Hp2co8nD66vWorlGl42EaozfDu2s5WsQHKy0rphH3BvazydPD5XVjVVZmqy4ImjLtuXYrYvQqnO/0NliuT7jlWkjGon6eduujlIEbv2c7VYgb2WlYuW8SqlOayzxv7ayrSjL6+S6wvMWC9rM6rTvX7zqozv3gvbmhq42r1C7klIoe38lPDbGu49zyoTJx5U767uobcD83tBxY5X+zcur92OYrXixASt2JO68zS1tihWSujHulOr74lNG2oxen2RaxZotlGr5nVgMdXlNn/7YRvtw+9HrAW9frg/Lpf82gXFh4ScCw9lS96JUu9Lb0f3D40SeicwfCB3R9UkJ1SUTO4K+J98g20PiqMfWYKu++jX3SkXKzk5qm+Ss0U8ZO26Y0rqyej9AyK36Dlk3tzu9L4yPjjxWftP8OWp9oXzbu6vwOdweuZ82+CiTXnM/2WLBWTfd5AIcCHpFtYea/ZSFi0KUXhVV/ivq/JjMw/1Wl+BuLj3U+1YzPrEH1f7GlOdx+FhRX5mVqi/7+5R6z302p23lt819nkFWWa+5f7IpmyxO538WAfhfnbPDMQW43Lhm77mhkT05q5RQNGlkd9a3FvcVFh7T8ihMSXlQIwNcLZBoJINnNavZ4UmnwgPa03FXlelvs9kOrP6tkWp+zen33OWqy+Lq8JiPvAbBFkWe+SRp3HudWMZEnlDmVlWdUovQm5r8EQvqiPbUAkr2RGu/BltEPuk4XN2lWlym64NoXlYf4Gq0mH4MXnBU+TNaUaKjo0VwJPXh84UHtGDpcfhUwY8MkC+GlBT3Uy5qLCtKzB9K6NbTugTjpeRB3zHxHDIdFfop2yNkVH5bWco6G+6U1UD9ocKDpQAEGV8OnMGqDB6NNap3ZjykfhfttVS5wuQWh9NWUOIHITPvkHjQwDt92VY8H5fbFeDa44nLx2nxzmzJ9Sjl8JjkArvBe++pdXv4z/nmnWvwdpdePHC2A4aFqaWc8k/nbzY+DvGizPyK8VD9jS//YkcfjXTVO9m2xja39nFc1hLDVyt/3GFv7Q+jhT7yl33eBnrx4q4dUrb8cldUINvWbANWvNiRQeqG9KvxKWPQJ/YCKAYYcvTXdJr7zYnvMFvXdMz5YufVH9trHyUeeiBfDNr8pOqV/kWOv+Dy4+SsQgY9l7qjDroo6qCLn7pk1TbWeuJ64TBg62ardnC0qFXSabjW8PDWL1s1m5e+cMDKo5ovfHRyibBLdFL9sB0dkXSa6/tn5baya/4CbVDC5VfUgJff6/XarJvKxdmCDx78ug71hZr7SWEz150DIUzHXF6E6ZTuhcVV1njFA2Pus/jLtDz4C4HLJ7PU6Nui75DP+ZmX4/5EDrBIG5X9kfmel5HtL/sXW7LxgnT8KwgkfLIf8/b6I65YKzQv+qqWlKtIK3a9w3kfjd3jZoIpNSY0eF/Lo6TiE23YlzxninLqZzFlARmjcSA0VCyU4fNi/rx0Q+SIjGQLFAJTIlmuZri2chder9OTzQPuKZ6NOLwIZQNUQnxRUBi7zF7IPPlBfS7/B7yeis0RjURsHEtJ4HxiSTPpn19FHJtWUDS9cZUSc3yYVSqjU7xoHJqzks3VLYjHl/YgNEJBsmjgUbqruM1zXIk0fIZOzj/jm6aJOAl5PXFazKFgUMPsznxpnOebYE4MrRoUds3LLFAMLEBGqDNHwOv52dVODB8wEdm/qIgPsmRF+gyZUaqsM4PFycH1gB33o42yq6lMn1q1ROlAqSgZ8EHzT8DW+0DM3WKfrmcsVHNe3ReKu+y73mOm3ikiLovEo34sUGvVqh7elCKnyoOmlYDF99UE5dRuMe2tyYohKOLUe16Rop8nbJMnNrkEQy8sxrB36uOzQJVY4cnHMajIf1SBLP9H48SkMDa3fRQ6lpZ6wbAo0BRri7dH9fVsl5W+xVk7qccDB7NdNvnF88EUyHnwT6Lm+ba+/IsdfTTT5NX5anMnS+qp2DJsCK6h8cZlC8zHpg3vCkG/8ZUxoGJJZHknEC9nKoRymQwl4dsG7NmUxFOlHr8yen1SArOBW9WdIS00nXYgA97JwRI1HbPjj1VOvLcPswU1G3zrAdPhrIXAXrgwbNtpTK+SEXuGfwe06IfgfWzq0Pz96MNs/dzMnxFTsS9yWPqVhOiSk1HTyZee6LGFm63awdHdNpRUmcF7y2ULB2BkzRdRpXR+ZMsUgFcKlsUrGn+qL6xVO6+ml8lyVQcL+FH9MPfDMTZ8dQyz5RWs9fvjK13/DJZSrFFDUdNFrT7jhTe9vrh3psjsiLuA0NDftYIRV9lsBlzAbeZvL25bLNJnj6mrWyfDkvj0hPtaEcuLQm3G4NHo5vhy+TnUaMm0Oe4QRk9iU4F7foGPpZtOkwEpL/6CxaGhOLD9CE5cv45rN/5EMuaZhN+2pOw70Y5sFFP4xvFJ5Uj0AJczqu+YpEPTCxBVsai9BV0TmqLMBH1J9Todfx90Hplqj2cd6XR1/lyDLeiT/0X5iA/nisNToKJlhBqQJ0TRXbSerSv2iR0fZTiLMfW/xFFURd2qrhcTKekjhKN95dLy1nX2NnfKlcvWVaCXXN6ca/oy3TGtzES0m9cVFeapRHhQPDl8NloWcOmKnrzUG32a/tpdn26yx6oO8bJ8wSSf112t9Gh9MXH9QB94uj21TrATDJTK7RmhePGU9TNcDJmErK12ihfRZR3zWDOlT2XtfKtYVmPHxDrUi3xOa6kY4Q+MAZm+cPyvffkXf/TRV5v74rJA79WoNbkmVnb/DCtl5uojsfeHnoYXD/nI19kfGeyWsdInd5224NCGP+alfLWPBWXLJAcLvSt3AkJGncKVYRkwnc3NHnE4GPVPhmFqw/UibQ/TsewL82tBnSUhL4nx5dWXnlhh61a9TRxlOb5WpNX2/2FAmT7o3bAUejsfsK8IWMFetFyvlTC9QMXgOsMMFSUlNvjgy1czW75TsaCBpqu0v1eqb5zVoiJmmUikQ3pngKkG6O97dmOmkq7bZLlqgH29Rd9Wq3CrZRBSbJuiLnxr/aGW6eTienivwXJxn7tiS1QtWxrpgzfijJbD3ws7svlLm8olFIFkCSXgT/kMm8LdFjDwoMB8fHn4Lp9C4fbXJpfrLffxqaVqcMsKJ1/UC8vkMDC7l2/b//EZVNwUVT89WyqZkfg37lWH07T9Z2j4WX+EbRvBRnR/QtOAnsbtvh6wQe/MM8A+K7m1k8JWo+tHyzztomBOt9IFXbPGD4zU2dB2m4LIiBPYt305ZrB9WPmCtx4Fh7jpoJmwb70xl1B1Toxejz7ujgfDKD67T7hT95yy/4J5+yzV8fIS3A5s88T2qp3Gglt+8CD9a+e+0SLB0z+mAy+cMa/WSIOsbPQIj9kIiadyTyI9HvqYmNWnyFIDq5SHuPHrL9i5YgEG1sgFrO2Foh22Gqox67rhobzxRwZ/ysj6bJ7t+GObpKAfpPBWJm/11kx3V2D1olnYyF5My7MBjKxFW7MlcUMRsmij+HoRXCCLNxJP5Jk/vkEy4g+OmUv3BvvMjtPhe7Bq4SSwOaQI61sTXbwujk6DwOKsVqYb4vCpI2zkiOc5bvzy5izt98kRfUt85WNTB9184n1lprb4m/tltt26H0cGVB/fli1A74mVZy6Lr8S8T6rtjBP41m5DeHBbdiTY9AO2S0oIRvUJxtQVtW3VZbZZff9kVzZbFVGmREfgHw5w0+K1vGwlJguUjusU2XH9vGEXhWSZXxer9b/ptkTbNUFK/hfbruqWvGGfIhrlbs7eNkfhlyPL2IfycLTL9KVY/cyzKKkyoAQ7n/NhNbF3opkByjdJSZzOHAExOsrOadjowcmQeiLoKVhhvrMN0uLNT5Ij7mobTHLbSzgal7Sg61URVOrbnNN2sCkA3Knp0x+c/hkH2TM/XuQ5Sbfj3oWTYqVsQOB7+Kj0J2g94iecZgOr4tMYnzLh4eBO7NyuSx6eeklmnxPLs9GEVEG9seauKV/sVZxLhM3P9VSTZcggbmccPqVPxuVfVrjubfN0B+tqvg/2EyhYcHQv2DxMzKjyFn646CLlfpUWGau+iIc3m2CBfm/Tu7swmI8evcnsyr2Qz5SA3Xt9voC4E7Grj+4lE5py+eQpNnKZFq/mLogSdRpiyOo9YlQJt2WwYG0D7vX6I4M/Zdxr9pRi2x97ImCRvvOk2TgsMrGk9AVriRfrzs1GIabT5yjE0pQsFYRuDm72hfjKUFA34GFFxT9dsqKkpvnrG/zH8Q5On2QdJvvMnqNAUdRq8DmWHtwp+siDkUaHog/GtMGfAtwG09jw1aotc38+84i6K4VE4SbTb63flYk2z6/lriJGjrvOPORW4tavaiCQPn0B8eznk65a+E4I4dyH2DgyVW2HWixfu5xZxC4sn31XSRuFlgNd2euxH5nRTWU5szvMK2U7/ZMd2bxWQg+fKAL/cIALFGo9Ryh7nUzVMOHHjVg6tRMcmWoahXypAmaMSc6m7rZhHUYQZqzaiNAd6zEzuCrSZq6LM2xEim9rs6xCYbGd0/CTXdmvktXFmpVtxZt97i7rxGcy/mknH/vEla5fCH421qDdcSPa8vkhPKhY1cM8Li3rc3+Rq+VcsMn7bOigCTL3Ukem8rdeLxzt4KIvos74ufhpRyg2L5qMBo4XkHWVOt/q7QLc9QAtmvbHsp0rMXHoEhG8cOcg0ksHYcGPq0T7vpirOdzdoMjm1787G95D1rT/xVezV2PPkcMIWzUJvYOAl1AWb+qcnZ64A9lQjY98TCqPLnNW48fFYwzbhOnzul9nQOPFw0WnXC+gGr5dspjNOwtlet4TjjRvYM7FhP+Ig6HOwPJinh36lcDHfeZhw8aF6F3JgVIj9bns8XRqdh3ROZRbuAQN8xZBZ+e8uM7v9PRoP7yWj1qx0RF2dMpdG1N2HBXbBDYIqCjacdwg3fdRkcvXv7TI06KEeJFqxeTZtGohxoTwVx57hx19tKIkO0H/XqzY2oL3ciPd+60xc9VOHD58GGunfom2l1lNlbOKAN+TDVjx4o8M/pSxqtsyzZY/tizplujIVUjMkV/8STPh15ePGSu2/HPL6ExQAgvha+d1cN2PxBX36xV6fSCuoxoVRW7nc/dTwnTJnR57KU+Ib/AXx7hzaPJeJmRpPhLLQvfj8JHtmNVroLCvplnlJG/1Bapxzf5sZPtH5rOG4iM2+MOPpQPKibMdHZG2HFzgJQxevAn7Q1dgUvdseI3pt9rvClLx+pe2SHvxsnciqDCyNpuIFRt2YMcG9pWjlgN586wVfXX6su2FXowo8ypazl2CH1kfUsfxfxjAa0pno7pUH+DLz9V8fApax2pvaoX4PvvZ2d25z98X/pzXzX3kh6P/1PJYXdjpn+zIZkWb0v4hBPxf2qauzNZvEya2GdJ2VVApyxWV+lX251d2Y99C1BX5/NyoRzNxb17B/OuCrwz5eN4KbEU53wJMbgFjXpm5sXNmUUau6I7eNki932a9Elyuuve2ut1/jJJuSb6alq8KlytKpSR8hfW0MmrbNVjvXO/KVouPq5bD2FZsuyTXbhoPle3DPtae89WtKl1jOl8JO3LOGLGqW24fw1etdmTtbtQNlRvOo4uWmmbO/yB8rrZtmaZzbBeEA9ekRNbnRyfXGMrxHT7MtGVJKz5uHp4rdoPQ6mQy5CnXT9vhQ5bVn/kqZ4M82opz5zZ4IrNzOy/9tjhs65ohOVz2hEotlXZ51FX9+vbzypPc8qfzWm0VNq9O2uoLQd53Irl3aolBXt6WU7a5dlORK+Llqn+93G7XTJ7xZXXyCJ8SrW5jZsO/KD710a1G0bb93PTMno/j1H5d2F3Tb9nm0leptRl13dDO7uwwB+fDppwr0w14+ipjoU/WOm2WmzP4UPHmj/lzu/7/3PohBqwMMlhgwVe7c7zkaneRxSlLi/nqNlBqMQu+E6pLFvxY+QbX7hA+bNUnjhYVsl0MVnWubMCM61inBa6diOTuB/ivy244ZiHh6i4eGlVfOsIy3mO+j/sPqcf8XHz4ErG7gdlH8X7YTZctdJP3G8uGVzTQ5D5CLwPf9YG9tmh5yjTvod7rfZ0miPuFjDW0nVt0WfgzPW22WFEZUNPoI82ycZ3W91tW/ROvwo5sOlbo8h9EwMHrYgr8zx/s104iYxxIkzo92C/Aej3i7vDPfGmRKkPqeH/u5CO0Qx1vYAxbGXpY+Qbs67HuYD8f+ubLaP8H+5WzGNdcIF0GuowPAtExiIyNQZo0acSfW1H2nDW52zPRviw9VXr/Pme71WOVIHmzoW/64jExMWwaqf/zSGNi77CfpLWn5/p6/bmO5J8rlbRslwgPQ9NOok+SJ8EDqycx2pJjzzf78eUfPGIl29yTPnos6P8Dia1H+T3YgMca/ZHBnzIeGXB/kBB/7KIWjRju/1nb/BNHgnXJgsmE+gZ/cJRlzDZ+cVFJ5G74KnYpy9k0DhvY2tARgRmTO3HbKBqRbCeZx2nZr5emtmp7X88tGsJ2kn+07fdP/tG3zT5ljDcCfge4/NeZksLB4/eY7YORtuwQtt9MGBS2ZRHnnaefml0auVvuABu9xbw6b4r0GTNmoHXr1klBNOKRECAECAFCgBCADHD3xiw3zDMlaAiB5xkBv7cJ+7cGfv1pLL5AakfP71GKzVNsWPCmCG5j2LYrPLhFo2WYyoJbfiQlmfzBgcoQAoQAIUAIPIsIvPosCkUyEQIJQsDvEdwE1UqFCQFCgBAgBAgBQoAQIAQIgSeEwD++i8ITkoPIEgKEACFACBAChAAhQAgQAgIBCnBJEQgBQoAQIAQIAUKAECAEnikEKMB9ppqThCEECAFCgBAgBAgBQoAQoACXdIAQIAQIAUKAECAECAFC4JlCgALcZ6o5SRhCgBAgBAgBQoAQIAQIAQpwSQcIAUKAECAECAFCgBAgBJ4pBCjAfaaak4QhBAgBQoAQIAQIAUKAEKAAl3SAECAECAFCgBAgBAgBQuCZQoAC3GeqOUkYQoAQIAQIAUKAECAECIEU58+fJxQIAUKAECAECAFCgBAgBAiBZwYBR1RUlPLMSEOCEAKEACFACBAChAAhQAg89wjQFIXnXgUIAEKAECAECAFCgBAgBJ4tBCjAfbbak6QhBAgBQoAQIAQIAULguUeAAtznXgUIAEKAECAECAFCgBAgBJ4tBCjAfbbak6QhBAgBQoAQIAQIAULguUeAAtznXgUIAEKAECAECAFCgBAgBJ4tBCjAfbbak6QhBAgBQoAQIAQIAULguUeAAtznXgUIAEKAECAECAFCgBAgBJ4tBCjAfbbak6QhBAgBQoAQIAQIAULguUeAAtznXgUIAEKAECAECAFCgBAgBJ4tBCjAfbbak6QhBAgBQoAQIAQIAULguUeAAtznXgUIAEKAECAECAFCgBAgBJ4tBCjAfbbak6QhBAgBQoAQIAQIAULguUcgQQHurdNHcODIZTx0JB0cTy0PxmcfF0OXLX8IpiPDxqHEx3XRbUZ40hHin+TUEY1bp8/gzJkzuB1jr6FT3NiO1gF1sejyXx45VZJdw+xqH6D72nMe8ySFB8+KHE8L1odG10al/qFJyqfEGztmU78dPYAjp++6irK0ffP7Cd9UJiAAPdb8wewucfyrHXt0MfLkr+zKZTffk+eYaiAECIGkiID/AS5zyKEflkSFknlxNNZ/MokJmpLsJL5mnUPB5ectyT46G4KPWn2PjQHdMKjCGyJP+pLt0S/PFswOKo0RB+9blnueE1NeWoXsHxZG4cKFUW6dvWA0NjICy7AFd2I9I5csOhI7d53FT5H2gmbPlP7dJ0lVDl+2Em9UmT/Y2jsAAZ+sthWcXl/bFa8HdMaxWF37Mxq3N23HvkO6wC/ejDz9BRyxJ1GoRAV88uFiDauzM6qi0ueTcCmwAMo2Ko2LcXcTzb/ascd/DDWLfsOTLjxt/cs/hhFVRAgQAomCQAq/qShpUenIARyMzYAcqR77TSaxC17wQJCPtC34oAdeQFNsWlUfGRVFzcnkqDzzFPovyYUJ5Uegzr2hyPnY+cwDrecp+dfN0zRxLwzaglv12jHstCTLizRpLJMNiY/TpkZ6Q0rSvHmcNmnyzbn2ZCt+ScTs6O/fWMkHwAs+9IPTd8SewSO8ikccP537UNLZp8HpJMVDSZ0b5w4cxM30gSpWLOi7sOQXoNw87F9RUxPpXqHE8a927FGr9ElfWPQblrpgke9Js0b0CQFC4NlCIEFDr1cPrUbILt6rqcfRH/qix6T1OHZoCbrUKYIANppapHZ/bLkUJ7OI8/mwJejcsI54/mHdxggeMBu7brjy8GB0R0gQ+Kc6SWPdGdeozu2Ds9GwzWKcjYvEqTXzMKRPMIJn7sHPI7tiOavh/PzRGDRoEIL7dsCsnbdEndH7F6Ezu6q9bgjypjb2wI7Hr6NX2Ajcw0T8b5OaXxR6zv8pyc5j0Res420/Fxu/rwPlSi+suZTcDZW/L4ViUvuaWnt26N7BLY8j9gLWfdlWbdPi9dCxwxeYyXK9psuZPPIUFo9rg8+Ks3Zneep37Ivpy37WRrl0WbXL2wcXM11qJD7tBpQsgToNP8eEpScMZezqpUbUdHFqzXSVJ66PjK/vN/seyfZWhuv38l7tMH75buxdPlHQfjmgJCqPXYVbbEDzfNgcNK5bVNX9Wl/h5+tGM7VjH53aTsX24zsR0q6GoJMx4FNMCvtdk8ybrWiZdBe+cOZTfT7bCqTcNw+9me1Jm9SR0C75J/NurfYiFqtZvkHMVvugX89FuOJwjuamjMAB5lu8+RBfGGiVmS7unwnF5Pb1hR7yqUnt+ozHggOqzXO+htXri/mHjmHTmNYiD2+X3j8wGzAdD46uwsDaHwlseZ6uIdtF2+mz8bq+7lhL5PmkTmP0m7wSJ6JioTgisX/uDOw7rU7hOTSqJj7dx0tuFH6rfe85OJ3MAbN/5TmSR4Vjfu9PBU3uGyv3mYMTkUb9sGOPnJb+kDo5du3POLJM1UlOv0qvH13t4ixwbecSNC+m+mZuD2PXnNCTYm8vd7D/h1FoXrQYODbcJkfN/Am/OUfr9XJ50wV9PlkBl21ogw813Hl/w21GHrxv8KX7Mi+dCQFC4NlGwBEVFWWM9uzKy0YdNlXMhE8xD9c21WQjo9HYWCeT6OQEifdroEmW3/DDupPqqOmNSSKwjNrSC2/XZaOC7PnAxh/j4bGNGLUgFBi2D1GdcoM72pkv5kIQI1Km2wQ0y3kPSz/vj5/Y/cSDt9AsR0pcWl4F+VrtYSmu41WMxXfte6D+VJaWPx/KZXwVKSKuI/CrJZhY/g388mUAqk1sivX3JqGAxQgtr3ckq3coG0W5tpLJ4x8qLoaegSvl6CykL9EdQWw+4OACO/HiWw3x3tB92Ns5tyZdihvrke7dBuK+RKNOyI8T+G5BqLgfcegWOr6bUrSpwJanVm+CHm/9jR3fLwIPG/JOCseuJtlYnvMM/4IYytJK9/gKldP/gZ2Dpop233jzHop4+Erw+8wA5PkCqNS4EbIFKNg/eaGgmy0kHOF1s7HO1p5ectasjl/6Z0eZ71gAVDUIIZ9mw5F5nTB+GxtsY/RXMPr8U3/rF4tgF5PjDJODH77K8E/ULV8rIl7GeP7ijRsj3dH52HiM3zmPCtXR7NE5zN12EhkxCvvvthUj5/G1j+SsReo3fgML5nMLctpQzr+xtVcmfOLBVpwcGE6+cOafmXM0ngNeX+lyGVkQF4GHuYZh49DSBjr8JuWlFXghX0uRnqN8ebzFvqZExJXBrPVtcbFWoE8fYgcDt0pZgtRVzmPHIQ0ReCccA8YtZi9Z3+HI3aZIfXohXi7sejkr07kRor5bYNBTTjeSvQxnqT4cqVET38yqDceBWej5fZgYgZW+Q/o5XleLIZ8g3f6FmPDTKeHn7raBaH+hM01fx/bWmVB7KSPM/FaZt15F5MkCmLCvDyJqvObyr8wf8WCwxLu1BT8dxs1GwZg9aB88TfhX6dekjJxPT/bIn5kPK53MeGQ+Vh1nOYs4fTzj4fLypsjbarWQfeC4ovhtWl/M+pXlGRbK/HdBQXZvLxZ4Mxefo0oQWpb8D05uGYK57OWnd9if6J//L0O/EXDRsy5cKh9okP/RGVf7fD5iHN48MhH9Fp6D462R+O2E+mVJ3zdY6j7rP+ggBAiB5wMB/6coMHzk50Q9VClRERM2f49GH2YUyV3nV8OHn8/DrstjkTfH39g/UnXIoXsnOacCfI7gwYexO0KdE3tzSS8R3MpglhOp07QcglgQ0WXEHjQLKQUH6/LFUfkbbJvYDIUCUyEm2oHULxRF3alFEN5tjgg+1EyMTxa8/jIReNiliWVwy/PxUdyqwz7A2H6bcMZRCwXkFAZJ5Dk8hy/pLjqyikVewuPURTGDNVGP/vP/n73zgI+iaP/476gBX01iIcCr0v5SFBBUFJHepfceeu9NQFCKrzSRIr2GTuhBinQS6QIaqgRQqkICSBIUUoDs/5nZ273dy+XuUpAkPPuB2zbzzMx3npl5dlpwoa9tGseBSapxO4l6B7sWf1FS+mqgH16m6SDacX/XOGm4VvY7goDGb8vHlq+6ocNrlXDR6ijuAvXM0HWVRb9iYxNVF3oMGINzP56AT1Yaw07ggyNHo2u41dlL/yBRJg6hD6SSGLTwBB42yU+Nv3o41Usywh0dma/7S+O21aJgzCFZ4mjcuDE+7pwTXTr64ULTsSho59EtP9q0hkqDsG/eMKm/SoYvsaBYYQy/ai4/bae8idpj9lPvVze8SkZ+YspHJ+pV/LrJe5LN7O7qx8rXx27QR2J+VP72qMOyYpcc/dYVZ58607G2ylI0ezAYGw3D7LoAw8WjPI1w2m8BSnV8FQsCVtjKZFwUrpI7V3nlDgNDcPrllV1UCdAx+cwhdHjzibzu9/lXOPDTP5KR+gQoM3o15g+sJQ1vy8i+mEgfI9N7UX63Ffn9K74i4xbNluHqwvqq3jVqjBqlhOHni01h/6C151mMoY/4F9EHAdfHoZSnmIPRH0OpR3fbrdcQl+2ODFv+0FB8RT/Ki3VqvbVJfJSJgz7Mblmna2j3u4c3wCWSefD2WOsoVEO0q/IePMgon/3955hf979wpzxKeXY/+lQbqlP3zO9Kcc5KcZiMfYPfQ8P5tnSNJuMWeb/Gz6f7Sj7o2BKfNsyLlsP7YbvvQdTyOIEFZNyiyVocX1RDDaXnQIw+9SMu58lC949M7YZTXbBL/55h3eUH1OJLh1A/h8itDqhWth1K9foMs/Y3xqhyr+htgzPdVyPFv0yACaR3AskycB3BeVTaVzduxfvipdrQ70HVKVXmrxYjQ5OGMf83qwo+q/wJ3sjjg5dpYUVFH3JClXrwqi2yEnty4yccCFOQIRo0Ty8UEULCn5Fy6FnBXWl47VrXV20cyfgR88zIuzweWM/qHSAWAon+3vwljQPi2lvb+cWcWWheYCSixW4BWRKwqGzO0/WVJfYXzCR7IGZUT7X3VPFG9elt8XfjGdh+cjQKFc8key9lY9Zls27cSiiUz/pBmXJ09jLZ2E9o+g7Nt1S5xnmobm5bHWb1zCWv9n47Hqt9uqNCsdeRy8sL79C0g4SMW+Ehi7cXblPjufnAzzhz9hjOh8UiXLyII4UwHE710uDOePnb8WXyNkPsNRw48Kf+KuwWEItrCBd6Yg4GifGT37eNNG6FYIvihTwFqPnPaS4/PnkqyHBfEB9ciSwfbZu+j+zaaEWJ0mhMkqwlkcqEFAv7sqI+jf/rkrNW+Mir2FXF3RGQjCIeZEsZD6d55SYDR+G/lJP0D4cwZexs5OtVGSXeeBNe3jlRVkWsR6Fl7bpkvD2W92K+bHO/Mvi2o5rfcVdPyqk1eDkaP+8/QONWgNDk8BuqJkdGRuNxhOqm7YYBVuNWFf2fghXRnL6IFNxRH1h/3ckLS/RVLF+nerh1bD/uU70oVDzT7T/kw1/F1AcaTXBZHk0hx7/J36y2atyKV1SOK3QZCczvDpmuyCNy1GHQjA6qcSvdeKPqxKl4Qh+0V8NiEFcoFwrT84zrx+K7Wv9B9bJFkSenJ155twJeMU62Fn7tDke6oDkR6V+zl9qCUROtxq36plCzfmjcaxNWXouUBq7WNjjTfU0mn5kAE0jfBDI9jeQZG7iHdgEU77sGtRY0x5Zh7bFFeyd7DfqhlHXV0ROcQv9GtbW3tvMLtktxZV8h6r0QZmfUY6I+cNWYaz3D0piwk/G83Yb/tEs2ZpnHTMGw22R50XHrgGrwjVp6Av0nl9aR5P/4Df06oYu/q3zodPHeY5+K2DuyEqp8tRzd6izXxQynudVDm7yj35suaK7f9s550WKt+lQMyVYu/xhj9lJLaKcrwoUzvTTJtd5o+rCiRwOssHOQHZ5wpCeJ8ZOQPhrjKRpsaCMW1jgktXwYk6CVCeOzBK8TyTlBOYl4YWRgX4cIMe4yMAbpVa4nvis3H/1WD0H91eobMc1gyoHZaGMdfRBPH0hj3dar//iq+DyuZ87vuV1RZ64qw/j7An2HaEepN1/SLp2e3ckL4UZUj2KdQNM6ak+0UegDax0nnrlTHo1+jdf2OmmJpq857bB+uObNaf4iiYkIky5ioqPlSFibrWMwts4ojOxYC2Qey0P0ii8f+KmdJltfunHSGOWnDhHzESPrqbcjzFu22LcNZj98xwSYwPNA4KkYuM7AZXqzJvzvh+JuiNhb9RICV36Db7Z/gaoDiiNy8Yew0CrszLlnIiTE1/FqfUMDklA4Lxgqe+FG6yGxf27vXzMmHsjFLm4EZC8gvdxTA//T1PEyNXmr3cTBg2ojF5OzKt47uwfnFs7C0fFl8LEV0eVg6r3ShlbJV3YHHDz3nqLFKvVtPT/kxvo9o7qmxvODQZtwp1MoLly6iN/O7sL0/jMwrlMZvFH+H7SSQ5JmwU8u7JDGbbFR32MTbfOm7e7w/o/zUI/0KLmHJeovOZqw6fpBlJfDzPYSlXidy0nxYy/V2X1KlA+jfFdlQrh9mpztd1Ewxi2h66QyULLmQ/utkWh4+wIuXbhIc0OXove0zRhWLg8q3B+L3AkEmMXnE/lGrRdUR0MO/oERxdQpOfbenljn3dyLoW5WmnCREoeow+QoFs2BjzTMgTfKtkSdl7fulEejP2fXioc6smJ0Y78ftrdnXvk6u6IOZ+Smeft/h7WT9fuFS2ewdspAbBrdAkOKXYZfNUe1gyrdmS5odXhchGBqO+I8vOTIxI/ez3F9bcPBV0yACRgIZDBc/yuXN6hheUiDeq8Wehdl6jbBiDU7MeNNCjqCph/Q89z1suLRzd5YeOwfc3zI6Lp2NdL8zMGdMJouH7lhehOXzQtlxPNrak+D6aXhJpYqz4wJ9MwZnKX7yww0FDmBOkEx8kecWH+IDNyD8v/xDRuwaUNXufp9VNR68QAAQABJREFU6bE71DPuJYcjseW4aaX17eti+Zj1IMP1tbeBf7Cbpg/Y1C1z6FXTLgoZI67I6QVZvHKiWClaed3hawTuHiWFPLZr1DTR2rlJ1bK6cSsWq/20T3uTvPMrharJnsLPVvwcT9BfIWTUOziS4seBGMePiGVyy4dRsKOyYnxvf+0O5xePHjPpgr0M7V70dItdFH4NtemE9s7pORkM/r56ATdpWolnjkL4oFxd+I5Zj5/HZpTTTUwqRmFohxj2X9LrEM1EKYj/0u4rmXP64D16+c3QANPqfeH+Eem0WNGvuRk1xLzC3xJNH29u1GFa2Maz4pETFamezDxiJLbfNzMTci/TTgpulUejUFfXVOcGLewuXeX29LCla8Y20y4lh7b4STeZvcjApd7+ixdu0/QJb/xf8Q9Ru3EnLAvcIZkFRzquv93RBa0Ovz1wNk7SDhPaERO0Q/bgvpvVU3vEZybABJiAJGCuKZ82FNEzSH80INdHvbFs60GcPn0aO/y+Rp/rFHCVN+S8veK+q2VlOJ52Pmg9xx+7DhxA4IaF6PhSThTfdtNpDC1KXtQUI+cL6uGzVT9g28aZcpswsYDsna7UszhmpalyNAoTC9F+pC2xHlapjgIez3dvwNXdi+VK7Rl1408N8CrfErUI3KophxCl5JLzE3H1CxStPwZr9m3FiqG11V0yDHDfbTtXGoqt3mqEedv2ImDxYH3nBc1Z7J3tKF3wNbSd6o/AM6dx7sBmjBw/Rvag5vUxD4lqfrJ6qc/Hlesg9UnoSSvrTgyOpiho/tw9Z/+wvfz4ChleEcW6zcPmPWTo71mPsS1p+7uPdpoaeU1mUvxoft05J6d8GOUnVFaMbrRrtziTUViYdkURQ+i9v/DHvq3rMXO54UNHE2Y9/7eY0CKgR9dR2HRoC+Z+G+CWYSz8JJVB5N4PUdSnHL6hHSV+orrn8NaF+HLEE5ofXh65DGV+WIcWmLZxo0yDWNz6LYVZf0NPOfoQ91JlzBhHeneoDwp8MIL0bi/Nz96N5aOawKdQW1oMSIYmuZnchzwd7oICzWbIOkzURS18CuFDB3WY1jvpdIUAzYFv4jealmjtgu8bjWX8DlDdGLD4C7xEcv2vx8rpAWK+sKvyKBgmdNzt1Z62M/PH5r1baeu/T9SdNjrvlPNe9XStbYvGn63GyUunafvABjSt6JjcaaF5nie0v/EVdPvwLRTtPh3fHziB02f2Y/mXX8v6pPmbjlPoji6IOrzxtq7UCbIcFd77CkGnLyF463T41B0t12MMqed6mlRCaebnTIAJpE8CyZqikOVlgmIYCo57xXxvRCbnplEjWNSvB9BxDvq0ts2zrNx3Kab3pn4RWkgjKtEDtNp4Rp8uGEarZrdqQmhbsTmlXpN32jxH7ZV+JvlVZ9Ac31LNMb9HS8ynF8Vm1aK1tq+iZN1heDh/AjYHTUAJ2rom3nFyh9y9oXkHWpjzPNu39BFyfuVmWhDyNSoVyiLzxMhKyfIeOncD9s5bR3/BrgFKN1mFjSdbodH0yegaKAZkq6NX64KYtfIizVlUfWYs2BKnV55E8dZzMaTVLvmwWa+WWDvLH9rcwSw5PsbQioUxcXR3fD9a9SfmR04/MCWB6QHA4xyNcGbRMRTrJPSJVnfTIbYYazx1pOzVUaXQYhxXeqk5tD+TUeF7LgRek3vBd/QQ0LeXPMT2Qx381N0JFOpMEj2h+lB/UvxYw7UvT+KxR9a36Fcum5OuklM+zPFMuKzIgAw/7nLOW2cKJlYojaHfdUND4Z+2l+rYVuVkECcvMxZqgK2jFqPOmMloR3oj8rpM31pu5ZU7DOzDE/fepeahBrphbM+WcscO6UbuZEE7VChx9BFmPc5uwagO+goByHngVYUSqUfR3tdwzGcmPuxEH+etZ2qPIeox0csr5q28N/YqtuYahDrDv0DTHVYnRXwxq9zrdPOHSWfE/NJ89DTY1nEsPdjrQ/ZSA3D5YG58VrYrxU8tR8JhkYqDUE7uUBCHPG6URyncwY/QDzG3eRbtHz7L+l6dO0u9BtayLNK17pWOaDq6GyqIbeboyNdsPrbIHSVoyg5NA/msazW0nP8l2vqr78VvZ7/DGFZK1LtRsE9XQrpg78677CScXvEaircZi/rlxGcHHQV7Y/m2Ufo2ggm1DSbdV33yLxNgAumcQNL3wU0mmOiYcLm1l1idnZBBmSEqGmIemwdtkSD+J+aIpgUPcdk8dNmih1bsxToTg3Ho/kjTXFAxrLauSF70/ZP+ypl1v97EhMVuaVeB8AjZo+k0P6PDIebveWT1hkc2a4tpB0/Lc7GC28tb7aG1cxLvNoMbcuN5SuwDMvwj6G8PC516OaubupgUP4mIl8YqKeXDGIx9WTG+M167y1nIE/mXUB6bZFIZFwvKElu+NRlJYaD7sdNDbZ9VbYtCkQ5X8ZJ6T1OrsrycVa9rtLjJM+lA7D0LDdm7x8Pk18mNVn8mVJbcKY9G8dp+zsHW/aNd6YSmC87KqcbG7XLsri5Yy5WIvxfttMIHE2ACTMARgST34Iq/cpOWDvqDFui7ZRjG1p2AopOrInKg+peixPMLK9qg859A8xWfy/0lRdrWrl2LGjVqpKUkPtO4CsOW+nv1nh5HkRHz8sQ0PWeOhAHpRf8Tc7gjNzHyHLoVBreXXRebQ4eGh0nxY/Du6jIprBzJlEac4+8Nk3N3OatGoRsCSbpIQ+Jy2xQl6T/R+qLrmOM4PrBO8XRl3IqYuNR70oEs3sKl47DEm6Qc0rCV33+O5bqMVwKBarsouNIJmy4kIIge63FI2Inpjdu68JTLlSlSfMMEmECaJZBkA1cYhmnt8KjQH9v7LManY2qiY/HLtLcj7Xm7fyr9IYqDcuP2afXoDwxQe5EW05bW8oLjywSYQOoiIPpCHc+STV3x5NgwASbABNwh8MymKLgTOXbDBJgAE2ACTIAJMAEmwAQSS+Df3UUhsbFj90yACTABJsAEmAATYAJMIJEE2MBNJDB2zgSYABNgAkyACTABJpC6CbCBm7rzh2PHBJgAE2ACTIAJMAEmkEgCbOAmEhg7ZwJMgAkwASbABJgAE0jdBNjATd35w7FjAkyACTABJsAEmAATSCQBNnATCYydMwEmwASYABNgAkyACaRuAmzgpu784dgxASbABJgAE2ACTIAJJJIAG7iJBMbOmQATYAJMgAkwASbABFI3ATZwU3f+cOyYABNgAkyACTABJsAEEkkg0927dxPphZ0zASbABJgAE2ACTIAJMIHUS8Ci0JF6o8cxYwJMgAkwASbABJgAE2ACiSPAUxQSx4tdMwEmwASYABNgAkyACaRyAmzgpvIM4ugxASbABJgAE2ACTIAJJI4AG7iJ48WumQATYAJMgAkwASbABFI5ATZwU3kGcfSYABNgAkyACTABJsAEEkeADdzE8WLXTIAJMAEmwASYABNgAqmcABu4qTyDOHpMgAkwASbABJgAE2ACiSPABm7ieLFrJsAEmAATYAJMgAkwgVROgA3cVJ5BHD0mwASYABNgAkyACTCBxBFgAzdxvNg1E2ACTIAJMAEmwASYQConwAZuKs8gjh4TYAJMgAkwASbABJhA4giwgZs4XuyaCTABJsAEmAATYAJMIJUTYAM3lWcQR48JMAEmwASYABNgAkwgcQTSpIF7fvUA1Cn+Lrrs+EOmNjxoIkoW/xTdZp9IXOrZdYIEYiNuISQkRP9/9UoY7sVEJ+ieX9gIKLiJBZUKoUeAqp+2N//iVdhutLR8ihXXHv2LgabPoFJFfv4baGNu4vSRozgTYQgs9hz8h36KEiVKIKulNpZfv4+LJ48g+Px9g6OkXYp6u1Seb3EyJmn+U9ZXlJvpctddysaOpTEBJpB4AmnOwH1yYR7ebjkN27yGYHzN12WKvSv2xVfFd2B+r1IYc/SfxFNgH/EI3AqogyJFiuj/8+XPiVc8sqHMkPW4G8/18/ogCrv6WGCpsQEPDQgsseHYG3QRARHPruWOC7+F1diBv9LaN8nVtbBYLFgYkjKGuYJzGEHy/m/1b4YcSugy9eZnQjFOyedKyFK8W+ZjFF98zio2HCvzF0Wrb3bg5XdroW21x4i5H4JCJcug5tvLTTqflHhEhm7D2etH8NCSFN8p7IcMeXO6HOsC4rlL4XiwOCbABFKMQKYUk/QvCBI9KUsLd8cL6IiDu1vjVT3MbKiz4k/8b+V/8e3Ho9Fc+RaF9Xd8kRQCSra8yAgF60N2oLTXA0TeuoLAKV3RY1JTlH7vEn5r8X9JEZvO/GTDo0uUpAdAdkPKlCzqTVg2xfCUL90iYImyOsvslnN3HP3ujiPp5vnOT0uh7jh/viE8fdTaU9S36/4ECvhfwj69vEeh/q/nEeady6TzbiM2OMymqDV49tRQTLK8g9umdDnWBcRzZ0gQXzIBJpCqCCSrBzd48UD0mLoFp35aic41isqel6JVRyAoLNaUyMdX92BUvSLyfSbLe9KPqReQhlNHfzoAS346he3jW6EU9bgId30XHzfJiT66DJ3oSVMa2iqR1fQKFuTGiOCpiMRkjNlhkm52yHduEriDzMiHNwrlQE6ffChUojK6L1yND8j374tPmXpvREO4b25PmW+i9+2daoPwfYhtCPPe0QXo2HoG9pwOxFzfKlIP3nu7Exaf/BuIUIdAtTzv7X82XvxuBq5E03epp5RkW0rUwsSAM7qbm0EzUM93Eo5G6o/Ui9CDGFW7PeYF3tFfPDy5HkOrv6PrYde5u0290f+E7MVU37oyHWLKi2+/b7D0iM2/Lsh6IYZY6+wEshzyQ9/Ph2F4v/4YMOeA7qxw6FWc2PQt6pRQ416+7wpctO/UjfwZi/vWVtNG6SvXb4F5iFiXZr5wxdzsWr1z6cdQDjdOUMuh4D3GX/AOx+Elg/S0VKee/Ov2gbhIi6P6QujKzqtqfSHit6BDeyl11YSBGDZsGAb7fo4fwuwDst2f9/8fGjRoIIfQxTB63XbD4XfKlmfHxnXBGnL++5JxUl7/Ae1MOmGTRCl8hvn5W9BKdKpfQ+pBkU8bot+Q+bZ61JAvzupHkZZfA2bpeSTy7rvt4gvMfPwWtFDW16KOrVG/Ayat3q/mZcw57PhqCYIpO0RezKLe2+/Ja4FVszHs837oOeUgfcuRHiyahUPnzXW8q7IlYiDKsdZOiHC7tQowR8zRXSLS7qyekKKprlkxobXKh9jUaT8As1Ydl3WZYpeuhHTB3p0WZVdhu9J9TQ6fmQATSEECSpKPh8rWslQPirpQ/K/RQenY4G157YFGyqEYVfCT80t1NwOmzVWmtH1L3md8c6Zyxxq20Y2QVXVgO4UMKemuuN9vegyPDYZCvbfKCf2J+SJO+VP5n/BXfb3ywPyK7xJJ4Ip/OUXkY3C0wWPEATVfJp/VHwrmM615VXXofGX14slKfev9gvOx0p2QpelJFtRS2ravpt9rz2u3t+X56CN/6/Kv+DeSbkVcJs+dqnR9x6pvU1Qt+OfkNPmeepl0P+IiZPYH8vnyK+rje4GjdDkzVvsrM/tVkve6roRulvcZUVIZNH6a8s3QNvI+JxYmqEu3ArrofmrUqKFUr1lM+WTQbiVOOav0sDIQ6XurfgelSXFrvI26GbpL1/N+c9coy6b1kvKc6bhIjTvMtTI1LUTNg8T4cZQn2rPq9dortd+1pmWsoSS6TAvVFzWs/gSb4g31+kKkV+iZ4Dbcyq1EsZqKYCrOG66qaVBz0vj7UFlF7kWete7fT+k7oI7kJ+KqpvuhsrO3NcySJaS82sWKK5233zAK0a+fVX6Gb++jxpuYjJ02VRnRrqp6P0UtZ1peanmQYP046BXVX73hiv9qP+Wz6mraqxvKxjGrG1GeBk4couvll8GPFC0cwc4+L4RuV+i1RXkYc1ZpTnx9DPWyy7JFhO8F9dbzpsWwYUqn6u/I+3h1jJ4b6oUWJ1dpd1VPxCm/qW0Dxb3KsInKtAl99HpKtlV26UpIFxQ7dyKWrsJWFNe6b5dsvmUCTCAFCCDpMtRCKyqo1cFhupjLAf1kxdVmo2hEVDeiAVoXqjtRzvs1kW6GBaomrlaJlRu/WbmmOaOKRBirnhiknKdnegM9+KDmwuH55JSPnBrBDj3xw3gEhFEqjNEjEeqr6IhzyrJaaoPZPkj7NFGU0FUNZV5qxqxwrRt4LfZIz1oD0GvVGd1Y1BrF8r3XKTei1DAUq5GkN57WxgT5Jtn0QrknDSWhU5sjbXrxKr7V3QhdkR865VbI8PT4tDJ/+GjxWkK6edWvvEzH3KvWuIhT9J9K0N4LhgfxL6XR9sl60wsRnjACUG24Ehhq/dKjeK+rCfnRoH78PVR2t1T12/QRYf0gVMuPSax+4w5zrUxpBm5i/Hz8mTFPNqtGeMEReloE3xn5KH1WvqKcu06LWhcInVpy+LaelvOLK0juWjwVa/oXiELvxhEeHm52RR8q4uP41cVn5HMtL+w/gMyebHf/fn4SF+ooEEa+Mcmxt04oe365LyOm5aWz+lG5ukRybL/K+KH3UNnc2laHanJA5cBWghXlUuAKZRvpqfbeWV5oPLUy6k7ZEsal+HARadTqE5EwUebcNXCdpt2NeuJxyFzJp8aqP2yZTXp7el+gZGGfLuHImS5o6dcMXmd1lNYOutR9Q8z4kgkwgeQTSPYc3OhPWqF5iRz0ga0e+Wp1QXN8h91igU3sZSynIdwn46ajiY/mAijceiiad1yPxVciMb7iq/qLtg3q4k3tjuY6tfEvh7Etr+AejYZZaAhJDP4WeN8gSHNrOHvmyoIniECMGEGzzoU0vOZLtwm8hlhsxMde5hUg7Wi4enEFLc+icGJpAM3VLYm4a4cRFKogQxTl9ws3cU+EcyPCOpXhDqghQ4eWRfV5e94588uY+PZqgtc91EgpPrlRQHhTb/HkykE5vDxsUXebXsAbNb+biyc0F/vyrUewvJQbtf0boXfLwQi40Bf9CtHczZNr8SXJaP+/GjK8uJCfMUfIfDUKx4KC5KIWMe/vr2u3ZUgREY/gmetdut6P8V/OQIGB1fFBnrzw8s6NCpWlkwR+KLHWQywyM87DFY8LdOyAij6aEnrjg3aNQOu+IOccUtlY6K96vnk0CPdJQFw2IFOoOvB/OsEFau4xtyJVA0Di/HTsaMyT/DJPwse019NioTzIV5BE/2MNJRFpif2kI9p9/Jo1XlQXlO5I1z/q93HWqwcWscjM9TxcLy8FZ2h4f9/RU7QDwCn8EXsLYi+V4grBpMMi6gE6/oky67H61P73WeRnNvgUp2ncB/0w/Lua+LJ6eeTJ54OXc76PKjnN8XNWP149skg6tsReQVCQbfeO0JtADNQ69IbVzbopjQ3rF4D/q9gaYkZ9XLg5PHfyQnGjbCnhhzCORLfZOAalPW1hKImYo+4s7e7UExm9csuAd44dieW5+qFKyTeR29MLxSpVlM+F9Ws+nOuC5tadsPGS6tqV7msy+cwEmEDKEEi2gSuiYW7c70mjhOpsaIttCuSzq6mpwRXz4oqGm5d42zdqjy4Lk7aRNAgU65xb1w2V2nimioULFPu0ftDQOT7yvoQpzb/AadRC41pF4yXpCYLRrWbFeM9pNaDpyCjmn1rz0Z3G02I1UgrksnqySosNp1abjuhooT+ZkbdWd5obvBH9Fx5Dv0mf4ODCAXIhYm/dEJfOgem+qDTdem04vUCtm1el/phfaQa6Lu+LasvVl8Ionx28BB1KvGhw7f5lfF0Vc0NV/RRl42W6E3PGa1ecHE/oAxeNv7vMjYLd9WNfDoWM+GmxSU5sWoz1haYHNmmJuIo9gZ5ZS8mPF/GR1aJfDVTNdhq7dtjmaGt1UCKkJug0PoOUyc8SQzaj/ux6COjfDAFa6HUm4ciKwSaD0D5fjPWjpleL21fHYk2G9fwCvNQ6lHRK6DTZzyl/OClbWmAViiQ9YGdpd6ue8KmKo2OrovQIP7St5KdFCaNXncaolsX0+8ReuBU2bM1siul+YiPK7pnAc0ggQ8qn+WXqwQXC6L/We4Jw88oaJYvqJvTl+N/NxvhkyVVe3optZDRZ/3HR8APqApNUsfWMMTFp7lrtdfXt1gwtm43AgX0TqEf3B/h6DjbvW0k7CGTJvRA05Cmmu5j/72wcr1czKRj+ijb3vmXzKiDFvGA1gPFSNYxvCXh+G4Cf7gRj1izqEZvSE+/bBfbFyfvm+Fnj27kw9RRmzY8u+xREhJ7D0cANWEh7f0aT0Tyg5Jj4i6ns5CblVujzPeFx8lmHcXK6S0VSmCfFj5sJS1ZaEghDfHS4Oq5uHCiN2+HbL+Kx8gtWTBuPweOnowd5FPWP8XBdbxhdJ/46OQwy5amLTcpDWsX/C/ZvXIWRdQsDWz/Dx933Oo2IqX6MuitHUvZG2JVB0vF/lEX6otw40mo5uuVUcuJfOi1bVnE/0Yid+XjNfJuIO2PaNW/O64ls+Gj4bsTQx/GpI/uwdu4guWB2dKviWGqvLJrARJydh50IQeyUCTCBFCOQIgaucWj26obpsne2Ui5P6sH1RjmKamjPKfjZEOWYwK3SzftZvQ1P6VKxDUmK/Svnd9yPbCiC16m3S5P1O/3BAWdHTHgUVfRqj4Uzd/zOPQKy15WcelQaCpo7LXscS1Zbad19IBteb5QRsTc7Y1a8/YejcC1eg+ZemJqrDLlzyUZo2KTvTbs2/LRxrnSS2dvWM1JliLqDRukc70ndWtLKZt5qcr7ut9a0a4IQ8oi2PxN7bvx95Tz+oA5hT5+38VHFRug04QdcoI5VObxr/j6TYRt/PA8dSbwRnCU3qr5JHweDhmCLbcMJVSxtuP+7cbN9Y2BUIhLPPCl+TIE6v0lyWhIWu9/NPyRA8xpRu/JbuiBL2K/S6DX2FYqe8t8PXtPduLr4d/MTuH4+hPQ7G14rUhLlGrbEmM2HsYB0A/e0KT7WGDupH3MU+ZSmZgWj7yIxQcN83P1VrTNz+lSWH6n9F50zOXgU+qsTfTM5jXfjTtnK4K3W8wtPhpj8X/9lo+ne6Y2TtGtxcFpPRFzGudBYZPHKheKlK6Fpt29x/PB4GeSj8IT3XHalC26F7TRh/JIJMIGnRiDp03jVRSMUMaXK0O+U5Tu2KxvGtxT9Loo3RugLfvTVs7RIZXdwiHI8YJJ0IxYXxNtpgVYRT1yzWtkZsEpfhd75B9tyiP29XO+iIFf0G1eqJz2Bz7VPh7so0KIMkQcijzMPVheQKZG2nQAaTFuqbAsKVHb5z1IXWVlXgTuSFW9Bi6BtXSxiv3OGCK9cn+XKzyHBytZp1h0YaGGXcacMfWEZubUtfrJl4ckpGWW8UXigsiBghxIY9INCvbRyBb7Qw2uz1dX4YxZ/rxw6GazsD5gpV1nngG23D5s025W2Q8THQ5ZJvZ286JhcZEejGKaV5sKHPYeHR8bLOInFJ0LvAwMDFepZks/EqvYEDzeYx+ObFD8UAUeLb7RFMzDkgeu0WOsLgx+RPvt4auEJJiKf1k+eQgugHJOI2NhZzdM6k5R1pHdr5/ZU74m9TYfURVxCh3ov+V7ZtHqyMnefbZGbveR/Pz/VnSDwTkdlYcCPSnBwsLJFS4d1pxCNkdh5IuH68Z5CRrFMfx7f6cqG7UFK0PaVypf1oGg7gegLdYlF2fFrlb1HA5V1U3vp+qaFoy0ys78XrLT80RdZ0TNXZUvXFwpXlJPtO1bpOzyIdsC0yNIuQ7Q4OE+7oogddpzVE49Dpsr3TcYvVXZT+T4duEHGQSxWpV5vh+lyVxdcha2n34Xu2yWdb5kAE0gmATE8msTDZuCKVcuicpH/K08yrZQVwi9vHGN7L9yRkSFW7WqHXolpMqxnmh+lOZHnqH2jpJxh+2zbSBkdxAXPk++drUA3uufrhAmIHQa07ZuMrkQjOb+Smtcttls/PmjF97TaBc15TI2xtlpeyIrXkFlXfWuNqQhDNJ7DKe/NK97vKT+MN28rlr/1cv0Dyhg3bVcEbXcO4zvRyPy66itzHCmsarRjgNi540HwMn3bIF2XaReEY7fMUuLdkVH+XWWD/lMj9o91mzBzOhS5nZA9hzsnl6kfAwbdf6fKcNnoxgvL+MAFc21VvZGv4sqPvoOBbVsukSc94uWJumuC0cAVUXOeFnVFv70frewbd+H4fbu5vjClwciAdqbYMdi2BZ0wVsTWVyL/jOyfnN9iylub8WsSpt48g/z81b9/gnopIqUx0vXSqiv29aMom+vHVzfJEkzE7iX6EX5WmeNbwOSmSG1rnW1fJq+ske6M/BPSB2dlS4ZNXMcUNJQT2lZSbPnnqI7R40oX7qadNiJzXk9EnFBGVSliSrcoi4tOqh87DtPlti64CJvqHrGbhTu6b0w7XzMBJpA8AhbhnSrOJBxR2FYzO+oo6/FAzLWMiqbZXR6gv+aawBGFCOvKcC8vL5ObuJBlyFikHaiRg5gPKRYPeXiY14ELD2Lz8bGW/2IKRuCk8rVhZb14S39W8vWX0e1P+itn0bY5Z+INH/8SAdKBiBg17xzlX7JiER2OCDEXl+bdenmbF50lVm5suBj6zYYsJMc4vUbK0dKQ1cuJLscPUS54IzM+Yf2P78f4JDomHNG00t8jkeFCiy+VF7eZJ8WPMbIurpOcFpPcKKoHiIeDesDkjG5kfpJqZKF6JV5+GhyLPIojec7caM6fRX5q3OzT4W79qMUdtIhX1LVx2Tzwctb49ah0J3SA+DosAzZBib5yWrZIWkQEzb1JRBlOdNpd1RNW3U9MHNzWBVdhJ5ome2ACTCA5BGyTGJMqhRaviMOSPUHLVnWQwK/Rvn5gXUuULZtjWcLt4H2j8GXlMcgznjYV/bys/Ms/4nnIkoZo86e6FY34K2fir17NnDkTvXr1SiBkfpziBKhB9aL/T+Xw8IZXConO4u2V8A5ySUyDO4aYMy4eNB/dIyl2e1LimxQ/ziJv9y7JaTHJyUbGrelBgjdO89PgKzF5lBi3hiD0y6QwcOVHqx9dx40+Ar0c16F6BKUO6HcpduEqL+w7N9wN2O20u6onkqD7rnlbU+EqbHcTy+6YABNIEQLJN3Ct0TAaqsmNmTNZYrHTj4PnoMLwcmhZ8o5cgR4dOBFFOvwI2sAc8xq+LoN3JiO58WP/TIAJMAEmwASYABNgAqmXQDKmKKTeRHHMmAATYAJMgAkwASbABJ5fAimyTdjzi49TzgSYABNgAkyACTABJpDaCLCBm9pyhOPDBJgAE2ACTIAJMAEmkCwCbOAmCx97ZgJMgAkwASbABJgAE0htBNjATW05wvFhAkyACTABJsAEmAATSBYBNnCThY89MwEmwASYABNgAkyACaQ2AmzgprYc4fgwASbABJgAE2ACTIAJJIsAG7jJwseemQATYAJMgAkwASbABFIbATZwU1uOcHyYABNgAkyACTABJsAEkkWADdxk4WPPTIAJMAEmwASYABNgAqmNQKbLly+ntjhxfJgAE2ACTIAJMAEmwASYQJIJWCIjI5Uk+2aPTIAJMAEmwASYABNgAkwglRHgKQqpLEM4OkyACTABJsAEmAATYALJI8AGbvL4sW8mwASYABNgAkyACTCBVEaADdxUliEcHSbABJgAE2ACTIAJMIHkEWADN3n82DcTYAJMgAkwASbABJhAKiPABm4qyxCODhNgAkyACTABJsAEmEDyCLCBmzx+7JsJMAEmwASYABNgAkwglRFgAzeVZQhHhwkwASbABJgAE2ACTCB5BNjATR4/9s0EmAATYAJMgAkwASaQygiwgZvKMoSjwwSYABNgAkyACTABJpA8AmzgJo8f+2YCTIAJMAEmwASYABNIZQTYwE1lGcLRYQJMgAkwASbABJgAE0geATZwk8ePfTMBJsAEmAATYAJMgAmkMgJs4LqZISEbhqFZmU/QZ8+f0kem24Fo9/EnaDJkNW5YLG5KSTvOYiNCcfHiRf3/tau3cS8mOu0k4BnGVMlwC0tqf4ABW1RdSemoWKJDcfbYcZyLSAfF1xKF304fw6kL951iehpMRRnu5NkYq68/chp2Wn9598IpHDt1HQ8N1dTNA0vRuvHH+KS8J2qMCEJ0TMrolJZP/bf+/q9gOz6rvoy/MW3/SsAcCBNgAqmeQDpoIZ8+4yeX/PBRxznY6dkPo6r9Vwb4OEcl/G9QKeye1w1FZ/7y9CPxL4cQtrUZSpUqpf8v/u5byJfDB9W+3IS7hobyX45W6gqOjLO9Qzzh2WizyXjIEBWB/QcvYVtkzFOJ75OLq/BJtaoos/KclK9kOI//eXqi5IbLTyW8pynUEnMe75erhkYfrpEME0pLcphmvrYRnsRn2UWzIRtDH3HrsQfhTyebniY292WTjgZ9WB7VyhfD6Ri1un9wZg6K1OmLraEFUKVyC2QLjYS9TrkfgNmllk8/RPwLlQSlLXxzEI6ecP5xZI4h3zEBJvC8EMj0vCQ0qekUPRKrPhiA7PDFrk3N8aqi6KLebDINgcFbUGl4Rayp8w+a53miv0vrF0q2PMhIiVh+YgM+8HyA+6HXsX9WPwyc3g7VSgQjuHH+tJ7E5MdfyYbHv5GYB0B2m1ogLpsqOsx6Tn5AZgmZCnbA8eN18NJrheiFGvAVs5M0c6dkLYLfqTf6jpePZKiQXeQoLcliatEsWJEhj+OxeYHy0dHzeA7T4gNKW41Tx3A8xhsFs8TJFNw7tQVZUQ+7jqxAiThVfzJEh8fTqaQkNy5bVnglxWMS/SgvkEcqf3wwASbABOwJJKsH9/TKAei36DD+ir2CHYsmY9iwYZi9/64MQxiGP/oNQiXqORG9J6UbjMC2i7Yv7XvHl6BXl3kIPLsffl3rSjflP+qFFaf/RsaIEKwb2UT6fdmzPAZtUHuqjJG/tX8t2n2iyvYs2wRTt9jc3DwwDy26TsfxSHPyMoUdxbimPbDYGkch78HpTRjZ4CMZvgirr1+gqYcy6qfV6E3uGmwbg2JZ1cbAGI/3R61DLXrQdcY+4+M0f63gLjIhD/5bKAd8cuTFW8XLo/OMRXiPUnZ55VlTj2V6yet/LgZhdrfmUu/KlWmMrkO/w6pjqj47ytCIA9PQbC+Q+ehyDBk1CmOGDsMwKg/aUTDsGoK3TkezsqqefkrTWX6LMfdsZYwMxsohTaX+iXJSc+hSl1MPLDEh2PPNSpx+pOr3z5P6YoPMl8kYRfEY9nl3Xcdd5Y0Yph/X5HOsPHEGm6d2VssrlaeJ66k8WcJxdOVwPf4Nqffe6XQccr9rSicMnGljIHpo/bp0w8Jjf2tYqMytRp+mY2T5VCwR+GnZQhy9oPauOkuLEOAOUz0guhDpX9Czu3y0duoQyeeLrqOx67b4fFOPW3d+ws5Zg/X6RtRp9kPeIVsW6BxEfTNnt+sheFGPrZnWWfVHfpr3+BwL1v+syz694nMMmLUdZ06sRZ+GpdV6sv5XOHg7VouaPLujIyKs9V92kWko1bgxOo+ci33W+vbmic3wOyi+xICIAxNQtNchxCEaq74ciRHdPseW67Gw1ynh1pXuCDeWmCvY9oUaruDSo/tALKLnOcTLBA536+d7x9egd8tWcmqYZ/lyaNiyJ6avO6fzcyT+p0UDZZtkfCd0fCTpuDHP3UmbUQZfMwEmkPYImC3AxMSfhodubfDDkoGfIv9rJdB84FeYM2cOPv/ttqwYF71YGPUGLIRnv+lYPHss8gXORKtSb+jDhH9fX4MVa4egwSd1MWSNB1q2roRTISvQq9zr+E+ej9D5u914rXUrvItTWNixDCYc/0eP3fUNvihctwu2n62HsdPGo8OT3Rjdpgw8ZwVLN55ecdi+5kt03aNW6prH81s/x8Rdq5A9j498JCr73OXaYW5gQUxa7IeJPV7C0gENUKChbcg55PvRsve2W/lXNTGms5LlPXzWh3rwFqzDyQxm48XkMI3eZIyyRTxDlLUnrPJbeo+laCjSQ15nur0d/y1VH1+svoUyYyagabVXsGbuSJqSsj3BBjUmUp0SEIcw/HbmDE7+th/Bl1XjRPRiXfy8ASq2/hK/vdkGDYoCh2k6y/stv9fliYa3/JsV0XPeLnSftgTzJnTFkbl9UTVPT6e6FBt2FZ+vm4bfI2lONJXDyLBjaibdPY0zFI/LP57BL7ExbpVDMUw/cfds9KxSFr6j18ky996Z3RjXicrTS3lRo+csPHqjNWoUA/ZR733Rb9UyZtMK45UHlIPrsXbED7hgLQsPTu/AgLWrMWhCoJ7uW/t7wn/XWTyhjlMxpL1h5jyMv04fv07SIkJxh6kxNup1BG4cUK8iT12QfH48ewYx0TbFHlerMpoNX6DXN6JO+2S9bbrHLyMK4KM2g7HzjUHwWzwL/V7bjWFN3kMjJ1NClAyXMZ7qsa70ARxT9StMaJIfGVbNxuBOldWpApTW0OWz4Te8BcpW6YJllvfRpnYRnA+ajEZvdcLRWLVqdkdHhO6Wp7A6TV8Lr54DULtgJqz7bii6lRK6Fo1rC77GnLV3Jf+YyJsShqazR1dfQni0BSadIhfulGvhZmKOEmg1Yy1+qdMGA8q+ggsrA1XYTn7drZ8fnu6K5T9sA0oUR49P3kHEDyvxZecyprwxBSP0Z+0iLFn/h65r4r3Q8e9Ix2V5oXt30maSyzdMgAmkSQJJN3ANyS0zejUuXLuNv0PDENbyHdxZ+xkG0fsZx+9i01ft0Kh1b6z6+yg60bM+E9TeHQtUg7Gz32Fcv78Oc2dvwjUyQMVRpusynA+7j7Wz5+DApU2y19Dvwm35TvQIje64Gcj7NX6+vwK9O/TEtKNXsbYKkHF4P2y/nwHZ322AyeQ6suM2vcdJVGoBA2mubJkFqJv3CVVy5/FVnfFAs2W4en85ujZqjC4TtuKMXz1gry82hWWUFeEvM4CHfdroQ3kyEnY/heuPxkMsx+kQc8+LnbM0dyt6eaKp8RNHTGQIVnauCSKIViVs/TPpJa+v7KKMpmPymUMY278H+o6Zj/thF7B488e6MS8dGH586kyXevek9GBs3LgRARsOY+fYitJFhPitNAjbLt3BL6tmYenhq1haDci6d51u4Owe3gCX0Id67O5jYoeGaNFjEqKPz5W6NPv7P6Qclz80BF3526NoTA7z91sq47H28CHMqPpft8qhJv/DvksNZW61LHN4a7CMf4D/bKw5HIJJecn1nosm40HzL88UlxId2+FvzEBIqFq1iA9EcRjTfW7bEzyq4oviWeP06RzSkZO0iPcumUoh5h9LXBF8TUzF0WXJ95LPgcMbUPfNLLpDY9qD7gRKlpcXnpDpzHzdH5Vm3kWrRcGI9B+Jxo3a4KtNoVjdDDjW0U835HVh1ou4C0EYS9dVFv2K70f3Q4/+38D/figOb9mK/6N0i0MMr4upAn4HfkPkxlmYteooTq/sjhhQj+vOG9Lgd6kjZNRt695ClstZB/5AwPjRGD1+De7fPoqJC/Pr4cgL+rHX2b2R69G2YGbttX52p1zf3zVOprGy3xFErpyF0RPmQeOnC3Jw4U79LLzlaHQNt+5HynZgwnjqkf47WNbrWt44EC2ZIs7D0Sv9mTtp0x3zBRNgAmmWQPLn4JZejg3U4yHmIIpq28PyED+u2kLzN9/Fkxs/4UCYggzU0fQkW6jaQP0ZKRsOMQQuKnffpkWR3ToPzMcnjwTZsktj5PZ4LK8f5cyJfHSlrUd/fP2IHI4dNKMD3tDmwyreqDpxKp7QXNmrYTGwvJQL1clQHdTxC2y92B093qIK/OQmWRm3GlFFxvXJhZNyKA0vR+Pn/Qcg+nPETLzwG6ohHUm9Yxk8IyDM8fwlbQYd3cY7snrmlM8epKMOXPEB8oga2qpvvmhKbyv6IJlDPTXyoMY1OJ3k9Us536EkHcKUsbORr1dllHjjTXh550TZCqbkm28o/dohhrSN83DF8/y+bVA2h9WQIh19ryV9PO0GXiC9tURfxfJ1qu9bx/bjPpUR0S5nuq0atr8mYoFaBms0HtiiI40jd/ImqzUBvr5NDGUuryxzEZ+31uNvUbyQpwA5fuDceHi9WEVytBQ7L0SiXs7bWEHfDaW+7o8nX0zDrqP38VHFG/ieClV+Pyr3VGeIObfGw2FaDA6cMTU4M10+tN49kPkV35gzpl3MCW5eBdhgTedvx5dJ3xlir+HAAa0WAsJuAbG4Jns/kYUSYndk9cwln+z9djxW+3RHhWKvI5eXF96hoXY5bdqa7pjSTdG4+Gu677zV2pOBPRdBlP/u6Ihws4amyaDPTrQpbiurIh2NmgqxRqWgWxc6K3wIN651JxpHZy/Di/SBNqEplR1rHR7nIWpRQK1F5WW8H0uc6/pZeMri7YXbp37E5gM/48zZY/QBFotw8cKFASucJHi4lbb4ZTlBefyCCTCBVEsg+QZuAkl7QlML+jeqHf/tC+ZHcgjc2sq6aoikT+rlEUfenFrTLG9pGCpMXsREk6WAzMhbrQP1Qm3GsKU/o8fXpXF0+TDbVANrZSw9zO2KOnNVGcbfF6jN0ha2mAwHoyPrdXbrWfhJb4cYOi/l9Ttmtf8fzqA66lWjsWr5KWNLaXrIa69yPfFdufnot3oI6q9W0yY+wKYcmG0yHGypdn1lrzfiow7WkQuhW2LIXfR2Nq2j9h4bJT5Q1dz4KMFrTU8dOXA3bxwZf/bxdyTf/llsvhIYTA+/PXUD3+Q8hSX0oftD9wG4v3Uamn5/Fn3fviU/UGcUe8Peq7x3lhbhwD5ORqYOBbrx0FHaNW/aSNOKHg2wQntoPWeHp/xYsXssbx/7VMTekZVQ5avl6FZnue5kOM3vHdqEDELDYfo4ojnJG+idLGVu6IjGy9VHuCE4ty/d0Z2/q3yIQsb61E3pLutnms+9vXNetFirCizXqhcql3+MMXvJmrdrQ9wM0uTMnbSZPPANE2ACaY7AUzFwLQ/IxMw9EyEhvrTrgAMmjp45cObs0T3r0Lnmxtszr7zMrqg9THEvVcZI6sHwnbEVJ/pnw4L5NNVgXKd4Uw2GHPwDI4rZej40eeKsdXa84MLYsBnmRt9p+1rrYW/ZqZFkVueVjPCpOxpd3hiO7bfH6gvu0kteK9Rn2X5rJBrevoBLFy7i/J6l6D2NPpDK5UGF+2NtowUplK2ip1IOuY89isjeRVJEqr2eupM3T1IkZJsQS1x+VO1KBu7OPQi4Ow9PSo9D8Sxe+KdLXWTvtAIBb0XLD83ihaln24lhZJ8WWwhJv0rKB6gl6i85GrXp+kGU91SnFphjkEBlRh/iHwzahDudQnHh0kX8dnYXpvefIec2v1H+H7TyMUvR76inXEw3OUj/3dERS9R56fXyLW2nCF1Ssi5c6o61Z9hz7ymaBlbfVD7Eh5urw1X9/OTCDmncFhv1PTYNqqi3I+//OA/1qH1JzOFhN+jgMm0JZGliwmS3TIAJPHsCKTIH15QMqthz18uKRzd708pp28Iw6YYsxmtXI03OE3uTOaePnB84asY201zAQ1v8pKjMXrbarGLfCbKHrEqB8rJXZE7TD/TgNDnfDA0w7ZogHDwKvSqfxWXzQhm6v3wtTPfn6CI6Rpoq1Jvj6G3afqYtMvMoPwDHZzWQPMs2WKMyS0d5/ffVC7hJH02eOQrhg3J14TtmPX4em1EOQ0eIQQEnx4tHj+lzvZ04M71SPHKi4pv0IThipJw3bnwp/pDD5UT+EQdhVFw+csMm5innjS2g+Fdv1yALd/8X6D31Blr0/kRORchZvSMK0zz1/kPX4WGzaiioTS+K7132bJvS4sBNUh4dcvHHJBzJfKVQNYjevs9W/Bzv9V8hCQ/EZ4y4IofUs3jlRLFS5dGww9cI3D1Kynhsp1DGqS3XtsyTdVXZnJ5wR0e0OirriHH6wjQZCNW1F63rFuJF3NUDd3SH3Lz2NvAPzbk5H2ZrRjJT3bmI5Duf1KVGwFn9rEWxSdWyunErFu79tE974/gsjFf78vj7sVM2x+6kzeaar5gAE0jDBGw1UwomorivukhlPC10aT3HH7sOHEDghoXo+FJOFN92M1EhaXPytApTfPlP7kMi1rZF489W4+Sl09g5pwENBR4DaD6waS/aEg0wQguNFpc18LH1Vwk5M8bRNIdDfVDggxFYtnUvzbHbjeWjmsCnUFvazikDxFyxd6itzj5mpdNV7RfWqNMfZK+UFl46PBf0nYsdxAOHu6DYiCCZwvSS15F7P0RRn3L4ZuUP+On0aRzeuhBfjnhCcwzLI5dHAl8u1FgWbl1GGv29v/DHvq3rMXO5WIbnxkFzcpv4jaZ5zrvg+0ZjTKNFageonAQs/gIv+RSCP23d5O5hUfKiZmlyvaAePlv1A7ZtnCm3CUvJvHE3LsLdK8UrS+diHn6DCq/J6zjPkuheVl6iSs1i8eYrq29o1CSBtGjvk3LOULiE7BXd0Ka7LOebZ84ybRnlTGb2D9tjBn2IhAyviGLd5mHznoM4uGc9xrakrQ8/2mn6yDbKib2zHaULvoa2U/0ReOY0zh3YjJHjx8je4Lw+hulVR31Rf9Rcmke7R27TVqzTYpr4MBhjqtEiXDd0RNRRTWhxrliYVu+11vA/qMZvdKmcqP0hxQ92k5yNkXRy7Y7uvNt2rjT+W73VCPO27SXdHYwX3mrhRKrdKyf1c1YvldG4ch0ozw7K9qPViyXlOooEpyhYjVcx7afvkLnYvE/Np2Kd5pgCdidtJg98wwSYQJokkKwpCnFirZGD4SJhPB64GIQZfbrQ3rjdsVVDU7Qu5pRSGzxtbpv2Spzth5LEMzHHLB+dg+msHe+NvYp1r3RE09HdUGGe+jRfs/nYsrA+NZw2Y0RU/i1osdlY2nVh4HB1cZkmQ5yL9r6GYz4z8WGnr9Gn9Uz9VWVaUf7frCSH/pWsOwwP50/A5qAJKFH+P7ob7cIS+wtm0hTKh03qxpv+oLlJi2eRPxmpqTUd1ICUnhyC784XRr8Z9dGx4mX4VU0fee1dah5qoBvG9mypNqIi4ZUGYR9t7fWqEmfCYLzJW2cKJlYojaHfdUND8YI+sjq0f0v2QtoPs9vrfPZSA3D5YG58VrYrRnXYpYstUnEQyuXJQveOw41XTihfqs5Yg1qlmmN+j5aYTz6LzaqFDuVd5012a6j2ow+iR9g+/llepocOyrtVhH56lLOEXO0+iHaXqCCG9UWRJGPt4w4daOx9MeqWeose2D42TWElkJb25MPkju7FYc9UfWr+FTspfLlhODY0HkflXOU8gXqZ61qd2add1muaCIq377kQeE3uRduoDQF9u8tDGO8d/N5L0FDPkuNjDK1YGBNHd6ddFFQ/Yk739ANT4k11uD9tKLpOU92g/NfYsKIfDfmree+OjniVG4aTG7KhY+OR6F6bdpihQ8Rv6CKKH8E35RvxNd1bg7XXKXfq8IwFW9KuDydRvPVcDGmlcm3WqyXWzvKHO3PIndXPj3M0wplFxyCM0z6t1TRVHPAVGk8dKXu4rdGOl5ZinX/ExJ1UHucMwVFh1xbsjWkTw+TIgZbP7qRNk89nJsAE0i4BS2RkpM0ifArpyBAVjXsx0WS8esj/KRmE+Os7ci4uVdpe3oZekSQEEhseQb0dovLPamq0xPZik2hP35nUq3Lo/kjTXDMRzG8zK+P9ET/LLdEcbbeThKikWS9pPa8FeD0NWb3hkc39ohEtFjeSHibGjzGjo2PCER1lgUciwzXKENciHnHZPEw6LJ7r6XoK5VDIfxpHQmlJclg0bC8Z21tz7gok/xH0d30F35ez2qZCOfOucRe6YaqjSNbOhjnRjKZt3Aqoh/88jJb1jzP9cUdHhBuph0lNo4PEaGlIqA7X6uHk6q6DoGkHHrWOT6zsiIgIycHE3EEArtLmwAs/YgJMII0QSLKBK/7q0vNw0AcAovePpwVWE4BROxA58GP5F4fE8wenF9MfiugPNFmLyEU15PPRo0djwIABzwMaTiMTYAJJJaAZuA/IwN1VL94HSVLFsj8mwASYABNQCSR5ioIw8J6Xw6NCf2zvsxifjqmJjsUvQ6Q9w/19qEPGbXb4ImDOp4QiTj5/XphwOpkAE2ACTIAJMAEmkFoJJLkHN7UmiOPFBJgAE2ACTIAJMAEm8HwTeCq7KDzfSDn1TIAJMAEmwASYABNgAs+SABu4z5I+h80EmAATYAJMgAkwASaQ4gTYwE1xpCyQCTABJsAEmAATYAJM4FkSYAP3WdLnsJkAE2ACTIAJMAEmwARSnAAbuCmOlAUyASbABJgAE2ACTIAJPEsCbOA+S/ocNhNgAkyACTABJsAEmECKE2ADN8WRskAmwASYABNgAkyACTCBZ0mADdxnSZ/DZgJMgAkwASbABJgAE0hxAmzgpjhSFsgEmAATYAJMgAkwASbwLAlkunv37rMMn8NmAkyACTABJsAEmAATYAIpSsCi0JGiElkYE2ACTIAJMAEmwASYABN4hgR4isIzhM9BMwEmwASYABNgAkyACaQ8ATZwU54pS2QCTIAJMAEmwASYABN4hgTYwH2G8DloJsAEmAATYAJMgAkwgZQnwAZuyjNliUyACTABJsAEmAATYALPkAAbuM8QPgfNBJgAE2ACTIAJMAEmkPIE2MBNeaYskQkwASbABJgAE2ACTOAZEmAD9xnC56CZABNgAkyACTABJsAEUp4AG7gpz5QlMgEmwASYABNgAkyACTxDAmzgPkP4HDQTYAJMgAkwASbABJhAyhNgAzflmbJEJsAEmAATYAJMgAkwgWdIgA3cZwifg2YCTIAJMAEmwASYABNIeQJs4KY8U5bIBJgAE2ACTIAJMAEm8AwJsIHrDvzInzGqbnUUr/wtQsi9gpuY/2lV1Kg3ED+EuSMg7bmJjbiFkJAQ/f/VK2G4FxOd9hLyDGIcHjRR6srPzyDspAQp9HlBpULovum3pHhPWT+x5+A/9FOUKFECWS21seLao0TJ/2lcNZQdvAcPE+XLPcfxOUXh4skjCD5/3z0B7IoJMAEmwAT+NQJs4LpEHYVtzT/AV1t3o/XUbihM7i3Ijc5T22LXlqmo9+Es3HUpI+05uBVQB0WKFNH/58ufE694ZEOZIevTZXqTlENX18JisWBhiNkIiwzdhkuBRxATmySp/7onS2w49gZdxKZwy78etjnAcKzMXxStvtmBl9+thbbVHiM6yuxCuwvd1BX/sXTCyRjtiThH4e72PTh0NNL4MMWu43EiY7xQyTKo+fZytwxqBecwgvTl/1angg+JFKPCgpgAE2ACqZNAptQZrdQTq+jAiaizE6jufwlD331Rj1iGwm1xL+g4Xq7YGwMC6mN5w9f1d+nhQsmWFxmpr3p9yA6U9nqAyFtXEDilK3pMaorS713Cby3+Lz0kM3lpsGjWV2aHcrJmcfg41T1Usnjg5VQQK9FDuu5PoACVtX0u9MsS9SuewAdPstpF/AW6/wfIbvc4JW4V+/zM8g5u/3oeYd653A7v95SICMtgAkyACTABlwSS1YMbvKQHus45gL9iL2PbnHHo378/pgaq/Zmisdo3tydKUY+F6OV6p9ogfB9iHcq7ugdD6rTH4pN/myIo/PgPaYO+i4/bntP0gMV9a0sZQk65fgtwJsL2+t7RBajfagUuxkbg14BFGN6vPwZQnMTxW9BKdKpfQ/ot8mlD9BsyH0Fhhm41F7KBcKxoPwav4lsscNDgelf4CssqANsazcV1W5TSydUdZEY+vFEoB3L65EOhEpXRfeFqfECp+33xKVOPVVrIa6dxlDkWjsOLx6JpsXeRyfIeatTvgLFzNuOiqYfQlrVC3oIO7eWDVRMGYtiwYRjs+7k+ZSUO0fjjTCDm+laR+ieG26cE3bAJsF79GjALdUqoZcRSoha+234pnhtHD24GrkTTd23+JgacMTlzVi4QcxmbPmutlk0Ks32HHsTcoakAAB9FSURBVJhDvn1MEoCHJ9djaPV3ZPwFk65zd+u99yL9q/u0kWmKDDuEBROGmNJvJ0q9FeEO+dRUlrXOViFvFvXefk8uC6yajWGf90PPKQdNeqbLDNuNbq0OEeGNGD7gc+l2YK/lVAatPdBZbuHIsY3oXKOoDEvUPTuvGso9CXKtD3poCV4oVD8cXjQLh84bZEecw4oJrdU8JbZ12g/ArFXHZTqOjeuCNSTt9yXjpL70H9AO8wLvJCifXzABJsAEmEAyCChJPh4qW2tQOyHaCuP/2WeVOOVPZab1WdWh85XViycr9a33C87HKkrMcfW++nrlgSH8uOCpUlalgBvq09BdChlU8lm/uWuUZdN6yesX0FE5YfV3xb+cOXxynxMLlZvb+6rPizdUxk6bqoxoV1W9n3LWbdlK6Gbph3qUDLE0X94L6i3dyHSZX6XpO8HVA42U4GhDMiIOqPkx2cqQXqWFvHYZR0rH/l6qnhWqO1yZOm2c0qmmev9l8CMDANtlnHJWGW7VzRLFaio1atRQxHnD1Vjlin8jVdfofUaUVNq1r6ffG/Xk2KBX1Of1hiv+q/2Uz6qrYdJogS0gB1eafJE/k+dOVbq+o/rDFK1UKBQHx+XiHyqb/7PGGw06KMP6+eplrLjfb3po9wJHybiJMGas9ldm9qukxlUrszFnleaaHMN5QgK8FHLfw+quytDvlPkTWkl5WVBL2Rwp9MjMs3rNYkqFXltM9YMeuStr1LiQvEI1VfbFKk1SzitR5jqJyn7HBm9Lt6LO0HTZHX3QwzJciDiKNPtonKwMtPs45TedbZVhE5VpE/ro9d7BmGhlZ29rPpUsIfWldrHiSuft1rrOEA5fMgEmwASYQPIJIOkibAZuufGblT/DyRJ6GKVEPVSU0FUNZaNibMxF4yAbuBZ7ZJCicReNv2jctEMYGaJBPRQjnjxUdreE4olBesMk3Z1fKmW32ag2DFpjjzqTlJ9CI6S/qOh7ytayUESjdl56Un9ib51Q9vxyX7pxR7bWyG8LNQixv7Qafa6MEntvqf1eGEjC+DgikNIRHXFOWVZLbaDbB91RH9Jv6s9rN+JIH1zSWGu5VU+XuLj7y149/aYX2o1VFxcYlYzeaTrZ0/+YbqDFBc+TeqsZQ8rVJfK+/SqjMftQ2dxa1Xk7kVqI9HFoNSzzTVKu6U9J3+lj01ietDiYykVUlBK+vZMMt5r/Gd23+OAU6dcMXL2stjJ/gGoyl1B50N2Qv9GrTit/RSlKFMk3frDaArAZ3MMCbbrzwMoE4w6oThPgaZSjXWsfYDaTXrxR6ySht0sO39acKucXV5BpnhZCH9d0uKOzumfDhb2Ba3//OGSuDKfGqj8Mvh4qp/cFKiLVmntnH8wGj3zJBJgAE2ACySCQ/Dm4n6zHjmF19TloHrTQY+/SAJq/WRJx1w4jKFRBhijgyQs3cU/0NN+IkMN173eegieT2+GLDb+jbocCQOwJTJ4FRA8eiDJirhtNe1joLzwAN48G4T4ti47LBmQKVScDnI7Qxo7vgIxiHNwyGO+rzuGRNRt8igMPDvph+Hc18WX18siTzwcv53wfVXKSI1oc4o7syNB9UraPj1Wwg5Pi6Q2KPYKinvUCHQeRS9aj1xBLQ8Afe5nT1c7/DBZXeNUqOQonUntekz66iuODLEVQlFK03v9LTKr3Ij6t+C7y5/TEKyUr4xUnDOOs7x5YxCIz4zxcVSc7tiillwuU+ARkRCLI6ufqkUXyyhJ7BUFBf1ifAqE3gRhcwT0x6m0/55MePblyUA5zD1vUHW/qvrxR87u5eFK4Oy7fori8JOLioFx4UNmctgj00YjpLUSK1UPJQgWLjjD1FkrIz3LKAl6NwrGgIDwkFchOpttf125LFxERFAaVCVGeyWDHqJaiBIjDQz3F+43CuVkH5FSfHhU13SGZJXyxtWw31Nl+DQ8/L6v7js8znkD9QUZRDdjNw439pCPaffya7qZw6Y50/aP13rU+iB0YkjKHN6NXbhnGzrEjsTxXP1Qp+SZye3qhWKWKatjWmQz/pLu6Qk0e/zIBJsAEUhOB5Bu4CaTmCYLRrWbF+G/FIhA6MhSuiwXUQn/ecRPudhiETPvmyvl3Czp9KN+LBR1i4UskJqN2xcnymfHnQTbRWWI77Bu6EkM2o/7segjo3wwBmrM6k3BkxWB85Jk82Zo47Szi+R+7+Gjv0vqZpobgI+9LmNL8C5xGLTSuZTOMtLSl5rwuTXktDmdxFLtidKTFhF9WGoohLStgiOoFNDKBjfTxZjPJrC/cPNnrpNmbaoAtbl8di80v8AK8pEFp91jeWhTVGC2Qy2zVxYaTZUxHdLTYys1mbDuKQ2T1j+VuINKDs5/pvqg0Pb6DFwxFz8m3n9kjlfu7n+S1YxmNqwfJWYVo+dGbkHlsFuTendFI1T5EjD6d6YPRXaKufari6NiqKD3CD20r+eleqYebPgKKId4iNd0FXzABJsAEmEBKE8iQ0gKlvAfU+ZR7IWhYTkyBMP/f2djaO+KNOt91oUUrgxFw8ToOUc+S8NOgsNo4W6i3Q/b4Tj5r9m+V52oVf6Y8dbFJeUirnH/B/o2rMLIubfC19TN83H0vkivbnpmIZ/rrlVF7AH27NUPLZiNwYN8E6tH9Ab6eg81bM6XyvHZXH3NXHAIl6h4uBB/GJv9ZaEIjAAc+r4c+O9RFk/Z5brw3GnzG586uLVF35SjH3gi78kH6/Y+yCCXM9ms8UX9Fm3vWs3mpvagvWA3geB4MD7x3BcdbFCk+0uyPL07ed1j2OlvLqHCv9fra+413T3qS/aL9PsoeyFuDXMZ5JKnHVIQRbxeFeAE7eOCWzjrw5/JRNnw0fDdi6GPj1JF9WDt3kFyUObpVcSw1gEqvH8Mu8bADJsAEmMC/SOApGLjZ8HqjjIi92Rmzjv5jl5QoXLti26MyZ62uoMVn6Fooj9yKq9nMGrYeniy5UZV6eLMMGoIt9+3ExNzE74adFOzeytvr50OoVygbXitSEuUatsSYzYdljzHu0RQJN2V75noXj2i4+IY2G8JBQJbIcFrNnX57cGUPIKXPg3o3z/s1kT3qJauttK6mTwN5TTrgWh/DceE8WSAe3ihY4mPUb9ET647vl8bJ8QgXikZs9idho/8cRT6Vvcp9F52Ip1V3fzVYQ3ZvM+TOJeM1bNL3stdTe/3TxrnyMrO3s0GZbMhRDLhPHypnDUFYwi6bdlHQwvi631p91wQtnEe0XZxrk19zrZ2z4dVaL+LhnTZYZdwz+P5BjN5Jbl6nHmvNqdvn1+QuCsZ0uOfVHX1wT1I8VxGXcS40Flm8cqF46Upo2u1bHD88Xjp7FC6msagjR78fvCav+YcJMAEmwASeIoGkz9+1LjL7xLwQRcqLtO1+0GDaUmVbUKCyy3+WupBH28XAGvDxnurCJdviMluMHh4ZLwZD5WKniWtWK4GBgQr1ishn2up2bbGJtkJa9f1QWUX+8E5HZWHAj0pwcLCyZW5P6U9bae6ObG0XBfOiEVv8xJW2EM24oM7sIm3eJcRV220g82B1saCSBvLaZRxpkdUHpC9vtv1GWRd4VAk+uU/x61tR6svoI38nmIHaoiGxqGlBwA5l/eQpiliQ6Iid5lZfZKbcU2iKjgwjj+90ZcP2ICVo+0rly3rqLiAJLdYSkTk2WPVXrs9y5eeQYGXrtGqqbhvKoqM4CL9PrAu5RJy/27SDypO1XFD6tUVmwt3JKRlVmYUHyrQFBv2gLBz6qVzIJhaBxk+P8OXkoB1RtLI8J+iUcvLoCrU+oHC1xV9a3LR7J9L0dKDacGXdjxuV6V+voUV31l0UDByEjHhyE6GzxjjYp9n+/nGIugtMk/FLld0ng5XTgRvkzhhi8R/11NNBdSYtfhUcei/5Xtm0erIyd59tMZwxLL5mAkyACTCB5BEQQ5BJPNQV37BrTHRhtGPBtNoF1UaSKnRRqYO27TGubhZutcZHX0mtC1Av7pxcpjeEUgbJeafKcGuDIYyJRvG3syKvv/r3N4dN/qp9ts6w8lxRXMnWthPK+OZMuQraLmp0+1BZV97Fqvf4ntLEE8HVuLWSFmnBZH4lNT9bbLeuiE8Dea04jeM9ZVPvmvH0pdcqw04DGgC78+/bx5j8CePMkU4KY6gH6aBxBb1guX58dZN/YQy5Dvee8sN4q1EryhX9z996uUm3HcVBi/rlgH6mMFsNaCvvjXETuv3rqq9M7kQ4WhlylB5NfkLnv0PWmsqySKvJwLNu/+WOgSviFziujB4/8YEcTFtxiV0o7OskrY4xfYQ61QfHKbBPs/29EnFCGVWliB4nwUvEa9FJmxH75PwWfesw8d74UeE4VH7KBJgAE2ACSSFgEZ6oon16R1Q0ImKi4eHhIf8nNaDoGJoKQKuPPbJ6gf5irNuH5i+LV8LDoJobR7IjdvSF96cz0PmHO1jwqXm50YNT3+E/JfrLv7zkak6w2xFOyw7TQF7DRRxjw8UuH9ng5e1iEqwpn6JocRfpJul40o4oRNCuIHHZ6C+KZU2EjOhwRIi5uDTvNnHxpVha/TrSefs0aEyyEJPETyWwlwZKqzrtw1mZjO8rgSeUnwJBktm70IcEQnX+2CrTWb6IxYBxpC8pwdN5ZPgtE2ACTOD5JJBkA1f8VbHn4aBeNsy2/BcDaQeBgNBtqEXLxkXaae9QtMhaCjtoy6WjyrdyVbq3tzfCw8OfByycRibABJgAE2ACTIAJpFoCSTZwU22KnkbErm5BqXz18DtG4KTyNd6gPyu6KM9/0YW25KVhTxhXlT+N4FkmE2ACTIAJMAEmwASYgPsE2MB1nxW7ZAJMgAkwASbABJgAE0gDBJ7CNmFpINUcRSbABJgAE2ACTIAJMIF0S4AN3HSbtZwwJsAEmAATYAJMgAk8nwTYwH0+851TzQSYABNgAkyACTCBdEuADdx0m7WcMCbABJgAE2ACTIAJPJ8E2MB9PvOdU80EmAATYAJMgAkwgXRLgA3cdJu1nDAmwASYABNgAkyACTyfBNjAfT7znVPNBJgAE2ACTIAJMIF0S4AN3HSbtZwwJsAEmAATYAJMgAk8nwTYwH0+851TzQSYABNgAkyACTCBdEsg0+XLl9Nt4jhhTIAJMAEmwASYABNgAs8fAUtkZKTy/CWbU8wEmAATYAJMgAkwASaQXgnwFIX0mrOcLibABJgAE2ACTIAJPKcE2MB9TjOek80EmAATYAJMgAkwgfRKgA3c9JqznC4mwASYABNgAkyACTynBNjAfU4znpPNBJgAE2ACTIAJMIH0SoAN3PSas5wuJsAEmAATYAJMgAk8pwTYwH1OM56TzQSYABNgAkyACTCB9EqADdz0mrOcLibABJgAE2ACTIAJPKcE2MB9TjOek80EmAATYAJMgAkwgfRKgA3c9JqznC4mwASYABNgAkyACTynBNjAfU4znpPNBJgAE2ACTIAJMIH0SoAN3PSas5wuJsAEmAATYAJMgAk8pwTYwH1OM56TzQSYABNgAkyACTCB9EogzRq4GSODMbZ5A5SpMwMXMligZLiFxU3qoWGL4dh1O2N6za9/PV13L5zCvi1bsXnvHhzYfwIXrkb+63FIToBCL5bU/gADtvyZHDEJ+o04MA2Vis7AmRiLdGOJDsXZY8dxLiLNFq0E08ovmAATYAJMgAmkFQKpthUO29oXuTx764aDCaglCj90qIhvdgSi2fj2KBSnwBKXC23HtcS+7bPQrPIc3FXtDZM3vnGfQMbIIxj9oScKfFgeDdu0hm+jxqhTtwo+fPdNvO75BU7SR0VyDyXDefzP0xMlN1xOrij6wHEsK0NUBPYfvIRtkTHJDsORgMjbO3HuxjE8sKg8nlxchU+qVUWZleccOY/3LPO1jfAkBssuPor3jh8wASbABJgAE2ACSSOQag1cS8xFPEEknmSLn7DoH6eh2V6gil8w+hd7UXeQsWBLXN3WFcqNzzB889PpsdMDS88XlnBsbFET0y+8iwkbDuHK7TCEhYXh+qVj2OH3BaJxAdHRyTdwBcIrKcjRkaw4q/6EOdCjFAwaLyiKFJepYAccP34cF1q97Z54i2Z4P+UIuhcbdsUEmAATYAJMIF0QSJaBmzEiBGumdUazsp7wLNsEzXt8jgXrf8ZDzfahntYjGyahEvVQiV6q0g1GYMPpv03gTq8cgH6LDuOv2CvYsWgyhg0bhnlbtqBfxyOIwWaMGToKo0YNxfDBq3FD9JKR8bW21wS8gq/xXZMCJlnixrvccMwvC+xo46e6j+eCH7giYIm5gu8Pgxh3QbtqRfFyVg94eHjAM0chfNz4M9wLXY7SWeJ0MY+vBWFsiw9lHr/sWR4DZv1/e2cDFVW1xfE/igxaASYwmCnme6EuJcVEDR1FNFNDI9HSlaBQgppgauLgF1iSX5gmAoovoQf4mYiJUimhIubH6/GEslCz1EpBXwJmAim8fc7AfMnIh2uN6y33WQvuPffus8+d3zmzZt9999k308CD/vupJEx4azvOVZbgh73JNKZqqGnMv1kVil2k5ULqahrjCKjDpyLxyHWp94+zhxAX/LqcOyoPXwTN+whbTmrOaTvW27mfLiHmUnQReRnrNHOV5uKIsG04XxNWUKtGhL2kho2Tn0PM1+HzPml0qIFFxQ84uDIV+X/pvloXcnZgxoRXpd4+vm9AvSgJR4srZVjNpulTZfc71oRJBguDIjnEpnZAeMsEmAATYAJMoIkELJvYjn6cL2CZc19EkQLPWe9hud2vOBIRh3e3xMF19E30U9xC5ltOGL+DBEbOwZphjyP5nSUIVK3HuYO/Qu3+OBmrt3Fl12YkZdHfbL0rUTprK7+cLYAFeceuVj6NSWTfWl49jpBLQKfNL6N9jddMKyx2qltjWHgQgl6ORnahGv4uLQxOc6V+AlXWLfEMiWXiBI4XvgIvFxuDRlUtrbX1u2e3oo27xkibvnwtnj4dg/nzxyMxfhXOfxcEe3Js3ry0Hft3HqM/bTM4wAWewSc1B67no6DAgca2CLeGVGBKcSbauY9Hc/TAtCXLobyRh0VrFyN7w5PwKfNDK42zVKeM5lFpUd26JpOUHf2dDfeBJ23/9vJE+FSnIH1jMJ4/3wpXdo+W+iyLs6F61gf/Jpmpa5PgVn4MwepQDN1wCpk3Y9GTwmAaUiqLfkb4zrVYPm8h4NgCpQfnws03Aeg+CouXLcOfBV8get1MxDv1RUkIcDlHo7X0dCEKnKpx7aoF+pbfpoNWDemOZZgAE2ACTIAJMIE6CDTZwK0qJK8dKRzy8RmkjW0nVU+btQTfHf4XlIoq3C1M1xi3EZ+jdPYL8vyUMYMxs4MnEoYm4o2yULTXuyCPyG1IDPDCU4pq/ImWKOrwGdwD7bFpd4rOuCAjQyx6EmWF6ln6f1fuG/+zdx2DXkhAesFlMnA7GZ/mej0ELKq6wn+zB6IDk/Gqe7I0NH2neWFQbxVcXd3Ro3ONwUuG5UH1VHk+8VwuXnEU4xGAFwdMgvvbcxF7xBcRqjawgL2mx+FL8VWMP55XWqH8tgUUrV6A78Z+yJv5CdJ8deP0U8oUKb+6IBcBHTRjPDP8PeSc+ONe41ZIVreEV/TxOnVVowwlQmbwHOxLUGOAIxmOFkuR7tsRQQd2Ir/CR96MHZjvg3MIIc9qFFxpDgKvYtKQXrAm4z1uTzgSRmnmuFDV4EJ8TqxKQCv44dDXsTJWHJgOdeR/kHu1HcWN22DpqQ2Ipj6mJO2huXqnwapZkAkwASbABJgAEzBNoJnpU/c/o7BtKwWyopdhW863uFJCZgQZGt0GqqTX7reTGsNo21v9tYru2rrR4+v+ZHIcwa/6j4f7JWPX7BFwslNAeAetW+q8Zc2FM0uvlBYfhgKj4eike0Sud1ru3mltJz2Q3xq1NZbjumkCzr6Z8pG+v1dXuo04jR3xa/D2m2MwsE972IbtkWEoFuU/Y3sW3WZErKgxbjX6Or82E760m3pRk3GBbkvkmB3eGYrnHW3lPBEhD81qxueW0TjZOHWTij6MisOh/HMouVGBamsnDBj0d5MXbEpXbYNOfhM1xq04QF7+XhNGy1MidlZ8juQa7/KVk0eQeyAHOTk5OFTwi5Q509QFavR9sHcF3bAl4/3YNJwuLMbvFLvcQtkTnj00Nwl/yh5Ai9SMINQc5w0TYAJMgAkwASbQeAJNNnDvKD2RtXgw8H0ygr37o4uzs4wxXPGpZvV4FRmplnBGWzudsSour7IoV15l5QP+nhsbvsYfXTyWfozX7RhjaVS9k2oSYnYfR2nZVVwuPItjGf+Qhis2+iPh9B26GdGo6+SsNNJbIWNr25TULqDSnDYes9r2Ro1hp5qOj1TApW1heEXVG84dHeFo64cUo/ht/XamdNXKGBvRwuiuLaKtmC83EYNx3t4YOdYb3rQdHrhUitx6gHn0XOh2jCQte9WT6ebgWTyjtIHt6zE4Vdrkr17tZfOWCTABJsAEmAATMEGg6b+y5J3qPScd1y4W4ujBvUhaG0JhAcAHb3pgS00e2ipab2+82t6yoweawRpWDTQa6sqiYOKzGBwWj6WNjRoDAa40nACNtY2TEt1U45BKj9RFOXOxSOuBrSopN9BVZW0nDeHi1oY3NwZCehXjG5FqxTOYnFEqszZkZaRg/TsvygWHatWKehcOGuvS68bkrvD+ivmCKDLmS0vv+cvTC58wqcTECcsOw7GVbhB+JM9wZsrHCBvRmVZALsTQWdkGLR5rGCqDNlxhAkyACTABJsAE6ibQZAO3eclP+L6oElZ2TnB1p1ypAUuRfSBC9nKHDB6lw0D8hS+xcu95bc8i6f7hyGO0fMaZVuXf/xddxG2KLApnrhpeoo2yO+7gIn7RD3HQ9qDZsbxRAuEgboqxY6TqkaxaVHyPqIB7swwIGOfyT0gm7eysyYNrBw+qFc+OM8iLW3Hoc+nB7aGgcIR6ivCcXvj6soHUzZ8L8Rs9yhdZG3qrRsFvyaf4Jqo5KmncjWxpg3Z16TIQMFER4Q+eHYAWCxYjs8xwvokXN1x4gJc2CM+3iCm379wDHqPGYsH2LxBDfaGkVJdthKq5hWUmro4PMwEmwASYABNgAo0lYPhr3ojWldcy0c/FAf5rtiK7IB/f5XxGq8SXyAVHHZUKKDwnYwHpywp0w4zUY2QYHUHS2C4yA0LH2EDdwjETfbZzFQ92gWlBEUjP3YsN0bul987BxUvGhG760tAo0lfz3/zD2E8HZrm21z/M+w0lQPGg36ZRlgFHG4xRf4RPM7KQc3QvNqm94fpmIp6gxVjjB9nLl2v4Ut5hEWM6qNd7Ml5WpOJSjoqUMbdho+/P36K6I4b3o4vaNBpzt+zHvrT1Mk1YaVYfdFeqsDJ1P07k58vQiEUL7lK/A9HWxI2RKV0N+sgUkzt2c6S8IfNr74u1aWkyBnd34kLYKDtj66XKBqm5R0gsMuvjjrZ9Z+CfGUeRT5/l881L5XcAQ9rLBXPNuvSU3u5dE6eSTBY+Wx/LacLuAckHmAATYAJMgAk0jkCTsyhYOb6AeZ5dsCJyKvZEajoVi7/W5XyIgba0AIzeLBZ+6RBs/Dwxb/oIMoE0xS8uEysndqKFPpp6VRva3qo5qbdp3tkHGRGJ8F6yGpOyIQ2m/iFj8JdTT6wmuXcj9+H6OE0aKr1mMvXY4Q+WSSOsbxdaMd/A9E4GOh7xSrWiK0LJELP6cCHS4xcjK14HxCN4I1a+P6EmIwDlHR6wCvkpDnhuYhTFy0ZrBF1mIHlfhDZXrjaLgk6NZo9CH4bGUIyq++tImDaB8l4ArrEj8Zr7RryEYERNnyAzdUjhwXPwFaX2sq+muVVXMaFrMskKz66xN9/4mlq5z8KFo09h7oAgRAR8qe2hq+ccqJxFyq66+21ZLSawrtDaOV2ha+q+eRoQGI+QN2q/AYBX6CdYN4MCesQCt6quWLRrPnb5fkAymn6XvxQkU4zpFPEeE2ACTIAJMAEm0BgCFhRzeP9YgXq0Nbtdjt8rKAaTfsztWivqlK6kkAHx8ocq69Z40oQHrs6GdFDoF23FqvvaInKLdqDcov70iteYoYYGxq2CeDw1QE15cvPwILGTtX096lvBv7ycxoAes1s9qag7TZeARN5Kke1AFDs7YVI2rog+RAYN/Ry3tXPLWtHaILNGfZrr0lVfG/3z5RU3ZBqzxvarr8N4v1anFWX40P+MWjniJ1Kn6c9z7TneYQJMgAkwASbABBpFoMkGrnjT08MoYhGQiOX9+IkuUGMYtpxLwzDKvyqup+xaNgIcBlPkbwiybkZJL6Obmxvy8vIexqVyn0yACTABJsAEmAATYAIPgUCTDdyHcK0GXVpdzET/58bjR7yL3LLFeNriNyR308T4xpy6zm8wM6DFFSbABJgAE2ACTIAJPDoE/m8N3EdniPiTMgEmwASYABNgAkyACTSGQJOzKDSmE5ZlAkyACTABJsAEmAATYALmIsAGrrlIcz9MgAkwASbABJgAE2ACZiHABq5ZMHMnTIAJMAEmwASYABNgAuYiwAauuUhzP0yACTABJsAEmAATYAJmIcAGrlkwcydMgAkwASbABJgAE2AC5iLABq65SHM/TIAJMAEmwASYABNgAmYhwAauWTBzJ0yACTABJsAEmAATYALmIsAGrrlIcz9MgAkwASbABJgAE2ACZiHwP2IDUQ5qdaJ/AAAAAElFTkSuQmCC)"
      ]
    },
    {
      "cell_type": "markdown",
      "metadata": {
        "id": "BU90iX7sFsGl"
      },
      "source": [
        "To add an item to the end of the list, use the append() method:"
      ]
    },
    {
      "cell_type": "code",
      "metadata": {
        "colab": {
          "base_uri": "https://localhost:8080/"
        },
        "id": "zWVZ0YEeGTCl",
        "outputId": "1acc9a76-3e32-46b8-923f-87f5d1889320"
      },
      "source": [
        "file_list = glob.glob('**/*.*', recursive=True)\n",
        "file_list.append({'one':1})\n",
        "file_list"
      ],
      "execution_count": null,
      "outputs": [
        {
          "output_type": "execute_result",
          "data": {
            "text/plain": [
              "['sample_data/anscombe.json',\n",
              " 'sample_data/README.md',\n",
              " 'sample_data/mnist_test.csv',\n",
              " 'sample_data/mnist_train_small.csv',\n",
              " 'sample_data/california_housing_train.csv',\n",
              " 'sample_data/california_housing_test.csv',\n",
              " {'one': 1}]"
            ]
          },
          "metadata": {
            "tags": []
          },
          "execution_count": 9
        }
      ]
    },
    {
      "cell_type": "markdown",
      "metadata": {
        "id": "ogEE3m23Gvmo"
      },
      "source": [
        "To append elements from another list to the current list, use the extend() method."
      ]
    },
    {
      "cell_type": "code",
      "metadata": {
        "colab": {
          "base_uri": "https://localhost:8080/"
        },
        "id": "gibH1dlUG2yp",
        "outputId": "e3fcfa54-b37d-4df3-a0e8-d5b5b4a537c6"
      },
      "source": [
        "file_list.extend([(1,2,3,4,5)])\n",
        "file_list"
      ],
      "execution_count": null,
      "outputs": [
        {
          "output_type": "execute_result",
          "data": {
            "text/plain": [
              "['sample_data/anscombe.json',\n",
              " 'sample_data/README.md',\n",
              " 'sample_data/mnist_test.csv',\n",
              " 'sample_data/mnist_train_small.csv',\n",
              " 'sample_data/california_housing_train.csv',\n",
              " 'sample_data/california_housing_test.csv',\n",
              " {'one': 1},\n",
              " (1, 2, 3, 4, 5)]"
            ]
          },
          "metadata": {
            "tags": []
          },
          "execution_count": 10
        }
      ]
    },
    {
      "cell_type": "markdown",
      "metadata": {
        "id": "hsrA-xcVHdvS"
      },
      "source": [
        "Difference between append vs extend list methods in Python"
      ]
    },
    {
      "cell_type": "code",
      "metadata": {
        "colab": {
          "base_uri": "https://localhost:8080/"
        },
        "id": "WmqYxq08Hszj",
        "outputId": "288a0582-8be6-4cc3-c850-beb8b1458957"
      },
      "source": [
        "file_list = glob.glob('**/*.*', recursive=True)\n",
        "file_list"
      ],
      "execution_count": null,
      "outputs": [
        {
          "output_type": "execute_result",
          "data": {
            "text/plain": [
              "['sample_data/anscombe.json',\n",
              " 'sample_data/README.md',\n",
              " 'sample_data/mnist_test.csv',\n",
              " 'sample_data/mnist_train_small.csv',\n",
              " 'sample_data/california_housing_train.csv',\n",
              " 'sample_data/california_housing_test.csv']"
            ]
          },
          "metadata": {
            "tags": []
          },
          "execution_count": 11
        }
      ]
    },
    {
      "cell_type": "code",
      "metadata": {
        "colab": {
          "base_uri": "https://localhost:8080/"
        },
        "id": "8DJUlB9cHx7B",
        "outputId": "8acbfee8-f534-4138-992a-7a06955d263d"
      },
      "source": [
        "file_name_list = []\n",
        "file_name_list.extend(file_list)\n",
        "file_name_list"
      ],
      "execution_count": null,
      "outputs": [
        {
          "output_type": "execute_result",
          "data": {
            "text/plain": [
              "['sample_data/anscombe.json',\n",
              " 'sample_data/README.md',\n",
              " 'sample_data/mnist_test.csv',\n",
              " 'sample_data/mnist_train_small.csv',\n",
              " 'sample_data/california_housing_train.csv',\n",
              " 'sample_data/california_housing_test.csv']"
            ]
          },
          "metadata": {
            "tags": []
          },
          "execution_count": 13
        }
      ]
    },
    {
      "cell_type": "code",
      "metadata": {
        "colab": {
          "base_uri": "https://localhost:8080/"
        },
        "id": "jsYeJPmdICGg",
        "outputId": "e2dbdd86-8531-4000-bca3-e7dde26e56d7"
      },
      "source": [
        "file_list.extend('output.txt')\n",
        "file_list\n"
      ],
      "execution_count": null,
      "outputs": [
        {
          "output_type": "execute_result",
          "data": {
            "text/plain": [
              "['sample_data/anscombe.json',\n",
              " 'sample_data/README.md',\n",
              " 'sample_data/mnist_test.csv',\n",
              " 'sample_data/mnist_train_small.csv',\n",
              " 'sample_data/california_housing_train.csv',\n",
              " 'sample_data/california_housing_test.csv',\n",
              " 'output.txt',\n",
              " 'o',\n",
              " 'u',\n",
              " 't',\n",
              " 'p',\n",
              " 'u',\n",
              " 't',\n",
              " '.',\n",
              " 't',\n",
              " 'x',\n",
              " 't']"
            ]
          },
          "metadata": {
            "tags": []
          },
          "execution_count": 15
        }
      ]
    },
    {
      "cell_type": "code",
      "metadata": {
        "colab": {
          "base_uri": "https://localhost:8080/"
        },
        "id": "8UHBxuyHIhYZ",
        "outputId": "6207591f-cebe-463d-8e93-cf2f1da9e6d9"
      },
      "source": [
        "file_list.append('output_files')\n",
        "file_list"
      ],
      "execution_count": null,
      "outputs": [
        {
          "output_type": "execute_result",
          "data": {
            "text/plain": [
              "['sample_data/anscombe.json',\n",
              " 'sample_data/README.md',\n",
              " 'sample_data/mnist_test.csv',\n",
              " 'sample_data/mnist_train_small.csv',\n",
              " 'sample_data/california_housing_train.csv',\n",
              " 'sample_data/california_housing_test.csv',\n",
              " 'o',\n",
              " 'u',\n",
              " 't',\n",
              " 'p',\n",
              " 'u',\n",
              " 't',\n",
              " '.',\n",
              " 't',\n",
              " 'x',\n",
              " 't',\n",
              " 'output_files']"
            ]
          },
          "metadata": {
            "tags": []
          },
          "execution_count": 99
        }
      ]
    },
    {
      "cell_type": "code",
      "metadata": {
        "colab": {
          "base_uri": "https://localhost:8080/"
        },
        "id": "m5kuf01GI1Fh",
        "outputId": "d86916d4-1281-458e-9420-2e88bfce9105"
      },
      "source": [
        "file_list = file_name_list.copy()\n",
        "file_list"
      ],
      "execution_count": null,
      "outputs": [
        {
          "output_type": "execute_result",
          "data": {
            "text/plain": [
              "['sample_data/anscombe.json',\n",
              " 'sample_data/README.md',\n",
              " 'sample_data/mnist_test.csv',\n",
              " 'sample_data/mnist_train_small.csv',\n",
              " 'sample_data/california_housing_train.csv',\n",
              " 'sample_data/california_housing_test.csv']"
            ]
          },
          "metadata": {
            "tags": []
          },
          "execution_count": 16
        }
      ]
    },
    {
      "cell_type": "code",
      "metadata": {
        "colab": {
          "base_uri": "https://localhost:8080/"
        },
        "id": "-8yvWS3wI8h_",
        "outputId": "0c543a03-7eba-4129-c858-a589630a6199"
      },
      "source": [
        "file_list.extend((12,1200))\n",
        "file_list"
      ],
      "execution_count": null,
      "outputs": [
        {
          "output_type": "execute_result",
          "data": {
            "text/plain": [
              "['sample_data/anscombe.json',\n",
              " 'sample_data/README.md',\n",
              " 'sample_data/mnist_test.csv',\n",
              " 'sample_data/mnist_train_small.csv',\n",
              " 'sample_data/california_housing_train.csv',\n",
              " 'sample_data/california_housing_test.csv',\n",
              " 12,\n",
              " 1200]"
            ]
          },
          "metadata": {
            "tags": []
          },
          "execution_count": 17
        }
      ]
    },
    {
      "cell_type": "code",
      "metadata": {
        "colab": {
          "base_uri": "https://localhost:8080/"
        },
        "id": "XFsVnr0FJGAr",
        "outputId": "7ab99944-44a7-4247-d7da-efd969ad4abf"
      },
      "source": [
        "file_list.append((14,1400))\n",
        "file_list"
      ],
      "execution_count": null,
      "outputs": [
        {
          "output_type": "execute_result",
          "data": {
            "text/plain": [
              "['sample_data/anscombe.json',\n",
              " 'sample_data/README.md',\n",
              " 'sample_data/mnist_test.csv',\n",
              " 'sample_data/mnist_train_small.csv',\n",
              " 'sample_data/california_housing_train.csv',\n",
              " 'sample_data/california_housing_test.csv',\n",
              " 12,\n",
              " 1200,\n",
              " (14, 1400)]"
            ]
          },
          "metadata": {
            "tags": []
          },
          "execution_count": 18
        }
      ]
    },
    {
      "cell_type": "code",
      "metadata": {
        "colab": {
          "base_uri": "https://localhost:8080/"
        },
        "id": "_gCueiUYJ6uv",
        "outputId": "afceda4d-c881-42e1-f71e-4da4a5e2e02d"
      },
      "source": [
        "file_list.extend({15:1500})\n",
        "file_list"
      ],
      "execution_count": null,
      "outputs": [
        {
          "output_type": "execute_result",
          "data": {
            "text/plain": [
              "['sample_data/anscombe.json',\n",
              " 'sample_data/README.md',\n",
              " 'sample_data/mnist_test.csv',\n",
              " 'sample_data/mnist_train_small.csv',\n",
              " 'sample_data/california_housing_train.csv',\n",
              " 'sample_data/california_housing_test.csv',\n",
              " 12,\n",
              " 1200,\n",
              " (14, 1400),\n",
              " 15]"
            ]
          },
          "metadata": {
            "tags": []
          },
          "execution_count": 19
        }
      ]
    },
    {
      "cell_type": "code",
      "metadata": {
        "colab": {
          "base_uri": "https://localhost:8080/"
        },
        "id": "Yu2wQBUhKApP",
        "outputId": "9f0c5ea7-563f-44ec-c450-591a02f12a57"
      },
      "source": [
        "file_list.append({16:1600})\n",
        "file_list"
      ],
      "execution_count": null,
      "outputs": [
        {
          "output_type": "execute_result",
          "data": {
            "text/plain": [
              "['sample_data/anscombe.json',\n",
              " 'sample_data/README.md',\n",
              " 'sample_data/mnist_test.csv',\n",
              " 'sample_data/mnist_train_small.csv',\n",
              " 'sample_data/california_housing_train.csv',\n",
              " 'sample_data/california_housing_test.csv',\n",
              " 12,\n",
              " 1200,\n",
              " (14, 1400),\n",
              " 15,\n",
              " {16: 1600}]"
            ]
          },
          "metadata": {
            "tags": []
          },
          "execution_count": 117
        }
      ]
    },
    {
      "cell_type": "markdown",
      "metadata": {
        "id": "OdlE2kXLGrsW"
      },
      "source": [
        "To insert a list item at a specified index, use the insert() method."
      ]
    },
    {
      "cell_type": "code",
      "metadata": {
        "id": "pbux0TXrKSC3"
      },
      "source": [
        "file_list.insert(7,'insert_method')"
      ],
      "execution_count": null,
      "outputs": []
    },
    {
      "cell_type": "code",
      "metadata": {
        "colab": {
          "base_uri": "https://localhost:8080/"
        },
        "id": "3dGHMgf5Kvpw",
        "outputId": "96c99143-61fd-4e7d-86b3-18324437bc55"
      },
      "source": [
        "file_list"
      ],
      "execution_count": null,
      "outputs": [
        {
          "output_type": "execute_result",
          "data": {
            "text/plain": [
              "['sample_data/anscombe.json',\n",
              " 'sample_data/README.md',\n",
              " 'sample_data/mnist_test.csv',\n",
              " 'sample_data/mnist_train_small.csv',\n",
              " 'sample_data/california_housing_train.csv',\n",
              " 'sample_data/california_housing_test.csv',\n",
              " 12,\n",
              " 'insert_method',\n",
              " 1200,\n",
              " (14, 1400),\n",
              " 15]"
            ]
          },
          "metadata": {
            "tags": []
          },
          "execution_count": 21
        }
      ]
    },
    {
      "cell_type": "markdown",
      "metadata": {
        "id": "ga2mEd1LLLb6"
      },
      "source": [
        "The remove() method removes the specified item.\n",
        "\n"
      ]
    },
    {
      "cell_type": "code",
      "metadata": {
        "colab": {
          "base_uri": "https://localhost:8080/"
        },
        "id": "OnnrZ6RnVYrH",
        "outputId": "a9e29559-0e56-4217-93ff-aaeef2e33944"
      },
      "source": [
        "file_list"
      ],
      "execution_count": null,
      "outputs": [
        {
          "output_type": "execute_result",
          "data": {
            "text/plain": [
              "['sample_data/anscombe.json',\n",
              " 'sample_data/README.md',\n",
              " 'sample_data/mnist_test.csv',\n",
              " 'sample_data/mnist_train_small.csv',\n",
              " 'sample_data/california_housing_train.csv',\n",
              " 'sample_data/california_housing_test.csv',\n",
              " 'insert_method',\n",
              " 1200]"
            ]
          },
          "metadata": {
            "tags": []
          },
          "execution_count": 27
        }
      ]
    },
    {
      "cell_type": "code",
      "metadata": {
        "colab": {
          "base_uri": "https://localhost:8080/"
        },
        "id": "4lguueQXK06x",
        "outputId": "9399e097-7af2-4b8e-ae8c-a5e594664b4d"
      },
      "source": [
        "file_list.remove(1200)\n",
        "file_list"
      ],
      "execution_count": null,
      "outputs": [
        {
          "output_type": "execute_result",
          "data": {
            "text/plain": [
              "['sample_data/anscombe.json',\n",
              " 'sample_data/README.md',\n",
              " 'sample_data/mnist_test.csv',\n",
              " 'sample_data/mnist_train_small.csv',\n",
              " 'sample_data/california_housing_train.csv',\n",
              " 'sample_data/california_housing_test.csv',\n",
              " 'insert_method']"
            ]
          },
          "metadata": {
            "tags": []
          },
          "execution_count": 28
        }
      ]
    },
    {
      "cell_type": "markdown",
      "metadata": {
        "id": "6YagPwujLWbM"
      },
      "source": [
        "The pop() method removes the specified index.\n",
        "\n"
      ]
    },
    {
      "cell_type": "code",
      "metadata": {
        "id": "Ze5jZu_FVgIW"
      },
      "source": [
        "file_list = file_name_list.copy()"
      ],
      "execution_count": null,
      "outputs": []
    },
    {
      "cell_type": "code",
      "metadata": {
        "colab": {
          "base_uri": "https://localhost:8080/"
        },
        "id": "ykvJ1ZsJVm7O",
        "outputId": "d371ac3b-1069-4aaa-8b37-a1d5cf571166"
      },
      "source": [
        "file_list"
      ],
      "execution_count": null,
      "outputs": [
        {
          "output_type": "execute_result",
          "data": {
            "text/plain": [
              "['sample_data/anscombe.json',\n",
              " 'sample_data/README.md',\n",
              " 'sample_data/mnist_test.csv',\n",
              " 'sample_data/mnist_train_small.csv',\n",
              " 'sample_data/california_housing_train.csv',\n",
              " 'sample_data/california_housing_test.csv']"
            ]
          },
          "metadata": {
            "tags": []
          },
          "execution_count": 30
        }
      ]
    },
    {
      "cell_type": "code",
      "metadata": {
        "colab": {
          "base_uri": "https://localhost:8080/",
          "height": 35
        },
        "id": "T0eQu_9uLQyP",
        "outputId": "a2d2919b-420c-49d6-843c-421014e00d05"
      },
      "source": [
        "file_list.pop()"
      ],
      "execution_count": null,
      "outputs": [
        {
          "output_type": "execute_result",
          "data": {
            "application/vnd.google.colaboratory.intrinsic+json": {
              "type": "string"
            },
            "text/plain": [
              "'sample_data/california_housing_test.csv'"
            ]
          },
          "metadata": {
            "tags": []
          },
          "execution_count": 31
        }
      ]
    },
    {
      "cell_type": "code",
      "metadata": {
        "colab": {
          "base_uri": "https://localhost:8080/"
        },
        "id": "z4YYC4DiLaAN",
        "outputId": "3f7feaaf-a9ae-418c-db95-2178956fa98e"
      },
      "source": [
        "file_list"
      ],
      "execution_count": null,
      "outputs": [
        {
          "output_type": "execute_result",
          "data": {
            "text/plain": [
              "['sample_data/anscombe.json',\n",
              " 'sample_data/README.md',\n",
              " 'sample_data/mnist_test.csv',\n",
              " 'sample_data/mnist_train_small.csv',\n",
              " 'sample_data/california_housing_train.csv']"
            ]
          },
          "metadata": {
            "tags": []
          },
          "execution_count": 32
        }
      ]
    },
    {
      "cell_type": "code",
      "metadata": {
        "colab": {
          "base_uri": "https://localhost:8080/",
          "height": 35
        },
        "id": "kSw2Kr1ELbdU",
        "outputId": "efbfdf67-1943-4eb2-d64b-cfe0c0aa2627"
      },
      "source": [
        "file_list.pop(1)"
      ],
      "execution_count": null,
      "outputs": [
        {
          "output_type": "execute_result",
          "data": {
            "application/vnd.google.colaboratory.intrinsic+json": {
              "type": "string"
            },
            "text/plain": [
              "'sample_data/README.md'"
            ]
          },
          "metadata": {
            "tags": []
          },
          "execution_count": 33
        }
      ]
    },
    {
      "cell_type": "code",
      "metadata": {
        "colab": {
          "base_uri": "https://localhost:8080/"
        },
        "id": "FOGz2ctNLiJP",
        "outputId": "301ae159-c0c9-4e83-f757-4637c715f8dd"
      },
      "source": [
        "file_list"
      ],
      "execution_count": null,
      "outputs": [
        {
          "output_type": "execute_result",
          "data": {
            "text/plain": [
              "['sample_data/anscombe.json',\n",
              " 'sample_data/mnist_test.csv',\n",
              " 'sample_data/mnist_train_small.csv',\n",
              " 'sample_data/california_housing_train.csv']"
            ]
          },
          "metadata": {
            "tags": []
          },
          "execution_count": 34
        }
      ]
    },
    {
      "cell_type": "markdown",
      "metadata": {
        "id": "BDxMSvpyMQcv"
      },
      "source": [
        "Join Two Lists"
      ]
    },
    {
      "cell_type": "code",
      "metadata": {
        "colab": {
          "base_uri": "https://localhost:8080/"
        },
        "id": "ChW6pdI-Lja9",
        "outputId": "ad70a8db-7f44-4835-908a-6a23747682fe"
      },
      "source": [
        "fn = file_list + file_name_list\n",
        "fn"
      ],
      "execution_count": null,
      "outputs": [
        {
          "output_type": "execute_result",
          "data": {
            "text/plain": [
              "['sample_data/anscombe.json',\n",
              " 'sample_data/mnist_test.csv',\n",
              " 'sample_data/mnist_train_small.csv',\n",
              " 'sample_data/california_housing_train.csv',\n",
              " 'sample_data/anscombe.json',\n",
              " 'sample_data/README.md',\n",
              " 'sample_data/mnist_test.csv',\n",
              " 'sample_data/mnist_train_small.csv',\n",
              " 'sample_data/california_housing_train.csv',\n",
              " 'sample_data/california_housing_test.csv']"
            ]
          },
          "metadata": {
            "tags": []
          },
          "execution_count": 35
        }
      ]
    },
    {
      "cell_type": "code",
      "metadata": {
        "colab": {
          "base_uri": "https://localhost:8080/"
        },
        "id": "nURVBA_YL6rB",
        "outputId": "f75a370c-b2f4-4c82-b808-1407a0e5bfe3"
      },
      "source": [
        "fn.count('sample_data/anscombe.json')"
      ],
      "execution_count": null,
      "outputs": [
        {
          "output_type": "execute_result",
          "data": {
            "text/plain": [
              "2"
            ]
          },
          "metadata": {
            "tags": []
          },
          "execution_count": 36
        }
      ]
    },
    {
      "cell_type": "code",
      "metadata": {
        "colab": {
          "base_uri": "https://localhost:8080/"
        },
        "id": "hwwskiaSMy1I",
        "outputId": "dead27ed-d345-4afa-9307-b3c262b8f9c8"
      },
      "source": [
        "fn.count('sample_data/README.md')"
      ],
      "execution_count": null,
      "outputs": [
        {
          "output_type": "execute_result",
          "data": {
            "text/plain": [
              "1"
            ]
          },
          "metadata": {
            "tags": []
          },
          "execution_count": 37
        }
      ]
    },
    {
      "cell_type": "markdown",
      "metadata": {
        "id": "XawzK7t3NkLe"
      },
      "source": [
        "Sort Lists"
      ]
    },
    {
      "cell_type": "code",
      "metadata": {
        "id": "M6FD5Z-lM4-T"
      },
      "source": [
        "fn.sort()"
      ],
      "execution_count": null,
      "outputs": []
    },
    {
      "cell_type": "code",
      "metadata": {
        "colab": {
          "base_uri": "https://localhost:8080/"
        },
        "id": "EeiwLK7RYwHA",
        "outputId": "ece45314-d5b7-4095-bb71-9973c4274732"
      },
      "source": [
        "fn"
      ],
      "execution_count": null,
      "outputs": [
        {
          "output_type": "execute_result",
          "data": {
            "text/plain": [
              "['sample_data/README.md',\n",
              " 'sample_data/anscombe.json',\n",
              " 'sample_data/anscombe.json',\n",
              " 'sample_data/california_housing_test.csv',\n",
              " 'sample_data/california_housing_train.csv',\n",
              " 'sample_data/california_housing_train.csv',\n",
              " 'sample_data/mnist_test.csv',\n",
              " 'sample_data/mnist_test.csv',\n",
              " 'sample_data/mnist_train_small.csv',\n",
              " 'sample_data/mnist_train_small.csv']"
            ]
          },
          "metadata": {
            "tags": []
          },
          "execution_count": 39
        }
      ]
    },
    {
      "cell_type": "code",
      "metadata": {
        "id": "6Sf4OD0ONC_P"
      },
      "source": [
        "file_name_list.sort()"
      ],
      "execution_count": null,
      "outputs": []
    },
    {
      "cell_type": "code",
      "metadata": {
        "colab": {
          "base_uri": "https://localhost:8080/"
        },
        "id": "WZbyUv_0NuUr",
        "outputId": "4c6560a5-ff70-46a2-d386-37e08c262197"
      },
      "source": [
        "file_name_list"
      ],
      "execution_count": null,
      "outputs": [
        {
          "output_type": "execute_result",
          "data": {
            "text/plain": [
              "['sample_data/README.md',\n",
              " 'sample_data/anscombe.json',\n",
              " 'sample_data/california_housing_test.csv',\n",
              " 'sample_data/california_housing_train.csv',\n",
              " 'sample_data/mnist_test.csv',\n",
              " 'sample_data/mnist_train_small.csv']"
            ]
          },
          "metadata": {
            "tags": []
          },
          "execution_count": 41
        }
      ]
    },
    {
      "cell_type": "markdown",
      "metadata": {
        "id": "98GrL61INhTr"
      },
      "source": [
        "Use the range() and len() functions to create a suitable iterable."
      ]
    },
    {
      "cell_type": "code",
      "metadata": {
        "colab": {
          "base_uri": "https://localhost:8080/"
        },
        "id": "hY3nohbvNh_5",
        "outputId": "48c9fed8-2284-404d-a400-0886305091a9"
      },
      "source": [
        "print(list(range(10)))\n",
        "print(list(range(1,10)))\n",
        "print(list(range(1,10,2)))\n",
        "print(list(range(1,10, -1)))\n",
        "print(list(range(10,1, -1)))"
      ],
      "execution_count": null,
      "outputs": [
        {
          "output_type": "stream",
          "text": [
            "[0, 1, 2, 3, 4, 5, 6, 7, 8, 9]\n",
            "[1, 2, 3, 4, 5, 6, 7, 8, 9]\n",
            "[1, 3, 5, 7, 9]\n",
            "[]\n",
            "[10, 9, 8, 7, 6, 5, 4, 3, 2]\n"
          ],
          "name": "stdout"
        }
      ]
    },
    {
      "cell_type": "code",
      "metadata": {
        "colab": {
          "base_uri": "https://localhost:8080/"
        },
        "id": "nDcgIYSON4Yb",
        "outputId": "09addf3e-12ec-4e87-ffa3-679c8f984d8e"
      },
      "source": [
        "for i in range(len(fn)):\n",
        "    print(i)"
      ],
      "execution_count": null,
      "outputs": [
        {
          "output_type": "stream",
          "text": [
            "0\n",
            "1\n",
            "2\n",
            "3\n",
            "4\n",
            "5\n",
            "6\n",
            "7\n",
            "8\n",
            "9\n"
          ],
          "name": "stdout"
        }
      ]
    },
    {
      "cell_type": "markdown",
      "metadata": {
        "id": "yofxDFngPwSL"
      },
      "source": [
        "## 5. List Comprehension"
      ]
    },
    {
      "cell_type": "markdown",
      "metadata": {
        "id": "-frrGgMGQCMp"
      },
      "source": [
        "List comprehension offers a shorter syntax when you want to create a new list based on the values of an existing list.\n",
        "\n"
      ]
    },
    {
      "cell_type": "code",
      "metadata": {
        "colab": {
          "base_uri": "https://localhost:8080/"
        },
        "id": "opB8bdzSOj4B",
        "outputId": "527428d8-02b1-4a4b-885d-0b002fc6fcb4"
      },
      "source": [
        "fruits = [\"apple\", \"banana\", \"cherry\", \"kiwi\", \"mango\"]\n",
        "newlist = []\n",
        "\n",
        "for x in fruits:\n",
        "  if \"a\" in x:\n",
        "    newlist.append(x)\n",
        "\n",
        "print(newlist)"
      ],
      "execution_count": null,
      "outputs": [
        {
          "output_type": "stream",
          "text": [
            "['apple', 'banana', 'mango']\n"
          ],
          "name": "stdout"
        }
      ]
    },
    {
      "cell_type": "markdown",
      "metadata": {
        "id": "z8MWlAN6QQQw"
      },
      "source": [
        "With list comprehension you can do all that with only one line of code:"
      ]
    },
    {
      "cell_type": "code",
      "metadata": {
        "id": "-0Toasu3QPcZ",
        "colab": {
          "base_uri": "https://localhost:8080/"
        },
        "outputId": "39138991-2f4d-45a0-f480-9392b5c11ffe"
      },
      "source": [
        "fruits = [\"apple\", \"banana\", \"cherry\", \"kiwi\", \"mango\"]\n",
        "\n",
        "newlist = [x for x in fruits if \"a\" in x]\n",
        "\n",
        "print(newlist)"
      ],
      "execution_count": null,
      "outputs": [
        {
          "output_type": "stream",
          "text": [
            "['apple', 'banana', 'mango']\n"
          ],
          "name": "stdout"
        }
      ]
    },
    {
      "cell_type": "markdown",
      "metadata": {
        "id": "qGsSdrRtQbz4"
      },
      "source": [
        "List Comprehension Examples"
      ]
    },
    {
      "cell_type": "code",
      "metadata": {
        "id": "YMeRlGT_KcS7"
      },
      "source": [
        "ex_list = [ i*i for i in range(10)]"
      ],
      "execution_count": null,
      "outputs": []
    },
    {
      "cell_type": "code",
      "metadata": {
        "colab": {
          "base_uri": "https://localhost:8080/"
        },
        "id": "HygKZspfKmNb",
        "outputId": "0d4b394d-daee-4045-9aa2-cdd1553ec181"
      },
      "source": [
        "ex_list"
      ],
      "execution_count": null,
      "outputs": [
        {
          "output_type": "execute_result",
          "data": {
            "text/plain": [
              "[0, 1, 4, 9, 16, 25, 36, 49, 64, 81]"
            ]
          },
          "metadata": {
            "tags": []
          },
          "execution_count": 45
        }
      ]
    },
    {
      "cell_type": "code",
      "metadata": {
        "id": "IoGRtU3VKvvC"
      },
      "source": [
        "ex_list = [i*i for i in range(10) if i%2 ==1]"
      ],
      "execution_count": null,
      "outputs": []
    },
    {
      "cell_type": "code",
      "metadata": {
        "colab": {
          "base_uri": "https://localhost:8080/"
        },
        "id": "FG_FwjolK9Mh",
        "outputId": "b5275d4a-cc0f-4b26-f4ae-5f878098f6e0"
      },
      "source": [
        "ex_list"
      ],
      "execution_count": null,
      "outputs": [
        {
          "output_type": "execute_result",
          "data": {
            "text/plain": [
              "[1, 9, 25, 49, 81]"
            ]
          },
          "metadata": {
            "tags": []
          },
          "execution_count": 48
        }
      ]
    },
    {
      "cell_type": "code",
      "metadata": {
        "colab": {
          "base_uri": "https://localhost:8080/"
        },
        "id": "QC53l99yLFQv",
        "outputId": "170d1bde-f2c3-463a-f4e7-72e2aa3e9e40"
      },
      "source": [
        "seq1 = 'abc'; seq2 = (1,2,3)\n",
        "[(x,y) for x in seq1 for y in seq2]"
      ],
      "execution_count": null,
      "outputs": [
        {
          "output_type": "execute_result",
          "data": {
            "text/plain": [
              "[('a', 1),\n",
              " ('a', 2),\n",
              " ('a', 3),\n",
              " ('b', 1),\n",
              " ('b', 2),\n",
              " ('b', 3),\n",
              " ('c', 1),\n",
              " ('c', 2),\n",
              " ('c', 3)]"
            ]
          },
          "metadata": {
            "tags": []
          },
          "execution_count": 49
        }
      ]
    },
    {
      "cell_type": "code",
      "metadata": {
        "colab": {
          "base_uri": "https://localhost:8080/"
        },
        "id": "bl3mvBi0iNa9",
        "outputId": "efb4b1cc-bb9e-4279-f911-81446dfa204e"
      },
      "source": [
        "for i in seq1:\n",
        "    for j in seq2:\n",
        "        print(i,j)"
      ],
      "execution_count": null,
      "outputs": [
        {
          "output_type": "stream",
          "text": [
            "a 1\n",
            "a 2\n",
            "a 3\n",
            "b 1\n",
            "b 2\n",
            "b 3\n",
            "c 1\n",
            "c 2\n",
            "c 3\n"
          ],
          "name": "stdout"
        }
      ]
    },
    {
      "cell_type": "markdown",
      "metadata": {
        "id": "egobqSxzSif2"
      },
      "source": [
        "Convert list comprehensions to for loops."
      ]
    },
    {
      "cell_type": "code",
      "metadata": {
        "id": "akdxRrWCStuu"
      },
      "source": [
        ""
      ],
      "execution_count": null,
      "outputs": []
    }
  ]
}