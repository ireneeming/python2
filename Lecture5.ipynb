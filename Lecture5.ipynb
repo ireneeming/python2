{
  "nbformat": 4,
  "nbformat_minor": 0,
  "metadata": {
    "kernelspec": {
      "display_name": "Python 3",
      "language": "python",
      "name": "python3"
    },
    "language_info": {
      "codemirror_mode": {
        "name": "ipython",
        "version": 3
      },
      "file_extension": ".py",
      "mimetype": "text/x-python",
      "name": "python",
      "nbconvert_exporter": "python",
      "pygments_lexer": "ipython3",
      "version": "3.7.3"
    },
    "colab": {
      "name": "Lecture5.ipynb",
      "provenance": [],
      "collapsed_sections": [],
      "include_colab_link": true
    }
  },
  "cells": [
    {
      "cell_type": "markdown",
      "metadata": {
        "id": "view-in-github",
        "colab_type": "text"
      },
      "source": [
        "<a href=\"https://colab.research.google.com/github/taeheonkwon/python2/blob/main/Lecture5.ipynb\" target=\"_parent\"><img src=\"https://colab.research.google.com/assets/colab-badge.svg\" alt=\"Open In Colab\"/></a>"
      ]
    },
    {
      "cell_type": "markdown",
      "metadata": {
        "id": "Oi7EeiVL7VjS"
      },
      "source": [
        "***\n",
        "***\n",
        "# 리스트의 기초\n",
        "***\n",
        "***"
      ]
    },
    {
      "cell_type": "markdown",
      "metadata": {
        "id": "gHrb1cDN7Vjg"
      },
      "source": [
        "***\n",
        "## 1 리스트 생성 및 기본 연산\n",
        "***\n",
        "- 리스트: 시퀀스 자료형이면서 변경 가능(Mutable)\n",
        "- 리스트에서 지원하는 일반적인 연산\n",
        "  - 인덱싱, 슬라이싱, 연결, 반복, 멤버쉽 테스트"
      ]
    },
    {
      "cell_type": "code",
      "metadata": {
        "id": "o-0jOyhG7Vjh",
        "outputId": "20773304-b380-4b48-84c5-c6fa08f52539"
      },
      "source": [
        "l = []\n",
        "l = [1, 2, \"Great\"]\n",
        "print(l[0], l[-1])\n",
        "print(l[1:3], l[:])\n",
        "print()\n",
        "\n",
        "L = range(10)\n",
        "print(L[::2])\n",
        "print(list(L)[::2])\n",
        "print()\n",
        "\n",
        "print(l * 2)\n",
        "print(l + [3, 4, 5])\n",
        "print(len(l))\n",
        "print()\n",
        "print(4 in L)"
      ],
      "execution_count": null,
      "outputs": [
        {
          "output_type": "stream",
          "text": [
            "1 Great\n",
            "[2, 'Great'] [1, 2, 'Great']\n",
            "\n",
            "range(0, 10, 2)\n",
            "[0, 2, 4, 6, 8]\n",
            "\n",
            "[1, 2, 'Great', 1, 2, 'Great']\n",
            "[1, 2, 'Great', 3, 4, 5]\n",
            "3\n",
            "\n",
            "True\n"
          ],
          "name": "stdout"
        }
      ]
    },
    {
      "cell_type": "markdown",
      "metadata": {
        "id": "ZJbXo_hK7Vjk"
      },
      "source": [
        "- Mutable 특성을 지닌 리스트의 값 변경"
      ]
    },
    {
      "cell_type": "code",
      "metadata": {
        "id": "hIQk92ff7Vjk",
        "outputId": "fb30744e-1202-4ac6-fac3-1c4bb1e94bd6"
      },
      "source": [
        "a = ['spam', 'eggs', 100, 1234]\n",
        "a[2] = a[2] + 23\n",
        "print(a)"
      ],
      "execution_count": null,
      "outputs": [
        {
          "output_type": "stream",
          "text": [
            "['spam', 'eggs', 123, 1234]\n"
          ],
          "name": "stdout"
        }
      ]
    },
    {
      "cell_type": "markdown",
      "metadata": {
        "id": "wmbPOrdW7Vjl"
      },
      "source": [
        "- 리스트 원소에 대한 슬라이스 치환"
      ]
    },
    {
      "cell_type": "code",
      "metadata": {
        "id": "l4x0TNUx7Vjm",
        "outputId": "2230b4f0-acf3-4f8a-f5c1-6b7a8ac23f9c"
      },
      "source": [
        "a = ['spam', 'eggs', 123, 1234]\n",
        "a[0:2] = [1, 12] # 동일한 크기에 대한 슬라이스 치환\n",
        "print(a)\n",
        "\n",
        "a[0:2] = [1] # 서로 다른 크기에 대한 슬라이스 치환\n",
        "print(a)\n",
        "\n",
        "a[0:1] = [1, 2, 3] # 서로 다른 크기에 대한 슬라이스 치환\n",
        "print(a)"
      ],
      "execution_count": null,
      "outputs": [
        {
          "output_type": "stream",
          "text": [
            "[1, 12, 123, 1234]\n",
            "[1, 123, 1234]\n",
            "[1, 2, 3, 123, 1234]\n"
          ],
          "name": "stdout"
        }
      ]
    },
    {
      "cell_type": "markdown",
      "metadata": {
        "id": "cdyVffbz7Vjm"
      },
      "source": [
        "- 리스트 원소에 대한 슬라이스 삭제"
      ]
    },
    {
      "cell_type": "code",
      "metadata": {
        "id": "mgPu_pcz7Vjn",
        "outputId": "39d740eb-9998-46a9-a52b-b566b07de65d"
      },
      "source": [
        "a = [1, 12, 123, 1234]\n",
        "a[0:2] = []\n",
        "\n",
        "print(a)"
      ],
      "execution_count": null,
      "outputs": [
        {
          "output_type": "stream",
          "text": [
            "[123, 1234]\n"
          ],
          "name": "stdout"
        }
      ]
    },
    {
      "cell_type": "markdown",
      "metadata": {
        "id": "rlErHc1F7Vjo"
      },
      "source": [
        "- 리스트 원소 사이에 슬라이스 삽입"
      ]
    },
    {
      "cell_type": "code",
      "metadata": {
        "id": "3FXQzHZm7Vjo",
        "outputId": "3e08dd0f-3f6e-4e7c-b27b-afeba77e900e"
      },
      "source": [
        "a = [123, 1234]\n",
        "a[1:1] = ['spam', 'ham'] # 1번째 인덱스에 삽입\n",
        "print(a)\n",
        "\n",
        "b = [123, 1234]          \n",
        "b[1:2] = ['spam', 'ham'] # 1번째 원소에 대한 치환\n",
        "print(b)\n",
        "\n",
        "a[:0] = a # 리스트 맨 앞에 자기 자신을 삽입\n",
        "print(a)"
      ],
      "execution_count": null,
      "outputs": [
        {
          "output_type": "stream",
          "text": [
            "[123, 'spam', 'ham', 1234]\n",
            "[123, 'spam', 'ham']\n",
            "[123, 'spam', 'ham', 1234, 123, 'spam', 'ham', 1234]\n"
          ],
          "name": "stdout"
        }
      ]
    },
    {
      "cell_type": "markdown",
      "metadata": {
        "id": "xIzsBqwR7Vjp"
      },
      "source": [
        "- del을 이용한 리스트 요소 삭제"
      ]
    },
    {
      "cell_type": "code",
      "metadata": {
        "id": "93b4Uh3H7Vjq",
        "outputId": "fbb5d929-a132-4e4f-8be5-612a6c1592fb"
      },
      "source": [
        "a = [1, 2, 3, 4]\n",
        "del a[0]\n",
        "print(a)\n",
        "\n",
        "del a[1:]\n",
        "print(a)"
      ],
      "execution_count": null,
      "outputs": [
        {
          "output_type": "stream",
          "text": [
            "[2, 3, 4]\n",
            "[2]\n"
          ],
          "name": "stdout"
        }
      ]
    },
    {
      "cell_type": "code",
      "metadata": {
        "id": "-wvxqRPz7Vjq",
        "outputId": "da6d7c1a-e259-4120-db0c-21741ec3da02"
      },
      "source": [
        "# a = range(4)\n",
        "a = list(range(4))\n",
        "print(a)\n",
        "print(a[::2])\n",
        "\n",
        "del a[::2]\n",
        "print(a)"
      ],
      "execution_count": null,
      "outputs": [
        {
          "output_type": "stream",
          "text": [
            "[0, 1, 2, 3]\n",
            "[0, 2]\n",
            "[1, 3]\n"
          ],
          "name": "stdout"
        }
      ]
    },
    {
      "cell_type": "markdown",
      "metadata": {
        "id": "387rfizl7Vjr"
      },
      "source": [
        "- 리스트 자체에 대한 삭제\n",
        "  - 정확히는 리스트를 가리키는 레퍼런스를 지닌 변수 a 삭제"
      ]
    },
    {
      "cell_type": "code",
      "metadata": {
        "id": "M0KPcWG47Vjr",
        "outputId": "ced272ed-85f0-456e-ccda-9de5190daff7"
      },
      "source": [
        "a = range(5)\n",
        "del a\n",
        "print(a)"
      ],
      "execution_count": null,
      "outputs": [
        {
          "output_type": "error",
          "ename": "NameError",
          "evalue": "name 'a' is not defined",
          "traceback": [
            "\u001b[0;31m---------------------------------------------------------------------------\u001b[0m",
            "\u001b[0;31mNameError\u001b[0m                                 Traceback (most recent call last)",
            "\u001b[0;32m<ipython-input-10-a1e3c3afe17a>\u001b[0m in \u001b[0;36m<module>\u001b[0;34m()\u001b[0m\n\u001b[1;32m      1\u001b[0m \u001b[0ma\u001b[0m \u001b[0;34m=\u001b[0m \u001b[0mrange\u001b[0m\u001b[0;34m(\u001b[0m\u001b[0;36m5\u001b[0m\u001b[0;34m)\u001b[0m\u001b[0;34m\u001b[0m\u001b[0m\n\u001b[1;32m      2\u001b[0m \u001b[0;32mdel\u001b[0m \u001b[0ma\u001b[0m\u001b[0;34m\u001b[0m\u001b[0m\n\u001b[0;32m----> 3\u001b[0;31m \u001b[0mprint\u001b[0m\u001b[0;34m(\u001b[0m\u001b[0ma\u001b[0m\u001b[0;34m)\u001b[0m\u001b[0;34m\u001b[0m\u001b[0m\n\u001b[0m",
            "\u001b[0;31mNameError\u001b[0m: name 'a' is not defined"
          ]
        }
      ]
    },
    {
      "cell_type": "markdown",
      "metadata": {
        "id": "9ygaAVUz7Vjs"
      },
      "source": [
        "- 중첩 리스트: 리스트 안에 요소로서 리스트를 지닌 리스트"
      ]
    },
    {
      "cell_type": "code",
      "metadata": {
        "id": "8P6xwjLs7Vjs",
        "outputId": "ea76ff9a-033f-4500-e6e0-4d3477ec7445"
      },
      "source": [
        "s = [1, 2, 3]\n",
        "t = ['begin', s, 'end']\n",
        "print(t)\n",
        "\n",
        "print(t[1][1])"
      ],
      "execution_count": null,
      "outputs": [
        {
          "output_type": "stream",
          "text": [
            "['begin', [1, 2, 3], 'end']\n",
            "2\n"
          ],
          "name": "stdout"
        }
      ]
    },
    {
      "cell_type": "code",
      "metadata": {
        "id": "PBAi5TdI7Vjt",
        "outputId": "ee5b1ce0-3aa4-4fd2-8ab5-c5845ab23b3a"
      },
      "source": [
        "s[1] = 100\n",
        "print(t)"
      ],
      "execution_count": null,
      "outputs": [
        {
          "output_type": "stream",
          "text": [
            "['begin', [1, 100, 3], 'end']\n"
          ],
          "name": "stdout"
        }
      ]
    },
    {
      "cell_type": "code",
      "metadata": {
        "id": "xb7y4kaA7Vju",
        "outputId": "65280cd4-e500-4688-d37e-8e7f1539d23f"
      },
      "source": [
        "L = [1, ['a', ['x', 'y'], 'b'], 3]\n",
        "print(L[0])\n",
        "print(L[1])\n",
        "print(L[1][1])\n",
        "print(L[1][1][1])"
      ],
      "execution_count": null,
      "outputs": [
        {
          "output_type": "stream",
          "text": [
            "1\n",
            "['a', ['x', 'y'], 'b']\n",
            "['x', 'y']\n",
            "y\n"
          ],
          "name": "stdout"
        }
      ]
    },
    {
      "cell_type": "markdown",
      "metadata": {
        "id": "mXJB4vg37Vjv"
      },
      "source": [
        "- range: 순차적인 정수 리스트 생성 가능한 시퀀스형 range 객체 만들기"
      ]
    },
    {
      "cell_type": "code",
      "metadata": {
        "id": "3TKacGLI7Vjv",
        "outputId": "3cc9b3b8-968a-40f6-ba19-c35b8c66e433"
      },
      "source": [
        "print(range(10)) # 0(Included)부터 10(Excluded)까지\n",
        "\n",
        "print(range(5, 15)) # 5(Included)부터 15(Excluded)까지\n",
        "\n",
        "print(range(5, 15, 2)) # 0(Included)부터 10(Excluded)까지, Step: 2"
      ],
      "execution_count": null,
      "outputs": [
        {
          "output_type": "stream",
          "text": [
            "range(0, 10)\n",
            "range(5, 15)\n",
            "range(5, 15, 2)\n"
          ],
          "name": "stdout"
        }
      ]
    },
    {
      "cell_type": "code",
      "metadata": {
        "id": "b_OXGNpL7Vjx",
        "outputId": "3f0e6bcc-ba3f-4ed6-c9d5-b0ec3af808d7"
      },
      "source": [
        "print(list(range(10))) # 0(Included)부터 10(Excluded)까지\n",
        "\n",
        "print(list(range(5, 15))) # 5(Included)부터 15(Excluded)까지\n",
        "\n",
        "print(list(range(5, 15, 2))) # 0(Included)부터 10(Excluded)까지, Step: 2"
      ],
      "execution_count": null,
      "outputs": [
        {
          "output_type": "stream",
          "text": [
            "[0, 1, 2, 3, 4, 5, 6, 7, 8, 9]\n",
            "[5, 6, 7, 8, 9, 10, 11, 12, 13, 14]\n",
            "[5, 7, 9, 11, 13]\n"
          ],
          "name": "stdout"
        }
      ]
    },
    {
      "cell_type": "code",
      "metadata": {
        "id": "81_wOo0t7Vjy",
        "outputId": "284008f7-5edc-408d-d441-74ff8b2930bd"
      },
      "source": [
        "for el in range(10):\n",
        "    print(el, 'inch =', el * 2.54, 'centi')"
      ],
      "execution_count": null,
      "outputs": [
        {
          "output_type": "stream",
          "text": [
            "0 inch = 0.0 centi\n",
            "1 inch = 2.54 centi\n",
            "2 inch = 5.08 centi\n",
            "3 inch = 7.62 centi\n",
            "4 inch = 10.16 centi\n",
            "5 inch = 12.7 centi\n",
            "6 inch = 15.24 centi\n",
            "7 inch = 17.78 centi\n",
            "8 inch = 20.32 centi\n",
            "9 inch = 22.86 centi\n"
          ],
          "name": "stdout"
        }
      ]
    },
    {
      "cell_type": "markdown",
      "metadata": {
        "id": "3dRqIN9u7Vj6"
      },
      "source": [
        "- 리스트 안의 각 자료가 튜플일 때 for 문을 사용하여 값 추출 방법"
      ]
    },
    {
      "cell_type": "code",
      "metadata": {
        "id": "uaVKV3zF7Vj7",
        "outputId": "28b9565d-6047-45ed-ded9-1748874aa11d"
      },
      "source": [
        "lt = [('one', 1), ('two', 2), ('three', 3)]\n",
        "for t in lt:\n",
        "    print('name = {0}, num = {1}'.format(t[0], t[1]))"
      ],
      "execution_count": null,
      "outputs": [
        {
          "output_type": "stream",
          "text": [
            "name = one, num = 1\n",
            "name = two, num = 2\n",
            "name = three, num = 3\n"
          ],
          "name": "stdout"
        }
      ]
    },
    {
      "cell_type": "markdown",
      "metadata": {
        "id": "TE6TmFFa7Vj8"
      },
      "source": [
        "- for 문의 헤더에서 각 튜플의 값 추출"
      ]
    },
    {
      "cell_type": "code",
      "metadata": {
        "id": "fCDBeBsS7Vj8",
        "outputId": "758ea20c-36ae-4b1f-befc-63e493e17188"
      },
      "source": [
        "lt = [('one', 1), ('two', 2), ('three', 3)]\n",
        "for name, num in lt:\n",
        "    print(name, num)"
      ],
      "execution_count": null,
      "outputs": [
        {
          "output_type": "stream",
          "text": [
            "one 1\n",
            "two 2\n",
            "three 3\n"
          ],
          "name": "stdout"
        }
      ]
    },
    {
      "cell_type": "markdown",
      "metadata": {
        "id": "mTVmJ6VI7Vj8"
      },
      "source": [
        "- 리스트 안의 각 자료가 리스트여도 for 문의 헤더에서 동일하게 값 추출 가능"
      ]
    },
    {
      "cell_type": "code",
      "metadata": {
        "id": "eorWosec7Vj9",
        "outputId": "dfd8f817-0867-4d85-9ec4-473872417109"
      },
      "source": [
        "LL = [['one', 1], ['two', 2], ['three', 3]]\n",
        "for name, num in LL:\n",
        "    print(name, num)"
      ],
      "execution_count": null,
      "outputs": [
        {
          "output_type": "stream",
          "text": [
            "one 1\n",
            "two 2\n",
            "three 3\n"
          ],
          "name": "stdout"
        }
      ]
    },
    {
      "cell_type": "markdown",
      "metadata": {
        "id": "s1vuGa3K7Vj9"
      },
      "source": [
        "***\n",
        "## 2 리스트 메소드\n",
        "***"
      ]
    },
    {
      "cell_type": "markdown",
      "metadata": {
        "id": "1niYEW8K7Vj-"
      },
      "source": [
        "### 2-1 리스트가 지원하는 메소드"
      ]
    },
    {
      "cell_type": "code",
      "metadata": {
        "id": "GUtJ6AH77Vj-",
        "outputId": "99f1666b-acd6-4dc9-cee3-9e0b1eab41d6"
      },
      "source": [
        "s = [1, 2, 3]\n",
        "\n",
        "s.append(5) # 리스트 맨 마지막에 정수 값 5 추가\n",
        "print(s)\n",
        "\n",
        "s.insert(3, 4) # 3 인덱스 위치에 정수 값 4 추가\n",
        "print(s)"
      ],
      "execution_count": null,
      "outputs": [
        {
          "output_type": "stream",
          "text": [
            "[1, 2, 3, 5]\n",
            "[1, 2, 3, 4, 5]\n"
          ],
          "name": "stdout"
        }
      ]
    },
    {
      "cell_type": "code",
      "metadata": {
        "id": "9vqoz9mk7Vj_",
        "outputId": "761fe679-cc09-45f7-e07e-58dcc25ad004"
      },
      "source": [
        "s = [1, 2, 3, 4, 5]\n",
        "\n",
        "print(s.index(3))        # 값 3의 인덱스 반환\n",
        "\n",
        "print(s.count(2))        # 값 2의 개수 반환\n",
        "\n",
        "s = [1, 2, 2, 2, 2, 2, 3, 4, 5]\n",
        "print(s.count(2))"
      ],
      "execution_count": null,
      "outputs": [
        {
          "output_type": "stream",
          "text": [
            "2\n",
            "1\n",
            "5\n"
          ],
          "name": "stdout"
        }
      ]
    },
    {
      "cell_type": "code",
      "metadata": {
        "id": "6DBObqYu7VkA",
        "outputId": "2c8f2033-4212-4044-a903-2a59321a2e8a"
      },
      "source": [
        "s = [1, 2, -10, -7, 100]\n",
        "k = s.reverse() # 자료의 순서를 뒤집기 (반환값 없음 --> 리스트 자체의 내부 원소 배열이 변경됨)   \n",
        "print(k)\n",
        "print(s)\n",
        "\n",
        "k = s.sort() # 정렬 (반환값 없음 --> 리스트 자체의 내부 원소 배열이 변경됨)\n",
        "print(k)\n",
        "print(s)"
      ],
      "execution_count": null,
      "outputs": [
        {
          "output_type": "stream",
          "text": [
            "None\n",
            "[100, -7, -10, 2, 1]\n",
            "None\n",
            "[-10, -7, 1, 2, 100]\n"
          ],
          "name": "stdout"
        }
      ]
    },
    {
      "cell_type": "code",
      "metadata": {
        "id": "ZOjNBEnw7VkB",
        "outputId": "cee7531e-64be-4e39-f172-8e41e9ee8271"
      },
      "source": [
        "s = [10, 20, 30, 40, 50]\n",
        "s.remove(10) # 자료 값 10 삭제\n",
        "print(s)\n",
        "\n",
        "s = [10, 20, 30, 20, 40, 50] # 자료 값이 여러개 존재하면 첫번째 것만 삭제\n",
        "s.remove(20)\n",
        "print(s)\n",
        "\n",
        "s.extend([60, 70]) # 새로운 리스트 [60, 70]를 기존 리스트 s 뒤에 병합\n",
        "print(s)\n",
        "\n",
        "s.append([60, 70]) # 주의: append로 새로운 리스트를 추가하면 하나의 자료 요소로서 추가\n",
        "print(s)"
      ],
      "execution_count": null,
      "outputs": [
        {
          "output_type": "stream",
          "text": [
            "[20, 30, 40, 50]\n",
            "[10, 30, 20, 40, 50]\n",
            "[10, 30, 20, 40, 50, 60, 70]\n",
            "[10, 30, 20, 40, 50, 60, 70, [60, 70]]\n"
          ],
          "name": "stdout"
        }
      ]
    },
    {
      "cell_type": "markdown",
      "metadata": {
        "id": "UdWzWDzB7VkF"
      },
      "source": [
        "<p style='text-align: right;'>참고 문헌: 파이썬(열혈강의)(개정판 VER.2), 이강성, FreeLec, 2005년 8월 29일</p>"
      ]
    }
  ]
}