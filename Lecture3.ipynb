{
  "nbformat": 4,
  "nbformat_minor": 0,
  "metadata": {
    "colab": {
      "name": "Lecture3.ipynb",
      "provenance": [],
      "collapsed_sections": [],
      "authorship_tag": "ABX9TyNkqAIvwWn4S9yl5nD91PKL",
      "include_colab_link": true
    },
    "kernelspec": {
      "name": "python3",
      "display_name": "Python 3"
    }
  },
  "cells": [
    {
      "cell_type": "markdown",
      "metadata": {
        "id": "view-in-github",
        "colab_type": "text"
      },
      "source": [
        "<a href=\"https://colab.research.google.com/github/taeheonkwon/python2/blob/main/Lecture3.ipynb\" target=\"_parent\"><img src=\"https://colab.research.google.com/assets/colab-badge.svg\" alt=\"Open In Colab\"/></a>"
      ]
    },
    {
      "cell_type": "markdown",
      "metadata": {
        "id": "SxfmOjWTAS60"
      },
      "source": [
        ">## Loops\n",
        ">\n",
        "> A for loop is used for iterating over a sequence (that is either a list, a tuple, a dictionary, a set, or a string)."
      ]
    },
    {
      "cell_type": "code",
      "metadata": {
        "colab": {
          "base_uri": "https://localhost:8080/"
        },
        "id": "lRR698_IAV9W",
        "outputId": "7a6ca620-be0b-4213-ef42-153e84f8f3bf"
      },
      "source": [
        "a = {1, 2, 3}\n",
        "for i in a:\n",
        "    print(i)"
      ],
      "execution_count": null,
      "outputs": [
        {
          "output_type": "stream",
          "text": [
            "1\n",
            "2\n",
            "3\n"
          ],
          "name": "stdout"
        }
      ]
    },
    {
      "cell_type": "code",
      "metadata": {
        "colab": {
          "base_uri": "https://localhost:8080/"
        },
        "id": "xy-DhBXrAvLg",
        "outputId": "75a431dc-4c38-4408-d6f1-97eacd3d1cc3"
      },
      "source": [
        "fruits = [\"apple\", \"banana\", \"cherry\"]\n",
        "for x in fruits:\n",
        "  print(x)\n"
      ],
      "execution_count": null,
      "outputs": [
        {
          "output_type": "stream",
          "text": [
            "apple\n",
            "banana\n",
            "cherry\n"
          ],
          "name": "stdout"
        }
      ]
    },
    {
      "cell_type": "code",
      "metadata": {
        "colab": {
          "base_uri": "https://localhost:8080/"
        },
        "id": "7KUhLfrWBIyz",
        "outputId": "fc7796eb-cc88-41e4-ad72-7844010953b7"
      },
      "source": [
        "for x in \"banana\":\n",
        "  print(x)"
      ],
      "execution_count": null,
      "outputs": [
        {
          "output_type": "stream",
          "text": [
            "b\n",
            "a\n",
            "n\n",
            "a\n",
            "n\n",
            "a\n"
          ],
          "name": "stdout"
        }
      ]
    },
    {
      "cell_type": "code",
      "metadata": {
        "colab": {
          "base_uri": "https://localhost:8080/"
        },
        "id": "DhwkqnZOz90A",
        "outputId": "c48ac49f-9fc5-4649-8fed-cbd3fe7621c9"
      },
      "source": [
        "range(10)"
      ],
      "execution_count": null,
      "outputs": [
        {
          "output_type": "execute_result",
          "data": {
            "text/plain": [
              "range(0, 10)"
            ]
          },
          "metadata": {
            "tags": []
          },
          "execution_count": 2
        }
      ]
    },
    {
      "cell_type": "code",
      "metadata": {
        "colab": {
          "base_uri": "https://localhost:8080/"
        },
        "id": "SMvor7C00D93",
        "outputId": "8cd70c5e-6a7e-4590-d683-640d12cb9409"
      },
      "source": [
        "for x in range(10):\n",
        "    print(x, end = ' ' )"
      ],
      "execution_count": null,
      "outputs": [
        {
          "output_type": "stream",
          "text": [
            "0 1 2 3 4 5 6 7 8 9 "
          ],
          "name": "stdout"
        }
      ]
    },
    {
      "cell_type": "code",
      "metadata": {
        "colab": {
          "base_uri": "https://localhost:8080/"
        },
        "id": "WCs6M7dO0NpL",
        "outputId": "feffece9-e69a-4592-dec4-8d7d78473b11"
      },
      "source": [
        "acc = 0\n",
        "for x in range(1,11):\n",
        "    acc += x\n",
        "\n",
        "print(acc)"
      ],
      "execution_count": null,
      "outputs": [
        {
          "output_type": "stream",
          "text": [
            "55\n"
          ],
          "name": "stdout"
        }
      ]
    },
    {
      "cell_type": "code",
      "metadata": {
        "colab": {
          "base_uri": "https://localhost:8080/"
        },
        "id": "2fj7jfjs0fkh",
        "outputId": "0518e758-705c-49bc-e8be-03e0bf16cbda"
      },
      "source": [
        "sum(range(1,11))"
      ],
      "execution_count": null,
      "outputs": [
        {
          "output_type": "execute_result",
          "data": {
            "text/plain": [
              "55"
            ]
          },
          "metadata": {
            "tags": []
          },
          "execution_count": 8
        }
      ]
    },
    {
      "cell_type": "code",
      "metadata": {
        "colab": {
          "base_uri": "https://localhost:8080/"
        },
        "id": "j55NO7vN0vl_",
        "outputId": "fb435676-0596-4773-e620-72b5d124aa9c"
      },
      "source": [
        "for inum, item in enumerate(range(1,11)):\n",
        "    item +=100\n",
        "    print(inum, item)"
      ],
      "execution_count": null,
      "outputs": [
        {
          "output_type": "stream",
          "text": [
            "0 101\n",
            "1 102\n",
            "2 103\n",
            "3 104\n",
            "4 105\n",
            "5 106\n",
            "6 107\n",
            "7 108\n",
            "8 109\n",
            "9 110\n"
          ],
          "name": "stdout"
        }
      ]
    },
    {
      "cell_type": "markdown",
      "metadata": {
        "id": "MTsNSMQqy__V"
      },
      "source": [
        "- With the break statement we can stop the loop before it has looped through all the items \n",
        "\n",
        "- With the continue statement we can stop the current iteration of the loop, and continue with the next\n",
        "\n"
      ]
    },
    {
      "cell_type": "markdown",
      "metadata": {
        "id": "TYpStaNsBX9H"
      },
      "source": [
        "![continue_break.png](data:image/png;base64,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)"
      ]
    },
    {
      "cell_type": "code",
      "metadata": {
        "colab": {
          "base_uri": "https://localhost:8080/"
        },
        "id": "bZIbukQhBMeB",
        "outputId": "7689229b-c94f-40ea-d582-af2f3f4a69a6"
      },
      "source": [
        "fruits = [\"apple\", \"banana\", \"cherry\"]\n",
        "for x in fruits:\n",
        "  print(x)\n",
        "  if x == \"banana\":\n",
        "    break"
      ],
      "execution_count": null,
      "outputs": [
        {
          "output_type": "stream",
          "text": [
            "apple\n",
            "banana\n"
          ],
          "name": "stdout"
        }
      ]
    },
    {
      "cell_type": "code",
      "metadata": {
        "colab": {
          "base_uri": "https://localhost:8080/"
        },
        "id": "cgll5h8HBQrN",
        "outputId": "c83805e8-86da-4773-b0ec-79369840bfb3"
      },
      "source": [
        "fruits = [\"apple\", \"banana\", \"cherry\"]\n",
        "for x in fruits:\n",
        "  if x == \"banana\":\n",
        "    break\n",
        "  print(x)"
      ],
      "execution_count": null,
      "outputs": [
        {
          "output_type": "stream",
          "text": [
            "apple\n"
          ],
          "name": "stdout"
        }
      ]
    },
    {
      "cell_type": "code",
      "metadata": {
        "colab": {
          "base_uri": "https://localhost:8080/"
        },
        "id": "KM2IsuQVy9kb",
        "outputId": "609e654c-b245-4f7c-b2e7-68da0174f46a"
      },
      "source": [
        "for x in range(10):\n",
        "    if x < 8:\n",
        "        continue\n",
        "    print(x)\n",
        "print('done')"
      ],
      "execution_count": null,
      "outputs": [
        {
          "output_type": "stream",
          "text": [
            "8\n",
            "9\n",
            "done\n"
          ],
          "name": "stdout"
        }
      ]
    },
    {
      "cell_type": "code",
      "metadata": {
        "colab": {
          "base_uri": "https://localhost:8080/"
        },
        "id": "2AVAORU71LmB",
        "outputId": "0bdf5120-b3ed-43b4-9ae7-5dc553de6b5e"
      },
      "source": [
        "for x in range(10):\n",
        "    print(x, end=' ')\n",
        "else:\n",
        "    print('else block')\n",
        "print('done')"
      ],
      "execution_count": null,
      "outputs": [
        {
          "output_type": "stream",
          "text": [
            "0 1 2 3 4 5 6 7 8 9 else block\n",
            "done\n"
          ],
          "name": "stdout"
        }
      ]
    },
    {
      "cell_type": "code",
      "metadata": {
        "colab": {
          "base_uri": "https://localhost:8080/"
        },
        "id": "2WxctsmH1Zen",
        "outputId": "2fd7bb1c-85fa-4f50-da02-83795eefddb5"
      },
      "source": [
        "for x in range(2,4):\n",
        "    for y in range(1,10):\n",
        "        print(x, '*', y, '=', x*y)\n",
        "        #print(x, y)\n",
        "    print()"
      ],
      "execution_count": null,
      "outputs": [
        {
          "output_type": "stream",
          "text": [
            "2 1\n",
            "2 2\n",
            "2 3\n",
            "2 4\n",
            "2 5\n",
            "2 6\n",
            "2 7\n",
            "2 8\n",
            "2 9\n",
            "\n",
            "3 1\n",
            "3 2\n",
            "3 3\n",
            "3 4\n",
            "3 5\n",
            "3 6\n",
            "3 7\n",
            "3 8\n",
            "3 9\n",
            "\n"
          ],
          "name": "stdout"
        }
      ]
    },
    {
      "cell_type": "markdown",
      "metadata": {
        "id": "lAiKX9WJ38OM"
      },
      "source": [
        "With the while loop we can execute a set of statements as long as a condition is true.\n",
        "\n"
      ]
    },
    {
      "cell_type": "code",
      "metadata": {
        "colab": {
          "base_uri": "https://localhost:8080/"
        },
        "id": "3m8tYN181vh3",
        "outputId": "b5095b66-cfe0-49ad-ae95-469b8e3a5aa7"
      },
      "source": [
        "i = 1\n",
        "while i < 6:\n",
        "  print(i)\n",
        "  i += 1"
      ],
      "execution_count": null,
      "outputs": [
        {
          "output_type": "stream",
          "text": [
            "1\n",
            "2\n",
            "3\n",
            "4\n",
            "5\n"
          ],
          "name": "stdout"
        }
      ]
    },
    {
      "cell_type": "code",
      "metadata": {
        "colab": {
          "base_uri": "https://localhost:8080/"
        },
        "id": "ib98Z3mJ4D-r",
        "outputId": "b0139e98-0dfa-4cf2-e367-7a3cb439dc99"
      },
      "source": [
        "i = 1\n",
        "while i < 6:\n",
        "  print(i)\n",
        "  if i == 3:\n",
        "    break\n",
        "  i += 1"
      ],
      "execution_count": null,
      "outputs": [
        {
          "output_type": "stream",
          "text": [
            "1\n",
            "2\n",
            "3\n"
          ],
          "name": "stdout"
        }
      ]
    },
    {
      "cell_type": "code",
      "metadata": {
        "colab": {
          "base_uri": "https://localhost:8080/"
        },
        "id": "HPaC1ldZ4Lor",
        "outputId": "3bcc563e-8d5f-4392-ae7e-1602d11067c7"
      },
      "source": [
        "i = 0\n",
        "while i < 6:\n",
        "  i += 1\n",
        "  if i == 3:\n",
        "    continue\n",
        "  print(i)"
      ],
      "execution_count": null,
      "outputs": [
        {
          "output_type": "stream",
          "text": [
            "1\n",
            "2\n",
            "4\n",
            "5\n",
            "6\n"
          ],
          "name": "stdout"
        }
      ]
    },
    {
      "cell_type": "code",
      "metadata": {
        "colab": {
          "base_uri": "https://localhost:8080/"
        },
        "id": "t4MW2jiW4PNq",
        "outputId": "57de9820-b5be-4335-aea8-3fa6a2453276"
      },
      "source": [
        "i = 1\n",
        "while i < 6:\n",
        "  print(i)\n",
        "  i += 1\n",
        "else:\n",
        "  print(\"i is no longer less than 6\")"
      ],
      "execution_count": null,
      "outputs": [
        {
          "output_type": "stream",
          "text": [
            "1\n",
            "2\n",
            "3\n",
            "4\n",
            "5\n",
            "i is no longer less than 6\n"
          ],
          "name": "stdout"
        }
      ]
    },
    {
      "cell_type": "markdown",
      "metadata": {
        "id": "Yhi5H2sGglcK"
      },
      "source": [
        "# Appendix\n",
        "\n",
        "- Introduction to Programming in Python (Robert Sedgewick, Kevin Wayne, Robert Dondero, 강권학 옮김, 길벗 출판사)\n",
        "- \" A data type is a set of values and a set of operations defined on those values. \"\n",
        "- \"A literal is a Python-code representation of a data-type value.\""
      ]
    },
    {
      "cell_type": "code",
      "metadata": {
        "id": "w5EdrsXChB6K"
      },
      "source": [
        ""
      ],
      "execution_count": null,
      "outputs": []
    }
  ]
}